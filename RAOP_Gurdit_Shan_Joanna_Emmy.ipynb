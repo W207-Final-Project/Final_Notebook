{
 "cells": [
  {
   "cell_type": "markdown",
   "metadata": {},
   "source": [
    "# W207 Final Project - \"Random Acts of Pizza\"\n",
    "### Predicting altruism through free pizza\n",
    "\n",
    "#### Team Members: Gurdit Chahal, Shan He, Joanna Huang,  Emmy Lau"
   ]
  },
  {
   "cell_type": "markdown",
   "metadata": {},
   "source": [
    "#### Table of Contents\n",
    "\n",
    "1. Introduction\n",
    "2. Exploratory Data Analysis\n",
    "3. Baseline\n",
    "4. Feature Engineering & Model Selection \n",
    "5. Error Analysis\n",
    "6. Conclusion\n",
    "7. Appendix"
   ]
  },
  {
   "cell_type": "markdown",
   "metadata": {},
   "source": [
    "## 1. Introduction"
   ]
  },
  {
   "cell_type": "markdown",
   "metadata": {},
   "source": [
    "The Random Acts of Pizza subreddit is a place where people post and request free pizza from others on the Internet. In this project, our objective is to create a model that predicts whether or not a request will receive pizza using the provided dataset of 5671 requests collected from the Reddit community Random Acts of Pizza between December 8, 2010 and September 29, 2013. The data was collected and graciously shared by Althoff et al (http://www.timalthoff.com/).\n",
    "\n",
    "Our final model is a combination of models trained on various textual and meta-data features, including information such as: time of the request, activity of the requester, and community-age of the request.  It uses concepts presented in this paper: Tim Althoff, Cristian Danescu-Niculescu-Mizil, Dan Jurafsky. How to Ask for a Favor: A Case Study on the Success of Altruistic Requests, Proceedings of ICWSM, 2014. (https://cs.stanford.edu/~althoff/raop-dataset/altruistic_requests_icwsm.pdf)"
   ]
  },
  {
   "cell_type": "markdown",
   "metadata": {},
   "source": [
    "### Initialize packages and load  data"
   ]
  },
  {
   "cell_type": "code",
   "execution_count": 1,
   "metadata": {},
   "outputs": [
    {
     "name": "stderr",
     "output_type": "stream",
     "text": [
      "/Users/shanhe/anaconda3/lib/python3.6/site-packages/sklearn/cross_validation.py:41: DeprecationWarning: This module was deprecated in version 0.18 in favor of the model_selection module into which all the refactored classes and functions are moved. Also note that the interface of the new CV iterators are different from that of this module. This module will be removed in 0.20.\n",
      "  \"This module will be removed in 0.20.\", DeprecationWarning)\n",
      "/Users/shanhe/anaconda3/lib/python3.6/site-packages/sklearn/grid_search.py:42: DeprecationWarning: This module was deprecated in version 0.18 in favor of the model_selection module into which all the refactored classes and functions are moved. This module will be removed in 0.20.\n",
      "  DeprecationWarning)\n"
     ]
    }
   ],
   "source": [
    "%matplotlib inline\n",
    "\n",
    "# do not display warnings\n",
    "import warnings\n",
    "warnings.filterwarnings('ignore')\n",
    "\n",
    "import re\n",
    "import numpy as np\n",
    "import pandas as pd\n",
    "import os\n",
    "import string\n",
    "import time\n",
    "import datetime\n",
    "from collections import Counter\n",
    "\n",
    "# EDA plotting\n",
    "import seaborn as sns\n",
    "import matplotlib.pyplot as plt\n",
    "from wordcloud import WordCloud\n",
    "\n",
    "# SK-learn libraries for learning.\n",
    "from sklearn.pipeline import Pipeline\n",
    "from sklearn.neighbors import KNeighborsClassifier\n",
    "from sklearn.linear_model import LogisticRegression\n",
    "from sklearn.naive_bayes import BernoulliNB\n",
    "from sklearn.naive_bayes import MultinomialNB\n",
    "from sklearn.grid_search import GridSearchCV\n",
    "from sklearn.ensemble import RandomForestClassifier as RF\n",
    "from sklearn.svm import SVC\n",
    "from sklearn.svm import LinearSVC as LSVC\n",
    "from sklearn.decomposition import TruncatedSVD as TSVD\n",
    "from sklearn.decomposition import PCA\n",
    "from scipy.sparse import hstack\n",
    "from sklearn.feature_selection import SelectFromModel\n",
    "from sklearn.preprocessing import StandardScaler\n",
    "from sklearn.decomposition import LatentDirichletAllocation as LDA\n",
    "import gensim\n",
    "from gensim import utils\n",
    "import xgboost as xgb\n",
    "\n",
    "\n",
    "#for sparse matrix operation\n",
    "from scipy.sparse import vstack\n",
    "\n",
    "# SK-learn libraries for evaluation.\n",
    "from sklearn.metrics import confusion_matrix\n",
    "from sklearn import metrics\n",
    "from sklearn.metrics import classification_report\n",
    "from sklearn.metrics import roc_auc_score\n",
    "from sklearn.metrics import roc_curve\n",
    "from sklearn.metrics import auc\n",
    "\n",
    "# SK-learn libraries for feature extraction from text.\n",
    "from sklearn.feature_extraction.text import *\n",
    "\n",
    "# SK-learn libraries for model selection \n",
    "from sklearn.model_selection import train_test_split\n",
    "from sklearn.model_selection import StratifiedKFold\n",
    "from sklearn.model_selection import GridSearchCV\n",
    "\n",
    "# json libraries to parse json file\n",
    "import json\n",
    "from pandas.io.json import json_normalize\n",
    "\n"
   ]
  },
  {
   "cell_type": "code",
   "execution_count": 2,
   "metadata": {},
   "outputs": [
    {
     "name": "stdout",
     "output_type": "stream",
     "text": [
      "Train shape:  (4040, 32)\n",
      "Test shape:  (1631, 17)\n"
     ]
    }
   ],
   "source": [
    "# Read json file\n",
    "train_json = json.load(open('train.json'))\n",
    "\n",
    "# Normalize data and put in a dataframe\n",
    "train_json_df = json_normalize(train_json)\n",
    "\n",
    "# Extract output labels. 0 means the user doesn't receive pizza & 1 means the user receives pizza\n",
    "train_labels = train_json_df.requester_received_pizza.astype(int).as_matrix()\n",
    "\n",
    "# Read json file\n",
    "test_json = json.load(open('test.json'))\n",
    "\n",
    "# Normalize data and put in a dataframe\n",
    "test_json_df = json_normalize(test_json)\n",
    "\n",
    "print(\"Train shape: \", train_json_df.shape)\n",
    "print(\"Test shape: \", test_json_df.shape)"
   ]
  },
  {
   "cell_type": "markdown",
   "metadata": {},
   "source": [
    "Based on the observed shapes of the two datasets, there appears to be a discrepancy with the training set having 32 columns and the test set only having 17. We take a closer look to better understand the reason behind this discrepancy."
   ]
  },
  {
   "cell_type": "code",
   "execution_count": 3,
   "metadata": {},
   "outputs": [
    {
     "name": "stdout",
     "output_type": "stream",
     "text": [
      "Columns in Train but not Test:\n",
      " {'request_number_of_comments_at_retrieval', 'requester_user_flair', 'requester_upvotes_plus_downvotes_at_retrieval', 'requester_number_of_posts_on_raop_at_retrieval', 'number_of_downvotes_of_request_at_retrieval', 'requester_received_pizza', 'requester_number_of_comments_in_raop_at_retrieval', 'post_was_edited', 'requester_account_age_in_days_at_retrieval', 'requester_days_since_first_post_on_raop_at_retrieval', 'requester_upvotes_minus_downvotes_at_retrieval', 'request_text', 'number_of_upvotes_of_request_at_retrieval', 'requester_number_of_posts_at_retrieval', 'requester_number_of_comments_at_retrieval'}\n",
      "\n",
      "Columns in Test but not Train: set()\n",
      "\n",
      "Columns common to Test and Train: {'requester_number_of_posts_on_raop_at_request', 'giver_username_if_known', 'requester_upvotes_plus_downvotes_at_request', 'requester_days_since_first_post_on_raop_at_request', 'requester_username', 'unix_timestamp_of_request_utc', 'request_title', 'requester_number_of_subreddits_at_request', 'unix_timestamp_of_request', 'requester_number_of_posts_at_request', 'requester_number_of_comments_in_raop_at_request', 'request_text_edit_aware', 'requester_number_of_comments_at_request', 'requester_subreddits_at_request', 'request_id', 'requester_upvotes_minus_downvotes_at_request', 'requester_account_age_in_days_at_request'}\n"
     ]
    }
   ],
   "source": [
    "# Print out columns that are only in the train dataset\n",
    "train_only_columns = set(train_json_df.columns.values)-set(test_json_df.columns.values)\n",
    "print(\"Columns in Train but not Test:\\n\",train_only_columns)\n",
    "\n",
    "# Print out columns that are only in the test dataset\n",
    "test_only_columns = set(test_json_df.columns.values)-set(train_json_df.columns.values)\n",
    "print(\"\\nColumns in Test but not Train:\",test_only_columns)\n",
    "print(\"\\nColumns common to Test and Train:\",set(test_json_df.columns.values))"
   ]
  },
  {
   "cell_type": "markdown",
   "metadata": {},
   "source": [
    "**Details on the additional columns in the train set:**\n",
    "\n",
    "* request_text/post_was_edited: Since posts are often edited after a successful request, this request_text column is not the most accurate. Instead, request_text_edit_aware, which is available in both the train and test sets, will be used. This edit aware version of \"request_text\" strips edited comments indicating the success of the request.\n",
    "\n",
    "* *_at_retrieval: For our purposes of real-time prediction, _at_request columns are more relevant.\n",
    "\n",
    "* requester_user_flair: This is a post-receipt of pizza feature and thus will not be a useful indicator of results.\n",
    "\n",
    "* requester_received_pizza: To be predicted\n",
    "\n",
    "For these reasons, we will move forward with only the columns in both the train and test set. "
   ]
  },
  {
   "cell_type": "code",
   "execution_count": 4,
   "metadata": {},
   "outputs": [],
   "source": [
    "# Create new dataframe with only the shared columns\n",
    "train_w_test = train_json_df[test_json_df.columns.values]"
   ]
  },
  {
   "cell_type": "markdown",
   "metadata": {},
   "source": [
    "** Split the training data into training data and dev data **\n",
    "\n",
    "We will use 80% of our training data for exploratory data analysis, feature engineering and model training while the remaining 20% will be set aside as our development data set."
   ]
  },
  {
   "cell_type": "code",
   "execution_count": 5,
   "metadata": {},
   "outputs": [],
   "source": [
    "train_data, dev_data, train_labels, dev_labels = \\\n",
    "            train_test_split(train_w_test, train_labels, test_size=0.2, random_state=12)\n"
   ]
  },
  {
   "cell_type": "markdown",
   "metadata": {},
   "source": [
    "## 2. Exploratory Data Analysis\n",
    "We'll first take a look at the non-text metadata."
   ]
  },
  {
   "cell_type": "code",
   "execution_count": 6,
   "metadata": {},
   "outputs": [
    {
     "data": {
      "text/html": [
       "<div>\n",
       "<style scoped>\n",
       "    .dataframe tbody tr th:only-of-type {\n",
       "        vertical-align: middle;\n",
       "    }\n",
       "\n",
       "    .dataframe tbody tr th {\n",
       "        vertical-align: top;\n",
       "    }\n",
       "\n",
       "    .dataframe thead th {\n",
       "        text-align: right;\n",
       "    }\n",
       "</style>\n",
       "<table border=\"1\" class=\"dataframe\">\n",
       "  <thead>\n",
       "    <tr style=\"text-align: right;\">\n",
       "      <th></th>\n",
       "      <th>requester_account_age_in_days_at_request</th>\n",
       "      <th>requester_days_since_first_post_on_raop_at_request</th>\n",
       "      <th>requester_number_of_comments_at_request</th>\n",
       "      <th>requester_number_of_comments_in_raop_at_request</th>\n",
       "      <th>requester_number_of_posts_at_request</th>\n",
       "      <th>requester_number_of_posts_on_raop_at_request</th>\n",
       "      <th>requester_number_of_subreddits_at_request</th>\n",
       "      <th>requester_upvotes_minus_downvotes_at_request</th>\n",
       "      <th>requester_upvotes_plus_downvotes_at_request</th>\n",
       "      <th>unix_timestamp_of_request</th>\n",
       "      <th>unix_timestamp_of_request_utc</th>\n",
       "    </tr>\n",
       "  </thead>\n",
       "  <tbody>\n",
       "    <tr>\n",
       "      <th>count</th>\n",
       "      <td>3232.000000</td>\n",
       "      <td>3232.000000</td>\n",
       "      <td>3232.00000</td>\n",
       "      <td>3232.000000</td>\n",
       "      <td>3232.000000</td>\n",
       "      <td>3232.000000</td>\n",
       "      <td>3232.000000</td>\n",
       "      <td>3232.000000</td>\n",
       "      <td>3232.000000</td>\n",
       "      <td>3.232000e+03</td>\n",
       "      <td>3.232000e+03</td>\n",
       "    </tr>\n",
       "    <tr>\n",
       "      <th>mean</th>\n",
       "      <td>256.662929</td>\n",
       "      <td>16.682342</td>\n",
       "      <td>116.69276</td>\n",
       "      <td>0.633045</td>\n",
       "      <td>21.387995</td>\n",
       "      <td>0.058787</td>\n",
       "      <td>18.383045</td>\n",
       "      <td>1141.690903</td>\n",
       "      <td>3536.765161</td>\n",
       "      <td>1.342819e+09</td>\n",
       "      <td>1.342816e+09</td>\n",
       "    </tr>\n",
       "    <tr>\n",
       "      <th>std</th>\n",
       "      <td>301.711688</td>\n",
       "      <td>72.319691</td>\n",
       "      <td>193.74547</td>\n",
       "      <td>3.274447</td>\n",
       "      <td>50.104315</td>\n",
       "      <td>0.305135</td>\n",
       "      <td>21.934935</td>\n",
       "      <td>2980.726140</td>\n",
       "      <td>17408.745325</td>\n",
       "      <td>2.327255e+07</td>\n",
       "      <td>2.327194e+07</td>\n",
       "    </tr>\n",
       "    <tr>\n",
       "      <th>min</th>\n",
       "      <td>0.000000</td>\n",
       "      <td>0.000000</td>\n",
       "      <td>0.00000</td>\n",
       "      <td>0.000000</td>\n",
       "      <td>0.000000</td>\n",
       "      <td>0.000000</td>\n",
       "      <td>0.000000</td>\n",
       "      <td>-173.000000</td>\n",
       "      <td>0.000000</td>\n",
       "      <td>1.306095e+09</td>\n",
       "      <td>1.306091e+09</td>\n",
       "    </tr>\n",
       "    <tr>\n",
       "      <th>25%</th>\n",
       "      <td>3.729690</td>\n",
       "      <td>0.000000</td>\n",
       "      <td>0.00000</td>\n",
       "      <td>0.000000</td>\n",
       "      <td>0.000000</td>\n",
       "      <td>0.000000</td>\n",
       "      <td>1.000000</td>\n",
       "      <td>3.000000</td>\n",
       "      <td>8.000000</td>\n",
       "      <td>1.320443e+09</td>\n",
       "      <td>1.320440e+09</td>\n",
       "    </tr>\n",
       "    <tr>\n",
       "      <th>50%</th>\n",
       "      <td>158.827159</td>\n",
       "      <td>0.000000</td>\n",
       "      <td>26.00000</td>\n",
       "      <td>0.000000</td>\n",
       "      <td>5.000000</td>\n",
       "      <td>0.000000</td>\n",
       "      <td>11.000000</td>\n",
       "      <td>177.500000</td>\n",
       "      <td>355.000000</td>\n",
       "      <td>1.342578e+09</td>\n",
       "      <td>1.342575e+09</td>\n",
       "    </tr>\n",
       "    <tr>\n",
       "      <th>75%</th>\n",
       "      <td>391.942080</td>\n",
       "      <td>0.000000</td>\n",
       "      <td>146.00000</td>\n",
       "      <td>0.000000</td>\n",
       "      <td>22.000000</td>\n",
       "      <td>0.000000</td>\n",
       "      <td>27.000000</td>\n",
       "      <td>1183.250000</td>\n",
       "      <td>2335.000000</td>\n",
       "      <td>1.364390e+09</td>\n",
       "      <td>1.364386e+09</td>\n",
       "    </tr>\n",
       "    <tr>\n",
       "      <th>max</th>\n",
       "      <td>2809.750787</td>\n",
       "      <td>785.457685</td>\n",
       "      <td>994.00000</td>\n",
       "      <td>88.000000</td>\n",
       "      <td>867.000000</td>\n",
       "      <td>5.000000</td>\n",
       "      <td>186.000000</td>\n",
       "      <td>87911.000000</td>\n",
       "      <td>789287.000000</td>\n",
       "      <td>1.381552e+09</td>\n",
       "      <td>1.381523e+09</td>\n",
       "    </tr>\n",
       "  </tbody>\n",
       "</table>\n",
       "</div>"
      ],
      "text/plain": [
       "       requester_account_age_in_days_at_request  \\\n",
       "count                               3232.000000   \n",
       "mean                                 256.662929   \n",
       "std                                  301.711688   \n",
       "min                                    0.000000   \n",
       "25%                                    3.729690   \n",
       "50%                                  158.827159   \n",
       "75%                                  391.942080   \n",
       "max                                 2809.750787   \n",
       "\n",
       "       requester_days_since_first_post_on_raop_at_request  \\\n",
       "count                                        3232.000000    \n",
       "mean                                           16.682342    \n",
       "std                                            72.319691    \n",
       "min                                             0.000000    \n",
       "25%                                             0.000000    \n",
       "50%                                             0.000000    \n",
       "75%                                             0.000000    \n",
       "max                                           785.457685    \n",
       "\n",
       "       requester_number_of_comments_at_request  \\\n",
       "count                               3232.00000   \n",
       "mean                                 116.69276   \n",
       "std                                  193.74547   \n",
       "min                                    0.00000   \n",
       "25%                                    0.00000   \n",
       "50%                                   26.00000   \n",
       "75%                                  146.00000   \n",
       "max                                  994.00000   \n",
       "\n",
       "       requester_number_of_comments_in_raop_at_request  \\\n",
       "count                                      3232.000000   \n",
       "mean                                          0.633045   \n",
       "std                                           3.274447   \n",
       "min                                           0.000000   \n",
       "25%                                           0.000000   \n",
       "50%                                           0.000000   \n",
       "75%                                           0.000000   \n",
       "max                                          88.000000   \n",
       "\n",
       "       requester_number_of_posts_at_request  \\\n",
       "count                           3232.000000   \n",
       "mean                              21.387995   \n",
       "std                               50.104315   \n",
       "min                                0.000000   \n",
       "25%                                0.000000   \n",
       "50%                                5.000000   \n",
       "75%                               22.000000   \n",
       "max                              867.000000   \n",
       "\n",
       "       requester_number_of_posts_on_raop_at_request  \\\n",
       "count                                   3232.000000   \n",
       "mean                                       0.058787   \n",
       "std                                        0.305135   \n",
       "min                                        0.000000   \n",
       "25%                                        0.000000   \n",
       "50%                                        0.000000   \n",
       "75%                                        0.000000   \n",
       "max                                        5.000000   \n",
       "\n",
       "       requester_number_of_subreddits_at_request  \\\n",
       "count                                3232.000000   \n",
       "mean                                   18.383045   \n",
       "std                                    21.934935   \n",
       "min                                     0.000000   \n",
       "25%                                     1.000000   \n",
       "50%                                    11.000000   \n",
       "75%                                    27.000000   \n",
       "max                                   186.000000   \n",
       "\n",
       "       requester_upvotes_minus_downvotes_at_request  \\\n",
       "count                                   3232.000000   \n",
       "mean                                    1141.690903   \n",
       "std                                     2980.726140   \n",
       "min                                     -173.000000   \n",
       "25%                                        3.000000   \n",
       "50%                                      177.500000   \n",
       "75%                                     1183.250000   \n",
       "max                                    87911.000000   \n",
       "\n",
       "       requester_upvotes_plus_downvotes_at_request  unix_timestamp_of_request  \\\n",
       "count                                  3232.000000               3.232000e+03   \n",
       "mean                                   3536.765161               1.342819e+09   \n",
       "std                                   17408.745325               2.327255e+07   \n",
       "min                                       0.000000               1.306095e+09   \n",
       "25%                                       8.000000               1.320443e+09   \n",
       "50%                                     355.000000               1.342578e+09   \n",
       "75%                                    2335.000000               1.364390e+09   \n",
       "max                                  789287.000000               1.381552e+09   \n",
       "\n",
       "       unix_timestamp_of_request_utc  \n",
       "count                   3.232000e+03  \n",
       "mean                    1.342816e+09  \n",
       "std                     2.327194e+07  \n",
       "min                     1.306091e+09  \n",
       "25%                     1.320440e+09  \n",
       "50%                     1.342575e+09  \n",
       "75%                     1.364386e+09  \n",
       "max                     1.381523e+09  "
      ]
     },
     "execution_count": 6,
     "metadata": {},
     "output_type": "execute_result"
    }
   ],
   "source": [
    "train_data.describe()"
   ]
  },
  {
   "cell_type": "markdown",
   "metadata": {},
   "source": [
    "Based on this initial look at the data, there doesn't appear to be anything unusual with the values. To extract more meaningful information around when the post was made, we will convert the unix_timestamp_of_request variable into a more interpretable form.\n",
    "\n",
    "To understand the relationship between the features and whether or not a request is fulfilled, let's take a look at how the variables are correlated."
   ]
  },
  {
   "cell_type": "code",
   "execution_count": 7,
   "metadata": {},
   "outputs": [
    {
     "data": {
      "text/plain": [
       "<matplotlib.axes._subplots.AxesSubplot at 0x1a231cdcc0>"
      ]
     },
     "execution_count": 7,
     "metadata": {},
     "output_type": "execute_result"
    },
    {
     "data": {
      "image/png": "[encoded data removed]",
      "text/plain": [
       "<matplotlib.figure.Figure at 0x1a231cd518>"
      ]
     },
     "metadata": {},
     "output_type": "display_data"
    }
   ],
   "source": [
    "f, ax = plt.subplots(figsize=(10, 8))\n",
    "train_w_test['requester_received_pizza'] = train_json_df['requester_received_pizza']\n",
    "corr = train_w_test.corr()\n",
    "sns.heatmap(corr, mask=np.zeros_like(corr, dtype=np.bool), cmap=sns.diverging_palette(220, 10, as_cmap=True),\n",
    "            square=True, ax=ax)"
   ]
  },
  {
   "cell_type": "markdown",
   "metadata": {},
   "source": [
    "Looking at the rightmost column, we can see how the features are related to requester_received_pizza. The following features seem to be most correlated and can be features to include when training our model: requester_account_age_in_days_at_request, requester_days_since_first_post_on_raop_at_request, requester_number_of_comments_in_raop_at_request, requester_number_of_posts_on_raop_at_request and unix_timestamp_of_request.\n",
    "\n",
    "Next, we compare the features for fulfilled and unfulfilled requests."
   ]
  },
  {
   "cell_type": "code",
   "execution_count": 8,
   "metadata": {},
   "outputs": [
    {
     "name": "stdout",
     "output_type": "stream",
     "text": [
      "% of requests fulfilled = 24.603960396039604\n"
     ]
    }
   ],
   "source": [
    "fulfilled_requests = train_w_test.loc[train_w_test['requester_received_pizza']==True]\n",
    "unfulfilled_requests = train_w_test.loc[train_w_test['requester_received_pizza']==False]\n",
    "\n",
    "print(\"% of requests fulfilled = {}\".format(fulfilled_requests.request_id.count() * 100/ \\\n",
    "          (fulfilled_requests.request_id.count() + unfulfilled_requests.request_id.count())))"
   ]
  },
  {
   "cell_type": "markdown",
   "metadata": {},
   "source": [
    "We have an imbalanced dataset and only 24% of the requests are fulfilled.  Therefore, we need make sure the model is not biased towards predicting unfulfilled requests."
   ]
  },
  {
   "cell_type": "markdown",
   "metadata": {},
   "source": [
    "### 2.1 Non-Text Features"
   ]
  },
  {
   "cell_type": "markdown",
   "metadata": {},
   "source": [
    "#### Request Time"
   ]
  },
  {
   "cell_type": "code",
   "execution_count": 9,
   "metadata": {},
   "outputs": [
    {
     "name": "stdout",
     "output_type": "stream",
     "text": [
      "   dayofweek  perc\n",
      "0          0  0.26\n",
      "1          1  0.23\n",
      "2          2  0.23\n",
      "3          3  0.30\n",
      "4          4  0.26\n",
      "5          5  0.22\n",
      "6          6  0.23\n"
     ]
    }
   ],
   "source": [
    "# Extract day of week from request timestamp\n",
    "train_w_test['datetime'] = pd.to_datetime(train_w_test[\"unix_timestamp_of_request\"], unit = 's')\n",
    "train_w_test['dayofweek'] = train_w_test['datetime'].dt.dayofweek\n",
    "\n",
    "# See rate of fulfillment by day of week\n",
    "fulfilled_dow = pd.DataFrame()\n",
    "fulfilled_dow['dayofweek'] =[0,1,2,3,4,5,6]\n",
    "fulfilled_dow['fulfilled_count'] = train_w_test[train_w_test['requester_received_pizza']==True]['dayofweek'].value_counts(sort=False)\n",
    "fulfilled_dow['total_post_per_dow'] = train_w_test['dayofweek'].value_counts(sort=False)\n",
    "fulfilled_dow['perc'] = round(fulfilled_dow['fulfilled_count']/fulfilled_dow['total_post_per_dow'],2)\n",
    "del fulfilled_dow['fulfilled_count']\n",
    "del fulfilled_dow['total_post_per_dow']\n",
    "print(fulfilled_dow)"
   ]
  },
  {
   "cell_type": "markdown",
   "metadata": {},
   "source": [
    "Sunday, Wednesday and Thursday seem to have a higher rate of success by 1-8 percentage points. Thus, day of week is an important feature to include in our model."
   ]
  },
  {
   "cell_type": "code",
   "execution_count": 10,
   "metadata": {},
   "outputs": [
    {
     "name": "stdout",
     "output_type": "stream",
     "text": [
      "            hour       perc\n",
      "count  24.000000  24.000000\n",
      "mean   11.500000   0.232917\n",
      "std     7.071068   0.062309\n",
      "min     0.000000   0.120000\n",
      "25%     5.750000   0.207500\n",
      "50%    11.500000   0.230000\n",
      "75%    17.250000   0.280000\n",
      "max    23.000000   0.340000\n"
     ]
    }
   ],
   "source": [
    "train_w_test['hour']=train_w_test['datetime'].dt.hour\n",
    "\n",
    "# See rate of fulfillment by hour\n",
    "fulfilled_hour = pd.DataFrame()\n",
    "fulfilled_hour['hour'] =range(24)\n",
    "fulfilled_hour['fulfilled_count'] = train_w_test[train_w_test['requester_received_pizza']==True]['hour'].value_counts(sort=False)\n",
    "fulfilled_hour['total_post_per_hour'] = train_w_test['hour'].value_counts(sort=False)\n",
    "fulfilled_hour['perc'] = round(fulfilled_hour['fulfilled_count']/fulfilled_hour['total_post_per_hour'],2)\n",
    "del fulfilled_hour['fulfilled_count']\n",
    "del fulfilled_hour['total_post_per_hour']\n",
    "print(fulfilled_hour.describe())"
   ]
  },
  {
   "cell_type": "markdown",
   "metadata": {},
   "source": [
    "With a fulfillment rate difference of 22% between the max and min of all hours, hour of day seems like an important feature to include in our model."
   ]
  },
  {
   "cell_type": "markdown",
   "metadata": {},
   "source": [
    "#### Requester Account and Activity"
   ]
  },
  {
   "cell_type": "markdown",
   "metadata": {},
   "source": [
    "Now, let's take a look at the various requester feature differences between those whose requests were fulfilled, and those whose requests were not."
   ]
  },
  {
   "cell_type": "code",
   "execution_count": 11,
   "metadata": {},
   "outputs": [],
   "source": [
    "def fulfilled_or_not(feature):\n",
    "    print(feature)\n",
    "    print('Mean for Fulfilled Requests: ' + \\\n",
    "          str(round(train_w_test[train_w_test['requester_received_pizza']==True][feature].mean(),2)))\n",
    "    print('Standard dev: ' + \\\n",
    "          str(round(train_w_test[train_w_test['requester_received_pizza']==True][feature].std(),2)))\n",
    "    print('Mean for Unfulfilled Requests: ' + \\\n",
    "          str(round(train_w_test[train_w_test['requester_received_pizza']==False][feature].mean(),2)))\n",
    "    print('Standard dev: ' + \\\n",
    "          str(round(train_w_test[train_w_test['requester_received_pizza']==False][feature].std(),2)))\n",
    "    print(\"\\n\")"
   ]
  },
  {
   "cell_type": "code",
   "execution_count": 12,
   "metadata": {},
   "outputs": [
    {
     "name": "stdout",
     "output_type": "stream",
     "text": [
      "requester_account_age_in_days_at_request\n",
      "Mean for Fulfilled Requests: 276.77\n",
      "Standard dev: 312.79\n",
      "Mean for Unfulfilled Requests: 247.35\n",
      "Standard dev: 299.8\n",
      "\n",
      "\n",
      "requester_days_since_first_post_on_raop_at_request\n",
      "Mean for Fulfilled Requests: 28.56\n",
      "Standard dev: 96.77\n",
      "Mean for Unfulfilled Requests: 12.45\n",
      "Standard dev: 59.19\n",
      "\n",
      "\n",
      "requester_number_of_comments_at_request\n",
      "Mean for Fulfilled Requests: 126.53\n",
      "Standard dev: 202.33\n",
      "Mean for Unfulfilled Requests: 111.37\n",
      "Standard dev: 190.17\n",
      "\n",
      "\n",
      "requester_number_of_comments_in_raop_at_request\n",
      "Mean for Fulfilled Requests: 1.43\n",
      "Standard dev: 5.91\n",
      "Mean for Unfulfilled Requests: 0.39\n",
      "Standard dev: 1.94\n",
      "\n",
      "\n",
      "requester_number_of_posts_at_request\n",
      "Mean for Fulfilled Requests: 23.44\n",
      "Standard dev: 52.5\n",
      "Mean for Unfulfilled Requests: 21.0\n",
      "Standard dev: 50.35\n",
      "\n",
      "\n",
      "requester_number_of_posts_on_raop_at_request\n",
      "Mean for Fulfilled Requests: 0.14\n",
      "Standard dev: 0.53\n",
      "Mean for Unfulfilled Requests: 0.04\n",
      "Standard dev: 0.22\n",
      "\n",
      "\n"
     ]
    }
   ],
   "source": [
    "fulfilled_or_not('requester_account_age_in_days_at_request') \n",
    "fulfilled_or_not('requester_days_since_first_post_on_raop_at_request') \n",
    "fulfilled_or_not('requester_number_of_comments_at_request') \n",
    "fulfilled_or_not('requester_number_of_comments_in_raop_at_request') \n",
    "fulfilled_or_not('requester_number_of_posts_at_request') \n",
    "fulfilled_or_not('requester_number_of_posts_on_raop_at_request')"
   ]
  },
  {
   "cell_type": "markdown",
   "metadata": {},
   "source": [
    "#### Upvotes vs Downvotes"
   ]
  },
  {
   "cell_type": "code",
   "execution_count": 13,
   "metadata": {},
   "outputs": [
    {
     "name": "stdout",
     "output_type": "stream",
     "text": [
      "requester_upvotes_minus_downvotes_at_request\n",
      "Mean for Fulfilled Requests: 1372.06\n",
      "Standard dev: 5419.69\n",
      "Mean for Unfulfilled Requests: 1090.9\n",
      "Standard dev: 2956.58\n",
      "\n",
      "\n",
      "requester_upvotes_plus_downvotes_at_request\n",
      "Mean for Fulfilled Requests: 4923.7\n",
      "Standard dev: 42166.37\n",
      "Mean for Unfulfilled Requests: 3358.02\n",
      "Standard dev: 17467.64\n",
      "\n",
      "\n"
     ]
    }
   ],
   "source": [
    "fulfilled_or_not('requester_upvotes_minus_downvotes_at_request')\n",
    "fulfilled_or_not('requester_upvotes_plus_downvotes_at_request')"
   ]
  },
  {
   "cell_type": "markdown",
   "metadata": {},
   "source": [
    "### 2.2 Text Features"
   ]
  },
  {
   "cell_type": "markdown",
   "metadata": {},
   "source": [
    "Next, we'll take a closer look at the text. To start, we can look at Non-Negative Matrix Factorization (NMF) for a better understanding of the request text topic breakdown."
   ]
  },
  {
   "cell_type": "code",
   "execution_count": 14,
   "metadata": {},
   "outputs": [
    {
     "name": "stdout",
     "output_type": "stream",
     "text": [
      "Top five most common topics with counts: [(0, 1008), (1, 175), (3, 171), (2, 169), (11, 130)]\n",
      "NMF Topics:\n",
      "\n",
      "Topic 0:\n",
      "ve job like pizza got work know new going don\n",
      "Topic 1:\n",
      "http com imgur jpg www reddit comments proof pic youtube\n",
      "Topic 2:\n",
      "love pizza tonight buy hut nice night craving pie like\n",
      "Topic 3:\n",
      "pay forward ll promise friday paycheck soon check gladly comes\n",
      "Topic 4:\n",
      "help need dinner appreciate willing feed asking tonight hoping kids\n",
      "Topic 5:\n",
      "really appreciate use pizza right don hey craving starving wednesday\n",
      "Topic 6:\n",
      "college student broke finals poor students kid studying summer appreciate\n",
      "Topic 7:\n",
      "money spent days buy tight pizza kind don right left\n",
      "Topic 8:\n",
      "hungry broke pretty super dont right sure feeling tomorrow roommates\n",
      "Topic 9:\n",
      "just want story sob pizza don craving moved sad need\n",
      "Topic 10:\n",
      "food house stamps today month need days dont family fridge\n",
      "Topic 11:\n",
      "week paid friday till don rent bank buy account end\n",
      "Topic 12:\n",
      "appreciated greatly pizza super thank picky weeks tomorrow proof appreciate\n",
      "Topic 13:\n",
      "thanks advance reading guys hey looking pizza raop appreciate request\n",
      "Topic 14:\n",
      "day today make work lunch long home brighten tomorrow great\n",
      "Topic 15:\n",
      "im dont havent broke ive tired ramen area id friday\n",
      "Topic 16:\n",
      "title says pretty hoping like sure broke simply grateful sob\n",
      "Topic 17:\n",
      "return favor pass repay payday definitely gladly guys offer friday\n",
      "Topic 18:\n",
      "eat house today thing going dogs friend don matter live\n",
      "Topic 19:\n",
      "time long lurker work taking sad read works posting best\n"
     ]
    }
   ],
   "source": [
    "from sklearn.decomposition import NMF\n",
    "no_features = 1000\n",
    "no_topics = 20\n",
    "no_top_words = 10\n",
    "\n",
    "# NMF is able to use tf-idf\n",
    "tfidf_vectorizer = TfidfVectorizer(max_df=0.95, min_df=2, max_features=no_features, stop_words='english')\n",
    "tfidf = tfidf_vectorizer.fit_transform(train_data['request_text_edit_aware'])\n",
    "tfidf_feature_names = tfidf_vectorizer.get_feature_names()\n",
    "\n",
    "# Run NMF\n",
    "nmf = NMF(n_components=no_topics, random_state=1, alpha=.1, l1_ratio=.5, init='nndsvd').fit(tfidf)\n",
    "\n",
    "# Print most common topics\n",
    "topics_vec = np.argmax(nmf.transform(tfidf),axis=1)\n",
    "imp_topics = Counter(topics_vec).most_common(5)\n",
    "print('Top five most common topics with counts: ' + str(imp_topics))\n",
    "\n",
    "# Derived topics with the top 10 words in each topic\n",
    "def display_topics(model, feature_names, no_top_words):\n",
    "    for topic_idx, topic in enumerate(model.components_):\n",
    "        print(\"Topic %d:\" % (topic_idx))\n",
    "        print(\" \".join([feature_names[i]\n",
    "                        for i in topic.argsort()[:-no_top_words - 1:-1]]))\n",
    "\n",
    "print(\"NMF Topics:\\n\")\n",
    "display_topics(nmf, tfidf_feature_names, no_top_words)"
   ]
  },
  {
   "cell_type": "markdown",
   "metadata": {},
   "source": [
    "The top five topics can be generally described by the following:\n",
    "- Topic 0: Job/Work\n",
    "- Topic 1: Inclusion of proof\n",
    "- Topic 2: Love/Craving\n",
    "- Topic 3: Promise of reciprocity\n",
    "- Topic 11: Money/Rent"
   ]
  },
  {
   "cell_type": "markdown",
   "metadata": {},
   "source": [
    "#### Word Vizualization\n",
    "\n",
    "Next we dive a little deeper, looking at the common phrases within the posts and the differences between fulfilled and unfulfilled requests."
   ]
  },
  {
   "cell_type": "code",
   "execution_count": 15,
   "metadata": {},
   "outputs": [
    {
     "data": {
      "text/plain": [
       "<matplotlib.axes._subplots.AxesSubplot at 0x1a20bb25f8>"
      ]
     },
     "execution_count": 15,
     "metadata": {},
     "output_type": "execute_result"
    },
    {
     "data": {
      "image/png": "[encoded data removed]",
      "text/plain": [
       "<matplotlib.figure.Figure at 0x1a2348a240>"
      ]
     },
     "metadata": {},
     "output_type": "display_data"
    },
    {
     "data": {
      "image/png": "[encoded data removed]",
      "text/plain": [
       "<matplotlib.figure.Figure at 0x1a20b845f8>"
      ]
     },
     "metadata": {},
     "output_type": "display_data"
    }
   ],
   "source": [
    "def word_join(string,joiner='_'):\n",
    "    return joiner.join(string.split()) \n",
    "v_join=np.vectorize(word_join)\n",
    "\n",
    "CV=CountVectorizer(stop_words='english',ngram_range=(2,2))\n",
    "Ctbow=CV.fit_transform(train_data[train_labels==1]['request_text_edit_aware'])\n",
    "vocab=v_join(CV.get_feature_names())\n",
    "freqs=list(Ctbow.toarray().sum(axis=0))\n",
    "word_score=dict(zip(vocab,freqs))\n",
    "wc=WordCloud(max_words=200,height=500,width=700).fit_words(word_score)\n",
    "plt.imshow(wc, interpolation='bilinear')\n",
    "word_score2=sorted(list(zip(vocab,freqs)), key=lambda x: -x[1])\n",
    "got_pizza=pd.DataFrame(word_score2[:30],columns = ['Word', 'Freq'])\n",
    "got_pizza.plot.bar(x='Word',y='Freq')"
   ]
  },
  {
   "cell_type": "code",
   "execution_count": 16,
   "metadata": {},
   "outputs": [
    {
     "data": {
      "text/plain": [
       "<matplotlib.axes._subplots.AxesSubplot at 0x1a20baf390>"
      ]
     },
     "execution_count": 16,
     "metadata": {},
     "output_type": "execute_result"
    },
    {
     "data": {
      "image/png": "[encoded data removed]",
      "text/plain": [
       "<matplotlib.figure.Figure at 0x1a209003c8>"
      ]
     },
     "metadata": {},
     "output_type": "display_data"
    },
    {
     "data": {
      "image/png": "[encoded data removed]",
      "text/plain": [
       "<matplotlib.figure.Figure at 0x1a21796860>"
      ]
     },
     "metadata": {},
     "output_type": "display_data"
    }
   ],
   "source": [
    "CV=CountVectorizer(stop_words='english',ngram_range=(2,2))\n",
    "Ctbow=CV.fit_transform(train_data[train_labels==0]['request_text_edit_aware'])\n",
    "vocab=v_join(CV.get_feature_names())\n",
    "freqs=list(Ctbow.toarray().sum(axis=0))\n",
    "word_score=dict(zip(vocab,freqs))\n",
    "wc=WordCloud(max_words=200,height=500,width=700).fit_words(word_score)\n",
    "plt.imshow(wc, interpolation='bilinear')\n",
    "word_score2=list(zip(vocab,freqs))\n",
    "word_score2=sorted(word_score2, key=lambda x: -x[1])\n",
    "no_pizza=pd.DataFrame(word_score2[:30],columns = ['Word', 'Freq'])\n",
    "no_pizza.plot.bar(x='Word',y='Freq')"
   ]
  },
  {
   "cell_type": "markdown",
   "metadata": {},
   "source": [
    "We choose bigrams as unigrams alone makes little sense and trigrams are too rare to be useful. From these visuals we can start to get an idea of potential differentiatiors in terms of post content that might make a difference to whether a user gets pizza or not. There are some interesting differences such as Redditors getting the pizza talking about \"lost job\" vs those not saying \"new job\". Even amongst common phrases, what's interesting is how those who didn't get pizza mentioned \"love pizza\" and \"pay forward\" more often."
   ]
  },
  {
   "cell_type": "markdown",
   "metadata": {},
   "source": [
    "## 3. Baseline"
   ]
  },
  {
   "cell_type": "markdown",
   "metadata": {},
   "source": [
    "As a baseline, we choose the Naive Bayes model combined with a bag of words approach since Naive Bayes is the most straightforward modeling approach to take in terms of model assumptions (feature independence) and complexity. Furthermore, Naive Bayes works well with text as word counts are natural features for Naive Bayes since we calculate probabilities from observation counts."
   ]
  },
  {
   "cell_type": "code",
   "execution_count": 17,
   "metadata": {},
   "outputs": [
    {
     "name": "stdout",
     "output_type": "stream",
     "text": [
      "{'alpha': 8.789090909090909}\n",
      "auc score using CountVectorizer & MultinomialNB = 0.5988939144736842 \n",
      "\n",
      "confusion matrix\n",
      "[[607   1]\n",
      " [200   0]]\n"
     ]
    }
   ],
   "source": [
    "# Use standard CountVectorizer to transform the training data and dev data \n",
    "vectorizer = CountVectorizer() \n",
    "train_bag_of_words = vectorizer.fit_transform(train_data['request_text_edit_aware'])\n",
    "dev_bag_of_words = vectorizer.transform(dev_data['request_text_edit_aware'])\n",
    "\n",
    "# Create MultinomialNB\n",
    "nb = MultinomialNB()\n",
    "    \n",
    "# test the best value for alpha\n",
    "parameters = {'alpha': np.linspace(0.01, 10, 100)}\n",
    "\n",
    "# create GridSearchCV to find the best alpha\n",
    "clf = GridSearchCV(nb, parameters)\n",
    "    \n",
    "# train the MultinomialNB\n",
    "clf.fit(train_bag_of_words, train_labels)\n",
    "\n",
    "pred_dev_prob = clf.predict_proba(dev_bag_of_words)[:,0]\n",
    "pred_dev_labels = clf.predict(dev_bag_of_words)\n",
    "\n",
    "print(clf.best_params_)\n",
    "print(\"auc score using CountVectorizer & MultinomialNB = {} \\n\".format(roc_auc_score(dev_labels, pred_dev_prob, average='micro')))\n",
    "\n",
    "print(\"confusion matrix\")\n",
    "print(confusion_matrix(dev_labels, pred_dev_labels ))"
   ]
  },
  {
   "cell_type": "markdown",
   "metadata": {},
   "source": [
    " We see with an auc of .598, our baseline does better than randomly guessing (auc of .5) but not by too much.  Also, the confusion matrix shows that the model fails to predict any fulfilled requests. "
   ]
  },
  {
   "cell_type": "markdown",
   "metadata": {},
   "source": [
    "## 4. Feature Engineering & Model Selection"
   ]
  },
  {
   "cell_type": "markdown",
   "metadata": {},
   "source": [
    "### 4.1 Feature Engineering"
   ]
  },
  {
   "cell_type": "markdown",
   "metadata": {},
   "source": [
    "We begin by prepping our text data, creating a new column \"post_and_title\" that combines all the relevant text fields (title of post and body of post)."
   ]
  },
  {
   "cell_type": "code",
   "execution_count": 18,
   "metadata": {},
   "outputs": [],
   "source": [
    "train_data['post_and_title']=train_data['request_text_edit_aware'] +' '+train_data['request_title']\n",
    "dev_data['post_and_title']=dev_data['request_text_edit_aware'] +' '+dev_data['request_title']"
   ]
  },
  {
   "cell_type": "markdown",
   "metadata": {},
   "source": [
    "In preparation of further processing, we will preprocess our text in the following ways: converting all text to lowercase, removing punctuation, non-alphanumeric characters and extra spaces. "
   ]
  },
  {
   "cell_type": "code",
   "execution_count": 19,
   "metadata": {},
   "outputs": [],
   "source": [
    "def pre_process(s):\n",
    "    s = re.sub(\"[^\\w']|_\", \" \", s) \n",
    "    s=s.translate(str.maketrans(' ',' ',string.punctuation))# Strip punctuation before looking\n",
    "    s= re.sub(' +',' ', s) # Remove extra spaces\n",
    "    s=s.lower()\n",
    "    return s\n"
   ]
  },
  {
   "cell_type": "markdown",
   "metadata": {},
   "source": [
    "Borrowing from the Stanford paper regarding narratives found in the posts, we create features that identify words for each narrative in a given observation and calculate the feature for each narrative as a total count of the words in a given narrative in the text and divide by total text length."
   ]
  },
  {
   "cell_type": "code",
   "execution_count": 20,
   "metadata": {},
   "outputs": [],
   "source": [
    "money = [\"money\", \"now\", \"broke\", \"week\", \"until\", \"time\",\n",
    "          \"last\", \"day\", \"when\", \"today\", \"tonight\", \"paid\", \"next\",\n",
    "          \"first\", \"night\", \"after\", \"tomorrow\", \"month\", \"while\",\n",
    "          \"account\", \"before\", \"long\", \"friday\", \"rent\", \"buy\",\n",
    "          \"bank\", \"still\", \"bills\", \"ago\", \"cash\", \"due\",\n",
    "          \"soon\", \"past\", \"never\", \"paycheck\", \"check\", \"spent\",\n",
    "          \"years\", \"poor\", \"till\", \"yesterday\", \"morning\", \"dollars\",\n",
    "          \"financial\", \"hour\", \"bill\", \"evening\", \"credit\",\n",
    "          \"budget\", \"loan\", \"bucks\", \"deposit\", \"dollar\", \"current\",\n",
    "          \"payed\"]\n",
    "job =[\"work\", \"job\", \"paycheck\", \"unemployment\", \"interview\",\n",
    "          \"fired\", \"employment\", \"hired\", \"hire\"]\n",
    "student = [\"college\", \"student\", \"school\", \"roommate\",\n",
    "          \"studying\", \"university\", \"finals\", \"semester\",\n",
    "          \"class\", \"study\", \"project\", \"dorm\", \"tuition\"]\n",
    "family =[\"family\", \"mom\", \"wife\", \"parents\", \"mother\", \"husband\",\n",
    "           \"dad\", \"son\", \"daughter\", \"father\", \"parent\",\n",
    "           \"mum\"]\n",
    "craving = [\"friend\", \"girlfriend\", \"craving\", \"birthday\",\n",
    "          \"boyfriend\", \"celebrate\", \"party\", \"game\", \"games\",\n",
    "          \"movie\", \"date\", \"drunk\", \"beer\", \"celebrating\", \"invited\",\n",
    "          \"drinks\", \"crave\", \"wasted\", \"invite\"]\n",
    "\n",
    "narratives = [money, job, student, family, craving]\n",
    "\n",
    "def find_narr(narr,s):\n",
    "    ct=0\n",
    "    for word in narr:\n",
    "        ct+=s.split().count(word)\n",
    "    return ct/len(s.split())\n",
    "\n",
    "def construct_narrative_features(data): \n",
    "    \n",
    "    data['post_and_title'] = data['request_text_edit_aware'] + ' ' + data['request_title']\n",
    "    clean_text = data['post_and_title'].apply(lambda s: pre_process(s))\n",
    "\n",
    "    features = pd.DataFrame()\n",
    "\n",
    "    for n in narratives:\n",
    "        features[n[0]] = clean_text.apply(lambda s: find_narr(n,s))\n",
    "    return features\n",
    "\n",
    "train_narrative_features = construct_narrative_features(train_data)\n",
    "dev_narrative_features = construct_narrative_features(dev_data)"
   ]
  },
  {
   "cell_type": "markdown",
   "metadata": {},
   "source": [
    "Create a function extract the seasonality information from our post metadata."
   ]
  },
  {
   "cell_type": "code",
   "execution_count": 21,
   "metadata": {},
   "outputs": [],
   "source": [
    "#https://www.timeanddate.com/calendar/aboutseasons.html\n",
    "def ts_to_season(month):\n",
    "    if month>=3 and month<=5:\n",
    "        return \"spring\"\n",
    "    elif month>=6 and month <=8:\n",
    "        return \"summer\"\n",
    "    elif month>=9 and month <=11:\n",
    "        return \"fall\"\n",
    "    else:\n",
    "        return \"winter\""
   ]
  },
  {
   "cell_type": "markdown",
   "metadata": {},
   "source": [
    "Create a function for spellchecking using the pyenchant library. We look at the spelling error ratio as the number of misspellings divided by the square root of the length of the text. The square root is taken so that longer texts don't overly diminish the number of errors in the text."
   ]
  },
  {
   "cell_type": "code",
   "execution_count": 22,
   "metadata": {},
   "outputs": [],
   "source": [
    "#Credit in how to use:\n",
    "#https://faculty.math.illinois.edu/~gfrancis/illimath/windows/aszgard_mini/movpy-2.0.0-py2.4.4/manuals/PyEnchant/PyEnchant%20Tutorial.htm\n",
    "\n",
    "from enchant.checker import SpellChecker\n",
    "schk = SpellChecker(\"en_US\")\n",
    "def spell_error_ratio(text,spellchecker=schk):\n",
    "    err_ct=0\n",
    "    spellchecker.set_text(text)\n",
    "    for error in spellchecker:\n",
    "        err_ct+=1\n",
    "    l_text=len(text.split())\n",
    "    if l_text==0:\n",
    "        err_ratio=.5\n",
    "    else:\n",
    "        err_ratio=err_ct/np.sqrt(l_text)\n",
    "    return err_ratio\n",
    "    "
   ]
  },
  {
   "cell_type": "markdown",
   "metadata": {},
   "source": [
    "Create features for both train and dev set to leverage the metadata provided within the dataset. The features which don't speak for themselves are commented."
   ]
  },
  {
   "cell_type": "code",
   "execution_count": 23,
   "metadata": {},
   "outputs": [],
   "source": [
    "def construct_ft_mat(data):\n",
    "    feat_mat=pd.DataFrame()\n",
    "    \n",
    "    \n",
    "    # Extract temporal features\n",
    "    feat_mat['hour_request']=pd.to_datetime(data['unix_timestamp_of_request_utc'],unit = 's').dt.hour\n",
    "    feat_mat['day_request']=pd.to_datetime(data['unix_timestamp_of_request_utc'],unit = 's').dt.day\n",
    "    feat_mat['day_request']=feat_mat['day_request'].apply(lambda x: 0 if x<16 else 1)\n",
    "    feat_mat['season_request']=pd.to_datetime(data['unix_timestamp_of_request_utc'],unit = 's').dt.month\n",
    "    feat_mat['season_request']=feat_mat['season_request'].apply(ts_to_season)\n",
    "    feat_mat['is_spring']=feat_mat['season_request'].apply(lambda x: 1 if x=='spring' else 0)\n",
    "    feat_mat['is_summer']=feat_mat['season_request'].apply(lambda x: 1 if x=='summer' else 0)\n",
    "    feat_mat['is_fall']=feat_mat['season_request'].apply(lambda x: 1 if x=='fall' else 0)\n",
    "    feat_mat['is_winter']=feat_mat['season_request'].apply(lambda x: 1 if x=='winter' else 0)\n",
    "    del feat_mat['season_request']\n",
    "    \n",
    "    # Extract post popularity features\n",
    "    feat_mat['first_post']=np.log(data['requester_days_since_first_post_on_raop_at_request']+1)\n",
    "    feat_mat['upvotes_minus_downvotes']=data['requester_upvotes_minus_downvotes_at_request']\n",
    "    feat_mat['upvotes_plus_downvotes_at_request']=np.log(data['requester_upvotes_plus_downvotes_at_request']+1)\n",
    "    upvotes=data.apply(lambda row: (row['requester_upvotes_plus_downvotes_at_request'] + row['requester_upvotes_minus_downvotes_at_request'])/2,axis=1)\n",
    "    downvotes=data.apply(lambda row: (row['requester_upvotes_plus_downvotes_at_request']- row['requester_upvotes_minus_downvotes_at_request'])/2,axis=1)\n",
    "    feat_mat['upvotes']=upvotes\n",
    "    #take the ratio of upvotes given to user divided by total of upvotes and downvotes, closer to 1 means \n",
    "    #positive user posting where as towards 0 shows dislike/unpopularity\n",
    "    feat_mat['vote_ratio']=upvotes/(upvotes+downvotes+1)\n",
    "    \n",
    "    # Extract requester features\n",
    "    #log to smooth out data regarding poster age and activity\n",
    "    feat_mat['req_age']=np.log(data['requester_account_age_in_days_at_request']+1)\n",
    "    feat_mat['num_subs']=np.log(data['requester_number_of_subreddits_at_request']+1)\n",
    "    feat_mat['num_posts_req']=np.log(data['requester_number_of_posts_at_request']+1)\n",
    "    feat_mat['pizza_activity']=np.log(data['requester_number_of_posts_on_raop_at_request']+1)\n",
    "    feat_mat['num_pizza_comments']=np.log(data['requester_number_of_comments_in_raop_at_request']+1)\n",
    "    feat_mat['community_age'] = (pd.to_datetime(data['unix_timestamp_of_request_utc'], unit = 's') - \\\n",
    "                                pd.to_datetime('2010-12-8', format='%Y-%m-%d')).astype('timedelta64[D]')\n",
    "    \n",
    "    feat_mat['community_age'] = (feat_mat['community_age'] * 10./feat_mat['community_age'].max()).astype(int)    \n",
    "    \n",
    "    #idea is that seniority is a combination of post activity , presence across communities and age of account, took squareroot to smooth out spectrum\n",
    "    #can imagine new users with high posts can be somewhat comparable to long time lurkers but that active older users should still have higher stake\n",
    "    feat_mat['requester_seniority']=np.sqrt(data['requester_number_of_comments_at_request']*data['requester_account_age_in_days_at_request']*data['requester_number_of_subreddits_at_request'])\n",
    "    \n",
    "    \n",
    "    # Extract post features\n",
    "    feat_mat['giver']=data['giver_username_if_known'].apply(lambda x: 0 if x=='N/A' else 1)\n",
    "    #get number of words in text, log to smoothen\n",
    "    feat_mat['len_request']=np.log(data['request_text_edit_aware'].apply(lambda x:x.split()).apply(len)+1)\n",
    "    feat_mat['len_title']=np.log(data['request_title'].apply(lambda x:x.split()).apply(len)+1)\n",
    "    #check if user indicated in text about giving back to community in some way\n",
    "    feat_mat['reciprocity'] = data['post_and_title'].apply(lambda x:1 if re.search(\"repay|pay.+back|pay.+forward|return.+favor|favour\", x) \n",
    "                                               else 0)\n",
    "    feat_mat['image_in_text'] = data['post_and_title'].str.contains('imgur.com|.jpg|.png|.jpeg', case=False).apply(lambda x: 1 if x else 0)\n",
    "    feat_mat['politeness'] = data['post_and_title'].apply(lambda x: 1 if re.search(\"thank|appreciate|advance\", x) else 0)\n",
    "    feat_mat['spell_err_title']=data['request_title'].apply(lambda x:spell_error_ratio(x) )\n",
    "    feat_mat['spell_err_post']=data['request_text_edit_aware'].apply(lambda x: spell_error_ratio(x))\n",
    "\n",
    "    return feat_mat\n",
    "\n",
    "train_mat=construct_ft_mat(train_data)\n",
    "dev_mat=construct_ft_mat(dev_data)"
   ]
  },
  {
   "cell_type": "code",
   "execution_count": 24,
   "metadata": {},
   "outputs": [],
   "source": [
    "# Convert dataframe to a numpy-array representation.\n",
    "train_ft_mat=train_mat.as_matrix()\n",
    "dev_ft_mat=dev_mat.as_matrix()"
   ]
  },
  {
   "cell_type": "code",
   "execution_count": 25,
   "metadata": {},
   "outputs": [],
   "source": [
    "# Extract text features from the post text by generating features from words\n",
    "vectorizer = TfidfVectorizer(min_df=5,ngram_range=(1,2), preprocessor=pre_process,stop_words='english',norm='l2',sublinear_tf=True) \n",
    "train_bag_of_words = vectorizer.fit_transform(train_data['post_and_title'])\n",
    "dev_bag_of_words = vectorizer.transform(dev_data['post_and_title'])"
   ]
  },
  {
   "cell_type": "code",
   "execution_count": 26,
   "metadata": {},
   "outputs": [
    {
     "name": "stdout",
     "output_type": "stream",
     "text": [
      "(3232, 96)\n"
     ]
    }
   ],
   "source": [
    "#Use Logistic Regression with l1 penalty to feature select from our bag of words in order to reduce dimension.\n",
    "lr=LogisticRegression(C=1,penalty='l1').fit(train_bag_of_words,train_labels)\n",
    "model = SelectFromModel(lr, prefit=True)\n",
    "\n",
    "train_pruned_bow = model.transform(train_bag_of_words)\n",
    "print(train_pruned_bow.shape)\n",
    "\n",
    "dev_pruned_bow=model.transform(dev_bag_of_words)"
   ]
  },
  {
   "cell_type": "markdown",
   "metadata": {},
   "source": [
    "We get the top 96 coefficients from our Logistic Regression which correspond to our most influential words according to the model. "
   ]
  },
  {
   "cell_type": "markdown",
   "metadata": {},
   "source": [
    "We prepare a count matrix so that we can perform topic modeling."
   ]
  },
  {
   "cell_type": "code",
   "execution_count": 27,
   "metadata": {},
   "outputs": [],
   "source": [
    "vectorizer_lda = CountVectorizer(min_df=10,ngram_range=(1,1), preprocessor=pre_process,stop_words='english') \n",
    "lda_bag_of_words = vectorizer_lda.fit_transform(train_data['post_and_title'])\n",
    "lda_devbag_of_words = vectorizer_lda.transform(dev_data['post_and_title'])"
   ]
  },
  {
   "cell_type": "markdown",
   "metadata": {},
   "source": [
    "We create a topic model of 3 topics accross 1580 words."
   ]
  },
  {
   "cell_type": "code",
   "execution_count": 28,
   "metadata": {},
   "outputs": [
    {
     "name": "stdout",
     "output_type": "stream",
     "text": [
      "(3, 1580)\n"
     ]
    }
   ],
   "source": [
    "# LDA tells us what topics are present in any given document by observing all the words \n",
    "# in it and producing a topic distribution\n",
    "\n",
    "lda = LDA(n_components = 3, learning_method=\"batch\", max_iter=30,learning_decay=.7, random_state=42)\n",
    "train_topics = lda.fit_transform(lda_bag_of_words)\n",
    "print(lda.components_.shape)\n",
    "\n",
    "dev_topics=lda.transform(lda_devbag_of_words)"
   ]
  },
  {
   "cell_type": "markdown",
   "metadata": {},
   "source": [
    "We also generate 3 topics using matrix factorization."
   ]
  },
  {
   "cell_type": "code",
   "execution_count": 29,
   "metadata": {},
   "outputs": [],
   "source": [
    "from sklearn.decomposition import NMF\n",
    "# NMF is able to use tf-idf\n",
    "tfidf_vectorizer = TfidfVectorizer(max_df=0.95, min_df=2, stop_words='english')\n",
    "tfidf = tfidf_vectorizer.fit_transform(train_data['post_and_title'])\n",
    "dev_tfidf = tfidf_vectorizer.transform(dev_data['post_and_title'])\n",
    "tfidf_feature_names = tfidf_vectorizer.get_feature_names()\n",
    "\n",
    "no_topics = 3\n",
    "\n",
    "# Run NMF\n",
    "nmf_model = NMF(n_components=no_topics, random_state=1, alpha=.1, l1_ratio=.5, init='nndsvd').fit(tfidf)\n",
    "nmf_train = nmf_model.transform(tfidf)\n",
    "nmf_dev = nmf_model.transform(dev_tfidf)"
   ]
  },
  {
   "cell_type": "markdown",
   "metadata": {},
   "source": [
    "We combine all of the features into a large,sparse, matrix so that we can move on to the modeling phase."
   ]
  },
  {
   "cell_type": "code",
   "execution_count": 30,
   "metadata": {},
   "outputs": [],
   "source": [
    "train_combined=hstack([train_pruned_bow,train_ft_mat,train_topics, train_narrative_features,nmf_train])\n",
    "dev_combined=hstack([dev_pruned_bow,dev_ft_mat,dev_topics, dev_narrative_features,nmf_dev ])"
   ]
  },
  {
   "cell_type": "markdown",
   "metadata": {},
   "source": [
    "### 4.2 Model Selection"
   ]
  },
  {
   "cell_type": "markdown",
   "metadata": {},
   "source": [
    "First natural step is to see if we improve from baseline by providing additional features. We note that naturally these features don't translate to the theory of Naive Bayes as we don't have frequency counts, positive numbers, etc. Moreover, what meaning is in the features is likely lost as we have to take absolute value of the values in order to even feed into the model."
   ]
  },
  {
   "cell_type": "code",
   "execution_count": 31,
   "metadata": {},
   "outputs": [
    {
     "name": "stdout",
     "output_type": "stream",
     "text": [
      "{'alpha': 0.01}\n",
      "auc score using combined features & MultinomialNB = 0.4394654605263158\n"
     ]
    }
   ],
   "source": [
    "# Create MultinomialNB\n",
    "nb = MultinomialNB()\n",
    "    \n",
    "# test the best value for alpha\n",
    "parameters = {'alpha': np.linspace(0.01, 10, 100)}\n",
    "\n",
    "# create GridSearchCV to find the best alpha\n",
    "clf = GridSearchCV(nb, parameters,scoring='roc_auc')\n",
    "    \n",
    "# train the MultinomialNB\n",
    "clf.fit(np.abs(train_combined), train_labels)\n",
    "\n",
    "pred_dev_prob = clf.predict_proba(np.abs(dev_combined))[:,0]\n",
    "\n",
    "print(clf.best_params_)\n",
    "print(\"auc score using combined features & MultinomialNB = {}\".format(roc_auc_score(dev_labels, pred_dev_prob, average='micro')))"
   ]
  },
  {
   "cell_type": "markdown",
   "metadata": {},
   "source": [
    "We see that we actually perform worse than baseline, in fact worse than random guessing! One major reason is we have quite a few continuous features and require finer discrimination than just a binary threshold in order to provide information. Along the same vein, we have broken the assumption of frequency/counts being used as features. This guides us to move forward in looking to a different model to make use of these new features. We turn to Gaussian Naive Bayes as it can accept real values. We set the priors to reflect the imbalance in the the set."
   ]
  },
  {
   "cell_type": "code",
   "execution_count": 32,
   "metadata": {},
   "outputs": [
    {
     "name": "stdout",
     "output_type": "stream",
     "text": [
      "auc score using combined features & GaussianNB = 0.6867434210526315\n"
     ]
    }
   ],
   "source": [
    "from sklearn.naive_bayes import GaussianNB\n",
    "\n",
    "gnb=GaussianNB(priors=[0.6, 0.4])\n",
    "gnb.fit(train_combined.toarray(),train_labels)\n",
    "pred_dev=gnb.predict(dev_combined.toarray())\n",
    "print(\"auc score using combined features & GaussianNB = {}\".format(roc_auc_score(dev_labels, pred_dev, average='micro')))\n"
   ]
  },
  {
   "cell_type": "markdown",
   "metadata": {},
   "source": [
    "We do well above baseline in this case. However, it's worth noting that Guassian Naive Bayes makes strong assumptions (normality) of the features in terms of distribution and hence restricts the reality of the data. We are aware that quite few of the feature distributions are sharply skewed and even have flatter tails due to high number of zeros and other irregularities."
   ]
  },
  {
   "cell_type": "markdown",
   "metadata": {},
   "source": [
    "We take a step up and look to Logistic Regression as our linear classifier of choice."
   ]
  },
  {
   "cell_type": "code",
   "execution_count": 33,
   "metadata": {},
   "outputs": [
    {
     "name": "stdout",
     "output_type": "stream",
     "text": [
      "{'C': 0.1}\n"
     ]
    },
    {
     "data": {
      "text/plain": [
       "0.7929276315789474"
      ]
     },
     "execution_count": 33,
     "metadata": {},
     "output_type": "execute_result"
    }
   ],
   "source": [
    "lr = LogisticRegression()\n",
    "#parameters = {'C':[0.00001, 0.0001, 0.001, 0.01, 0.1, 1, 10, 100, 1000]}\n",
    "parameters = {'C':np.linspace(0.0005, 0.1, 100)}\n",
    "clf = GridSearchCV(lr, parameters,cv=5)\n",
    "clf.fit(train_combined, train_labels)\n",
    "pred_dev_prob = clf.predict_proba(dev_combined)[:,1]\n",
    "pred_dev_labels = clf.predict(dev_combined)\n",
    "\n",
    "print(clf.best_params_)\n",
    "roc_auc_score(dev_labels, pred_dev_prob, average='micro')"
   ]
  },
  {
   "cell_type": "markdown",
   "metadata": {},
   "source": [
    "We see a significant boost in auc via logistic regression. This is likely due to the fact that we have reduced the assumptions/constraints to our features (haven't assumed a particular distribution besides non-multicolinearity and independence of features). From prior experience (project 2), we also know that this model is prone to overfitting when data is \"small\"."
   ]
  },
  {
   "cell_type": "markdown",
   "metadata": {},
   "source": [
    "We move forward with a non-linear method, the xgboost variant of gradient boosting, to capture higher level interactions in variables. Moreover, we can somewhat treat feature independence and possible multi-collinearity due to the way in that the ensembling method subsets both features and samples from the data."
   ]
  },
  {
   "cell_type": "markdown",
   "metadata": {},
   "source": [
    "In terms of the parameters, we can think of them as a balance between preventing overfitting while also capturing as much predictive power as possible. We try to gain predictive power by increasing the depth so that the subsequent trees can fit tightly on the residuals and scale the weight attributed to the samples (3.06) as observed by the imbalance in our data (ratio of those who didn't get pizza to those who did). We subsample the training set so that there is further prevention of overfitting, and subsample the features so that multi-colliniearity can have a weaker role."
   ]
  },
  {
   "cell_type": "code",
   "execution_count": 34,
   "metadata": {},
   "outputs": [
    {
     "data": {
      "text/plain": [
       "GridSearchCV(cv=<generator object _BaseKFold.split at 0x1a21c43d00>,\n",
       "       error_score='raise',\n",
       "       estimator=XGBClassifier(base_score=0.5, booster='gbtree', colsample_bylevel=1,\n",
       "       colsample_bytree=0.7, gamma=0, learning_rate=0.1, max_delta_step=1,\n",
       "       max_depth=3, min_child_weight=1, missing=None, n_estimators=100,\n",
       "       n_jobs=1, nthread=4, objective='binary:logistic', random_state=42,\n",
       "       reg_alpha=0, reg_lambda=1, scale_pos_weight=3.06, seed=None,\n",
       "       silent=True, subsample=0.9),\n",
       "       fit_params=None, iid=True, n_jobs=4,\n",
       "       param_grid={'max_depth': [3, 4, 5, 6], 'learning_rate': [0.01, 0.02, 0.03], 'n_estimators': [100, 125, 150, 175, 200], 'min_child_weight': [1, 5, 10], 'colsample_bytree': [0.6, 0.7, 0.8, 0.9]},\n",
       "       pre_dispatch='2*n_jobs', refit=True, return_train_score='warn',\n",
       "       scoring='roc_auc', verbose=0)"
      ]
     },
     "execution_count": 34,
     "metadata": {},
     "output_type": "execute_result"
    }
   ],
   "source": [
    "#Build and tune XGBoost Model\n",
    "dX = vstack([train_combined, dev_combined])\n",
    "dY =  np.concatenate((train_labels, dev_labels), axis=0)\n",
    "skf = StratifiedKFold(n_splits=3, shuffle = True, random_state = 1001)\n",
    "\n",
    "params = {'max_depth': [3, 4, 5, 6],\n",
    "         'learning_rate': [.01, .02, .03],\n",
    "          'n_estimators':[100, 125, 150, 175, 200],\n",
    "          'min_child_weight': [1, 5, 10],\n",
    "          'colsample_bytree': [0.6, 0.7, 0.8, 0.9]\n",
    "         }\n",
    "\n",
    "xgb_test = xgb.XGBClassifier(objective = 'binary:logistic'\n",
    "         , scale_pos_weight = 3.06, max_delta_step = 1, subsample = .9, colsample_bytree = .7, random_state = 42,\n",
    "                    silent=True, nthread=4)\n",
    "\n",
    "grid_search = GridSearchCV(xgb_test, param_grid = params, scoring='roc_auc', n_jobs=4, cv=skf.split(dX,dY))\n",
    "\n",
    "grid_search.fit(dX, dY)\n"
   ]
  },
  {
   "cell_type": "code",
   "execution_count": 35,
   "metadata": {},
   "outputs": [
    {
     "data": {
      "text/plain": [
       "{'colsample_bytree': 0.6,\n",
       " 'learning_rate': 0.03,\n",
       " 'max_depth': 3,\n",
       " 'min_child_weight': 1,\n",
       " 'n_estimators': 200}"
      ]
     },
     "execution_count": 35,
     "metadata": {},
     "output_type": "execute_result"
    }
   ],
   "source": [
    "grid_search.best_params_"
   ]
  },
  {
   "cell_type": "code",
   "execution_count": 36,
   "metadata": {},
   "outputs": [
    {
     "data": {
      "text/plain": [
       "0.7950863760361115"
      ]
     },
     "execution_count": 36,
     "metadata": {},
     "output_type": "execute_result"
    }
   ],
   "source": [
    "grid_search.best_score_"
   ]
  },
  {
   "cell_type": "code",
   "execution_count": 37,
   "metadata": {},
   "outputs": [],
   "source": [
    "#THIS IS COMMENTED BECAUSE IT'S AN OUTDATED MODEL THAT WASN'T TUNED BY GRIDSEARCH\n",
    "\n",
    "\n",
    "# #create dmatrices\n",
    "# dtrain = xgb.DMatrix(train_combined, train_labels)\n",
    "# ddev = xgb.DMatrix(dev_combined\n",
    "#                          , dev_labels)\n",
    "\n",
    "\n",
    "# #booster parameter\n",
    "# param = {'max_depth':6, 'eta': .02, 'silent': 1, 'objective': 'binary:logistic'\n",
    "#          , 'scale_pos_weight': 3.06,'max_delta_step':1,'subsample':.9,'n_estimators':128,'colsample_bytree':.7,'seed':42}\n",
    "# param['nthread'] = 4\n",
    "# param['eval_metric'] = 'auc'\n",
    "\n",
    "# #specify validation set to watch performance\n",
    "# evallist = [(ddev, 'eval'), (dtrain, 'train')]\n",
    "\n",
    "# #train model\n",
    "# num_round = 100\n",
    "# bst = xgb.train(param.items(), dtrain, num_round, evallist, early_stopping_rounds=10)"
   ]
  },
  {
   "cell_type": "markdown",
   "metadata": {},
   "source": [
    "We see a comparable score, not different by a wide margin. We could either do further hyperparameter tuning on the model as there are plenty of knobs to play with as well as go back to the drawing board for feature selection. Since this model performed the best in terms of performance and we aren't going for parsimony as much as predictive power, we select this model as our candidate for the test set."
   ]
  },
  {
   "cell_type": "markdown",
   "metadata": {},
   "source": [
    "## 5. Error Analysis"
   ]
  },
  {
   "cell_type": "markdown",
   "metadata": {},
   "source": [
    "### 5.1 Model Submission, Score, and Ranking"
   ]
  },
  {
   "cell_type": "code",
   "execution_count": 38,
   "metadata": {},
   "outputs": [],
   "source": [
    "#construct features for test data\n",
    "test_data = test_json_df\n",
    "test_data['post_and_title'] = test_data['request_text_edit_aware'] +' '+test_data['request_title']\n",
    "test_narrative_features = construct_narrative_features(test_data)\n",
    "test_mat = construct_ft_mat(test_data)\n",
    "test_ft_mat = test_mat.as_matrix()\n",
    "test_bag_of_words = vectorizer.transform(test_data['post_and_title'])\n",
    "test_pruned_bow=model.transform(test_bag_of_words)\n",
    "lda_testbag_of_words = vectorizer_lda.transform(test_data['post_and_title'])\n",
    "test_topics = lda.transform(lda_testbag_of_words)\n",
    "test_tfidf = tfidf_vectorizer.transform(test_data['post_and_title'])\n",
    "nmf_test = nmf_model.transform(test_tfidf)\n",
    "test_combined=hstack([test_pruned_bow,test_ft_mat,test_topics, test_narrative_features,nmf_test])"
   ]
  },
  {
   "cell_type": "code",
   "execution_count": 39,
   "metadata": {},
   "outputs": [
    {
     "data": {
      "text/plain": [
       "428"
      ]
     },
     "execution_count": 39,
     "metadata": {},
     "output_type": "execute_result"
    }
   ],
   "source": [
    "#Make predictions for test data (using cv tuned XGboost)\n",
    "final_pred = grid_search.predict_proba(test_combined)[:, 1]\n",
    "(final_pred > 0.5).sum()"
   ]
  },
  {
   "cell_type": "code",
   "execution_count": 40,
   "metadata": {},
   "outputs": [],
   "source": [
    "# #Make predictions for test data\n",
    "# dtest = xgb.DMatrix(test_combined)\n",
    "# final_pred = bst.predict(dtest, ntree_limit=bst.best_iteration)\n",
    "# (final_pred > 0.45).astype(int).sum()\n",
    "# # final_pred.shape"
   ]
  },
  {
   "cell_type": "markdown",
   "metadata": {},
   "source": [
    "### 5.2 Submission"
   ]
  },
  {
   "cell_type": "code",
   "execution_count": 41,
   "metadata": {},
   "outputs": [],
   "source": [
    "# submssion = pd.DataFrame(np.vstack((test_data.request_id, (final_pred > 0.45).astype(int))).T)\n",
    "# submssion.columns = [\"request_id\", \"requester_received_pizza\"]\n",
    "# submssion.set_index('request_id', inplace = True)\n",
    "# # submssion.head(5)\n",
    "# submssion.to_csv('Submission.csv')"
   ]
  },
  {
   "cell_type": "code",
   "execution_count": 42,
   "metadata": {},
   "outputs": [],
   "source": [
    "submssion = pd.DataFrame(np.vstack((test_data.request_id, (final_pred > 0.5).astype(int))).T)\n",
    "submssion.columns = [\"request_id\", \"requester_received_pizza\"]\n",
    "submssion.set_index('request_id', inplace = True)\n",
    "# submssion.head(5)\n",
    "submssion.to_csv('Submission_2.csv')"
   ]
  },
  {
   "cell_type": "markdown",
   "metadata": {},
   "source": [
    "Our submission on Kaggle scored **0.73151** (AUC) and is good for **72nd** place at the time of writing. "
   ]
  },
  {
   "cell_type": "markdown",
   "metadata": {},
   "source": [
    "### 5.3 ROC Curve"
   ]
  },
  {
   "cell_type": "code",
   "execution_count": 43,
   "metadata": {},
   "outputs": [
    {
     "data": {
      "image/png": "[encoded data removed]",
      "text/plain": [
       "<matplotlib.figure.Figure at 0x1a231cd1d0>"
      ]
     },
     "metadata": {},
     "output_type": "display_data"
    }
   ],
   "source": [
    "#Create ROC curve using Dev data\n",
    "from sklearn.metrics import roc_curve, auc\n",
    "\n",
    "pred_probas = grid_search.predict_proba(dev_combined)[:, 1]\n",
    "\n",
    "fpr,tpr,_ = roc_curve(dev_labels, pred_probas)\n",
    "roc_auc = auc(fpr,tpr)\n",
    "plt.plot(fpr,tpr,label='area = %.2f' %roc_auc)\n",
    "plt.plot([0, 1], [0, 1], 'k--')\n",
    "plt.xlim([0.0, 1.0])\n",
    "plt.ylim([0.0, 1.05])\n",
    "plt.legend(loc='lower right')\n",
    "plt.xlabel('False positive rate')\n",
    "plt.ylabel('True positive rate')\n",
    "plt.title('ROC curve')\n",
    "\n",
    "plt.show()"
   ]
  },
  {
   "cell_type": "code",
   "execution_count": 44,
   "metadata": {},
   "outputs": [
    {
     "data": {
      "text/plain": [
       "{'colsample_bytree': 0.6,\n",
       " 'learning_rate': 0.03,\n",
       " 'max_depth': 3,\n",
       " 'min_child_weight': 1,\n",
       " 'n_estimators': 200}"
      ]
     },
     "execution_count": 44,
     "metadata": {},
     "output_type": "execute_result"
    }
   ],
   "source": [
    "grid_search.best_params_"
   ]
  },
  {
   "cell_type": "markdown",
   "metadata": {},
   "source": [
    "### 5.4 Learning Curve"
   ]
  },
  {
   "cell_type": "code",
   "execution_count": 45,
   "metadata": {},
   "outputs": [
    {
     "name": "stdout",
     "output_type": "stream",
     "text": [
      "400\n",
      "[0]\tvalidation_0-auc:0.677664\n",
      "Will train until validation_0-auc hasn't improved in 10 rounds.\n",
      "[1]\tvalidation_0-auc:0.652418\n",
      "[2]\tvalidation_0-auc:0.675789\n",
      "[3]\tvalidation_0-auc:0.680391\n",
      "[4]\tvalidation_0-auc:0.695424\n",
      "[5]\tvalidation_0-auc:0.71456\n",
      "[6]\tvalidation_0-auc:0.720765\n",
      "[7]\tvalidation_0-auc:0.721435\n",
      "[8]\tvalidation_0-auc:0.725576\n",
      "[9]\tvalidation_0-auc:0.729025\n",
      "[10]\tvalidation_0-auc:0.726312\n",
      "[11]\tvalidation_0-auc:0.718113\n",
      "[12]\tvalidation_0-auc:0.718014\n",
      "[13]\tvalidation_0-auc:0.725633\n",
      "[14]\tvalidation_0-auc:0.732179\n",
      "[15]\tvalidation_0-auc:0.736965\n",
      "[16]\tvalidation_0-auc:0.737915\n",
      "[17]\tvalidation_0-auc:0.740563\n",
      "[18]\tvalidation_0-auc:0.743265\n",
      "[19]\tvalidation_0-auc:0.743964\n",
      "[20]\tvalidation_0-auc:0.744581\n",
      "[21]\tvalidation_0-auc:0.74866\n",
      "[22]\tvalidation_0-auc:0.747615\n",
      "[23]\tvalidation_0-auc:0.749416\n",
      "[24]\tvalidation_0-auc:0.749967\n",
      "[25]\tvalidation_0-auc:0.75097\n",
      "[26]\tvalidation_0-auc:0.752755\n",
      "[27]\tvalidation_0-auc:0.75514\n",
      "[28]\tvalidation_0-auc:0.757319\n",
      "[29]\tvalidation_0-auc:0.759116\n",
      "[30]\tvalidation_0-auc:0.759453\n",
      "[31]\tvalidation_0-auc:0.759774\n",
      "[32]\tvalidation_0-auc:0.757315\n",
      "[33]\tvalidation_0-auc:0.757175\n",
      "[34]\tvalidation_0-auc:0.757804\n",
      "[35]\tvalidation_0-auc:0.752993\n",
      "[36]\tvalidation_0-auc:0.752237\n",
      "[37]\tvalidation_0-auc:0.750206\n",
      "[38]\tvalidation_0-auc:0.749959\n",
      "[39]\tvalidation_0-auc:0.75\n",
      "[40]\tvalidation_0-auc:0.750263\n",
      "[41]\tvalidation_0-auc:0.750543\n",
      "Stopping. Best iteration:\n",
      "[31]\tvalidation_0-auc:0.759774\n",
      "\n",
      "500\n",
      "[0]\tvalidation_0-auc:0.683018\n",
      "Will train until validation_0-auc hasn't improved in 10 rounds.\n",
      "[1]\tvalidation_0-auc:0.703326\n",
      "[2]\tvalidation_0-auc:0.7178\n",
      "[3]\tvalidation_0-auc:0.706312\n",
      "[4]\tvalidation_0-auc:0.697455\n",
      "[5]\tvalidation_0-auc:0.686427\n",
      "[6]\tvalidation_0-auc:0.723655\n",
      "[7]\tvalidation_0-auc:0.738215\n",
      "[8]\tvalidation_0-auc:0.749585\n",
      "[9]\tvalidation_0-auc:0.754313\n",
      "[10]\tvalidation_0-auc:0.759527\n",
      "[11]\tvalidation_0-auc:0.757644\n",
      "[12]\tvalidation_0-auc:0.75426\n",
      "[13]\tvalidation_0-auc:0.758668\n",
      "[14]\tvalidation_0-auc:0.758729\n",
      "[15]\tvalidation_0-auc:0.755506\n",
      "[16]\tvalidation_0-auc:0.759239\n",
      "[17]\tvalidation_0-auc:0.759531\n",
      "[18]\tvalidation_0-auc:0.764416\n",
      "[19]\tvalidation_0-auc:0.761414\n",
      "[20]\tvalidation_0-auc:0.765732\n",
      "[21]\tvalidation_0-auc:0.761916\n",
      "[22]\tvalidation_0-auc:0.764313\n",
      "[23]\tvalidation_0-auc:0.764634\n",
      "[24]\tvalidation_0-auc:0.764519\n",
      "[25]\tvalidation_0-auc:0.763943\n",
      "[26]\tvalidation_0-auc:0.764099\n",
      "[27]\tvalidation_0-auc:0.759757\n",
      "[28]\tvalidation_0-auc:0.76021\n",
      "[29]\tvalidation_0-auc:0.762438\n",
      "[30]\tvalidation_0-auc:0.763594\n",
      "Stopping. Best iteration:\n",
      "[20]\tvalidation_0-auc:0.765732\n",
      "\n",
      "600\n",
      "[0]\tvalidation_0-auc:0.681258\n",
      "Will train until validation_0-auc hasn't improved in 10 rounds.\n",
      "[1]\tvalidation_0-auc:0.730493\n",
      "[2]\tvalidation_0-auc:0.727767\n",
      "[3]\tvalidation_0-auc:0.737113\n",
      "[4]\tvalidation_0-auc:0.734572\n",
      "[5]\tvalidation_0-auc:0.739696\n",
      "[6]\tvalidation_0-auc:0.750021\n",
      "[7]\tvalidation_0-auc:0.756579\n",
      "[8]\tvalidation_0-auc:0.750896\n",
      "[9]\tvalidation_0-auc:0.762076\n",
      "[10]\tvalidation_0-auc:0.768923\n",
      "[11]\tvalidation_0-auc:0.769005\n",
      "[12]\tvalidation_0-auc:0.765892\n",
      "[13]\tvalidation_0-auc:0.765843\n",
      "[14]\tvalidation_0-auc:0.761016\n",
      "[15]\tvalidation_0-auc:0.758376\n",
      "[16]\tvalidation_0-auc:0.762973\n",
      "[17]\tvalidation_0-auc:0.762315\n",
      "[18]\tvalidation_0-auc:0.761016\n",
      "[19]\tvalidation_0-auc:0.762163\n",
      "[20]\tvalidation_0-auc:0.760954\n",
      "[21]\tvalidation_0-auc:0.761591\n",
      "Stopping. Best iteration:\n",
      "[11]\tvalidation_0-auc:0.769005\n",
      "\n",
      "700\n",
      "[0]\tvalidation_0-auc:0.677632\n",
      "Will train until validation_0-auc hasn't improved in 10 rounds.\n",
      "[1]\tvalidation_0-auc:0.701945\n",
      "[2]\tvalidation_0-auc:0.718392\n",
      "[3]\tvalidation_0-auc:0.726571\n",
      "[4]\tvalidation_0-auc:0.72741\n",
      "[5]\tvalidation_0-auc:0.742488\n",
      "[6]\tvalidation_0-auc:0.745863\n",
      "[7]\tvalidation_0-auc:0.751036\n",
      "[8]\tvalidation_0-auc:0.749922\n",
      "[9]\tvalidation_0-auc:0.749638\n",
      "[10]\tvalidation_0-auc:0.76037\n",
      "[11]\tvalidation_0-auc:0.765045\n",
      "[12]\tvalidation_0-auc:0.765489\n",
      "[13]\tvalidation_0-auc:0.763573\n",
      "[14]\tvalidation_0-auc:0.758857\n",
      "[15]\tvalidation_0-auc:0.765103\n",
      "[16]\tvalidation_0-auc:0.765485\n",
      "[17]\tvalidation_0-auc:0.770572\n",
      "[18]\tvalidation_0-auc:0.768799\n",
      "[19]\tvalidation_0-auc:0.767948\n",
      "[20]\tvalidation_0-auc:0.766813\n",
      "[21]\tvalidation_0-auc:0.765917\n",
      "[22]\tvalidation_0-auc:0.765621\n",
      "[23]\tvalidation_0-auc:0.766468\n",
      "[24]\tvalidation_0-auc:0.764437\n",
      "[25]\tvalidation_0-auc:0.767595\n",
      "[26]\tvalidation_0-auc:0.76655\n",
      "[27]\tvalidation_0-auc:0.767924\n",
      "Stopping. Best iteration:\n",
      "[17]\tvalidation_0-auc:0.770572\n",
      "\n",
      "800\n",
      "[0]\tvalidation_0-auc:0.543762\n",
      "Will train until validation_0-auc hasn't improved in 10 rounds.\n",
      "[1]\tvalidation_0-auc:0.673746\n",
      "[2]\tvalidation_0-auc:0.729416\n",
      "[3]\tvalidation_0-auc:0.74662\n",
      "[4]\tvalidation_0-auc:0.748372\n",
      "[5]\tvalidation_0-auc:0.758701\n",
      "[6]\tvalidation_0-auc:0.762755\n",
      "[7]\tvalidation_0-auc:0.769157\n",
      "[8]\tvalidation_0-auc:0.772418\n",
      "[9]\tvalidation_0-auc:0.773684\n",
      "[10]\tvalidation_0-auc:0.775748\n",
      "[11]\tvalidation_0-auc:0.77875\n",
      "[12]\tvalidation_0-auc:0.78331\n",
      "[13]\tvalidation_0-auc:0.781443\n",
      "[14]\tvalidation_0-auc:0.779679\n",
      "[15]\tvalidation_0-auc:0.780699\n",
      "[16]\tvalidation_0-auc:0.780333\n",
      "[17]\tvalidation_0-auc:0.783672\n",
      "[18]\tvalidation_0-auc:0.784585\n",
      "[19]\tvalidation_0-auc:0.783359\n",
      "[20]\tvalidation_0-auc:0.782525\n",
      "[21]\tvalidation_0-auc:0.781624\n",
      "[22]\tvalidation_0-auc:0.782706\n",
      "[23]\tvalidation_0-auc:0.782866\n",
      "[24]\tvalidation_0-auc:0.782093\n",
      "[25]\tvalidation_0-auc:0.778458\n",
      "[26]\tvalidation_0-auc:0.776698\n",
      "[27]\tvalidation_0-auc:0.773318\n",
      "[28]\tvalidation_0-auc:0.770962\n",
      "Stopping. Best iteration:\n",
      "[18]\tvalidation_0-auc:0.784585\n",
      "\n",
      "900\n",
      "[0]\tvalidation_0-auc:0.535021\n",
      "Will train until validation_0-auc hasn't improved in 10 rounds.\n",
      "[1]\tvalidation_0-auc:0.550078\n",
      "[2]\tvalidation_0-auc:0.650169\n",
      "[3]\tvalidation_0-auc:0.66007\n",
      "[4]\tvalidation_0-auc:0.663976\n",
      "[5]\tvalidation_0-auc:0.667952\n",
      "[6]\tvalidation_0-auc:0.710506\n",
      "[7]\tvalidation_0-auc:0.702895\n",
      "[8]\tvalidation_0-auc:0.726209\n",
      "[9]\tvalidation_0-auc:0.737722\n",
      "[10]\tvalidation_0-auc:0.737056\n",
      "[11]\tvalidation_0-auc:0.748331\n",
      "[12]\tvalidation_0-auc:0.754482\n",
      "[13]\tvalidation_0-auc:0.752969\n",
      "[14]\tvalidation_0-auc:0.757319\n",
      "[15]\tvalidation_0-auc:0.758322\n",
      "[16]\tvalidation_0-auc:0.75535\n",
      "[17]\tvalidation_0-auc:0.757479\n",
      "[18]\tvalidation_0-auc:0.761377\n",
      "[19]\tvalidation_0-auc:0.76206\n",
      "[20]\tvalidation_0-auc:0.764955\n",
      "[21]\tvalidation_0-auc:0.764428\n",
      "[22]\tvalidation_0-auc:0.765202\n",
      "[23]\tvalidation_0-auc:0.767303\n",
      "[24]\tvalidation_0-auc:0.768347\n",
      "[25]\tvalidation_0-auc:0.767311\n",
      "[26]\tvalidation_0-auc:0.76685\n",
      "[27]\tvalidation_0-auc:0.767348\n",
      "[28]\tvalidation_0-auc:0.770374\n",
      "[29]\tvalidation_0-auc:0.771016\n",
      "[30]\tvalidation_0-auc:0.772553\n",
      "[31]\tvalidation_0-auc:0.771891\n",
      "[32]\tvalidation_0-auc:0.769729\n",
      "[33]\tvalidation_0-auc:0.770822\n",
      "[34]\tvalidation_0-auc:0.770502\n",
      "[35]\tvalidation_0-auc:0.771086\n",
      "[36]\tvalidation_0-auc:0.771077\n",
      "[37]\tvalidation_0-auc:0.77301\n",
      "[38]\tvalidation_0-auc:0.77352\n",
      "[39]\tvalidation_0-auc:0.77213\n",
      "[40]\tvalidation_0-auc:0.771299\n",
      "[41]\tvalidation_0-auc:0.771127\n",
      "[42]\tvalidation_0-auc:0.770419\n",
      "[43]\tvalidation_0-auc:0.771587\n",
      "[44]\tvalidation_0-auc:0.770715\n",
      "[45]\tvalidation_0-auc:0.770033\n",
      "[46]\tvalidation_0-auc:0.770929\n",
      "[47]\tvalidation_0-auc:0.771184\n",
      "[48]\tvalidation_0-auc:0.772229\n",
      "Stopping. Best iteration:\n",
      "[38]\tvalidation_0-auc:0.77352\n",
      "\n",
      "1000\n",
      "[0]\tvalidation_0-auc:0.692615\n",
      "Will train until validation_0-auc hasn't improved in 10 rounds.\n",
      "[1]\tvalidation_0-auc:0.704145\n",
      "[2]\tvalidation_0-auc:0.733664\n",
      "[3]\tvalidation_0-auc:0.751266\n",
      "[4]\tvalidation_0-auc:0.749338\n",
      "[5]\tvalidation_0-auc:0.757072\n",
      "[6]\tvalidation_0-auc:0.773265\n",
      "[7]\tvalidation_0-auc:0.772159\n",
      "[8]\tvalidation_0-auc:0.777212\n",
      "[9]\tvalidation_0-auc:0.775572\n",
      "[10]\tvalidation_0-auc:0.77685\n",
      "[11]\tvalidation_0-auc:0.774766\n",
      "[12]\tvalidation_0-auc:0.776336\n",
      "[13]\tvalidation_0-auc:0.77567\n",
      "[14]\tvalidation_0-auc:0.775465\n",
      "[15]\tvalidation_0-auc:0.775312\n",
      "[16]\tvalidation_0-auc:0.776488\n",
      "[17]\tvalidation_0-auc:0.7781\n",
      "[18]\tvalidation_0-auc:0.779922\n",
      "[19]\tvalidation_0-auc:0.779396\n",
      "[20]\tvalidation_0-auc:0.778647\n",
      "[21]\tvalidation_0-auc:0.776386\n",
      "[22]\tvalidation_0-auc:0.777743\n",
      "[23]\tvalidation_0-auc:0.77692\n",
      "[24]\tvalidation_0-auc:0.776743\n",
      "[25]\tvalidation_0-auc:0.778627\n",
      "[26]\tvalidation_0-auc:0.777434\n",
      "[27]\tvalidation_0-auc:0.776143\n",
      "[28]\tvalidation_0-auc:0.776846\n",
      "Stopping. Best iteration:\n",
      "[18]\tvalidation_0-auc:0.779922\n",
      "\n",
      "1100\n",
      "[0]\tvalidation_0-auc:0.562093\n",
      "Will train until validation_0-auc hasn't improved in 10 rounds.\n",
      "[1]\tvalidation_0-auc:0.558257\n",
      "[2]\tvalidation_0-auc:0.667438\n",
      "[3]\tvalidation_0-auc:0.681994\n",
      "[4]\tvalidation_0-auc:0.67322\n",
      "[5]\tvalidation_0-auc:0.706908\n",
      "[6]\tvalidation_0-auc:0.736201\n",
      "[7]\tvalidation_0-auc:0.751768\n"
     ]
    },
    {
     "name": "stdout",
     "output_type": "stream",
     "text": [
      "[8]\tvalidation_0-auc:0.753935\n",
      "[9]\tvalidation_0-auc:0.75646\n",
      "[10]\tvalidation_0-auc:0.764211\n",
      "[11]\tvalidation_0-auc:0.767492\n",
      "[12]\tvalidation_0-auc:0.770481\n",
      "[13]\tvalidation_0-auc:0.769264\n",
      "[14]\tvalidation_0-auc:0.766225\n",
      "[15]\tvalidation_0-auc:0.769614\n",
      "[16]\tvalidation_0-auc:0.770136\n",
      "[17]\tvalidation_0-auc:0.765329\n",
      "[18]\tvalidation_0-auc:0.765954\n",
      "[19]\tvalidation_0-auc:0.76648\n",
      "[20]\tvalidation_0-auc:0.767895\n",
      "[21]\tvalidation_0-auc:0.768051\n",
      "[22]\tvalidation_0-auc:0.766883\n",
      "Stopping. Best iteration:\n",
      "[12]\tvalidation_0-auc:0.770481\n",
      "\n",
      "1200\n",
      "[0]\tvalidation_0-auc:0.704289\n",
      "Will train until validation_0-auc hasn't improved in 10 rounds.\n",
      "[1]\tvalidation_0-auc:0.684523\n",
      "[2]\tvalidation_0-auc:0.726575\n",
      "[3]\tvalidation_0-auc:0.738549\n",
      "[4]\tvalidation_0-auc:0.733084\n",
      "[5]\tvalidation_0-auc:0.748199\n",
      "[6]\tvalidation_0-auc:0.750329\n",
      "[7]\tvalidation_0-auc:0.751172\n",
      "[8]\tvalidation_0-auc:0.759614\n",
      "[9]\tvalidation_0-auc:0.750493\n",
      "[10]\tvalidation_0-auc:0.753717\n",
      "[11]\tvalidation_0-auc:0.762829\n",
      "[12]\tvalidation_0-auc:0.757558\n",
      "[13]\tvalidation_0-auc:0.758684\n",
      "[14]\tvalidation_0-auc:0.755847\n",
      "[15]\tvalidation_0-auc:0.758894\n",
      "[16]\tvalidation_0-auc:0.757611\n",
      "[17]\tvalidation_0-auc:0.75641\n",
      "[18]\tvalidation_0-auc:0.75345\n",
      "[19]\tvalidation_0-auc:0.753047\n",
      "[20]\tvalidation_0-auc:0.759609\n",
      "[21]\tvalidation_0-auc:0.759692\n",
      "Stopping. Best iteration:\n",
      "[11]\tvalidation_0-auc:0.762829\n",
      "\n",
      "1300\n",
      "[0]\tvalidation_0-auc:0.704289\n",
      "Will train until validation_0-auc hasn't improved in 10 rounds.\n",
      "[1]\tvalidation_0-auc:0.737977\n",
      "[2]\tvalidation_0-auc:0.72866\n",
      "[3]\tvalidation_0-auc:0.757607\n",
      "[4]\tvalidation_0-auc:0.760156\n",
      "[5]\tvalidation_0-auc:0.768063\n",
      "[6]\tvalidation_0-auc:0.764404\n",
      "[7]\tvalidation_0-auc:0.771221\n",
      "[8]\tvalidation_0-auc:0.77963\n",
      "[9]\tvalidation_0-auc:0.786057\n",
      "[10]\tvalidation_0-auc:0.782327\n",
      "[11]\tvalidation_0-auc:0.780876\n",
      "[12]\tvalidation_0-auc:0.782266\n",
      "[13]\tvalidation_0-auc:0.783697\n",
      "[14]\tvalidation_0-auc:0.784465\n",
      "[15]\tvalidation_0-auc:0.784342\n",
      "[16]\tvalidation_0-auc:0.786398\n",
      "[17]\tvalidation_0-auc:0.788026\n",
      "[18]\tvalidation_0-auc:0.788495\n",
      "[19]\tvalidation_0-auc:0.78866\n",
      "[20]\tvalidation_0-auc:0.78824\n",
      "[21]\tvalidation_0-auc:0.786978\n",
      "[22]\tvalidation_0-auc:0.787315\n",
      "[23]\tvalidation_0-auc:0.786143\n",
      "[24]\tvalidation_0-auc:0.786254\n",
      "[25]\tvalidation_0-auc:0.78521\n",
      "[26]\tvalidation_0-auc:0.782192\n",
      "[27]\tvalidation_0-auc:0.781361\n",
      "[28]\tvalidation_0-auc:0.781007\n",
      "[29]\tvalidation_0-auc:0.781316\n",
      "Stopping. Best iteration:\n",
      "[19]\tvalidation_0-auc:0.78866\n",
      "\n",
      "1400\n",
      "[0]\tvalidation_0-auc:0.685925\n",
      "Will train until validation_0-auc hasn't improved in 10 rounds.\n",
      "[1]\tvalidation_0-auc:0.721632\n",
      "[2]\tvalidation_0-auc:0.737303\n",
      "[3]\tvalidation_0-auc:0.736669\n",
      "[4]\tvalidation_0-auc:0.757775\n",
      "[5]\tvalidation_0-auc:0.752673\n",
      "[6]\tvalidation_0-auc:0.75389\n",
      "[7]\tvalidation_0-auc:0.754803\n",
      "[8]\tvalidation_0-auc:0.765654\n",
      "[9]\tvalidation_0-auc:0.771328\n",
      "[10]\tvalidation_0-auc:0.775596\n",
      "[11]\tvalidation_0-auc:0.78132\n",
      "[12]\tvalidation_0-auc:0.776871\n",
      "[13]\tvalidation_0-auc:0.780066\n",
      "[14]\tvalidation_0-auc:0.779696\n",
      "[15]\tvalidation_0-auc:0.781225\n",
      "[16]\tvalidation_0-auc:0.782759\n",
      "[17]\tvalidation_0-auc:0.783252\n",
      "[18]\tvalidation_0-auc:0.785193\n",
      "[19]\tvalidation_0-auc:0.783187\n",
      "[20]\tvalidation_0-auc:0.783302\n",
      "[21]\tvalidation_0-auc:0.780999\n",
      "[22]\tvalidation_0-auc:0.778549\n",
      "[23]\tvalidation_0-auc:0.776497\n",
      "[24]\tvalidation_0-auc:0.777903\n",
      "[25]\tvalidation_0-auc:0.776197\n",
      "[26]\tvalidation_0-auc:0.77472\n",
      "[27]\tvalidation_0-auc:0.773446\n",
      "[28]\tvalidation_0-auc:0.773655\n",
      "Stopping. Best iteration:\n",
      "[18]\tvalidation_0-auc:0.785193\n",
      "\n",
      "1500\n",
      "[0]\tvalidation_0-auc:0.680288\n",
      "Will train until validation_0-auc hasn't improved in 10 rounds.\n",
      "[1]\tvalidation_0-auc:0.711965\n",
      "[2]\tvalidation_0-auc:0.722845\n",
      "[3]\tvalidation_0-auc:0.723277\n",
      "[4]\tvalidation_0-auc:0.715604\n",
      "[5]\tvalidation_0-auc:0.738014\n",
      "[6]\tvalidation_0-auc:0.755814\n",
      "[7]\tvalidation_0-auc:0.773055\n",
      "[8]\tvalidation_0-auc:0.764338\n",
      "[9]\tvalidation_0-auc:0.767599\n",
      "[10]\tvalidation_0-auc:0.769095\n",
      "[11]\tvalidation_0-auc:0.774104\n",
      "[12]\tvalidation_0-auc:0.777056\n",
      "[13]\tvalidation_0-auc:0.775613\n",
      "[14]\tvalidation_0-auc:0.775748\n",
      "[15]\tvalidation_0-auc:0.779211\n",
      "[16]\tvalidation_0-auc:0.77831\n",
      "[17]\tvalidation_0-auc:0.776271\n",
      "[18]\tvalidation_0-auc:0.779157\n",
      "[19]\tvalidation_0-auc:0.782159\n",
      "[20]\tvalidation_0-auc:0.78324\n",
      "[21]\tvalidation_0-auc:0.781295\n",
      "[22]\tvalidation_0-auc:0.78109\n",
      "[23]\tvalidation_0-auc:0.780654\n",
      "[24]\tvalidation_0-auc:0.78118\n",
      "[25]\tvalidation_0-auc:0.781188\n",
      "[26]\tvalidation_0-auc:0.780695\n",
      "[27]\tvalidation_0-auc:0.779799\n",
      "[28]\tvalidation_0-auc:0.781081\n",
      "[29]\tvalidation_0-auc:0.78345\n",
      "[30]\tvalidation_0-auc:0.7853\n",
      "[31]\tvalidation_0-auc:0.785732\n",
      "[32]\tvalidation_0-auc:0.785123\n",
      "[33]\tvalidation_0-auc:0.784009\n",
      "[34]\tvalidation_0-auc:0.783951\n",
      "[35]\tvalidation_0-auc:0.783787\n",
      "[36]\tvalidation_0-auc:0.782693\n",
      "[37]\tvalidation_0-auc:0.7816\n",
      "[38]\tvalidation_0-auc:0.781875\n",
      "[39]\tvalidation_0-auc:0.78176\n",
      "[40]\tvalidation_0-auc:0.780822\n",
      "[41]\tvalidation_0-auc:0.781192\n",
      "Stopping. Best iteration:\n",
      "[31]\tvalidation_0-auc:0.785732\n",
      "\n",
      "1600\n",
      "[0]\tvalidation_0-auc:0.731423\n",
      "Will train until validation_0-auc hasn't improved in 10 rounds.\n",
      "[1]\tvalidation_0-auc:0.756805\n",
      "[2]\tvalidation_0-auc:0.764013\n",
      "[3]\tvalidation_0-auc:0.76697\n",
      "[4]\tvalidation_0-auc:0.773499\n",
      "[5]\tvalidation_0-auc:0.771978\n",
      "[6]\tvalidation_0-auc:0.777142\n",
      "[7]\tvalidation_0-auc:0.77866\n",
      "[8]\tvalidation_0-auc:0.784433\n",
      "[9]\tvalidation_0-auc:0.782418\n",
      "[10]\tvalidation_0-auc:0.779396\n",
      "[11]\tvalidation_0-auc:0.775123\n",
      "[12]\tvalidation_0-auc:0.779852\n",
      "[13]\tvalidation_0-auc:0.776279\n",
      "[14]\tvalidation_0-auc:0.77595\n",
      "[15]\tvalidation_0-auc:0.782068\n",
      "[16]\tvalidation_0-auc:0.778984\n",
      "[17]\tvalidation_0-auc:0.778779\n",
      "[18]\tvalidation_0-auc:0.781131\n",
      "Stopping. Best iteration:\n",
      "[8]\tvalidation_0-auc:0.784433\n",
      "\n",
      "1700\n",
      "[0]\tvalidation_0-auc:0.736822\n",
      "Will train until validation_0-auc hasn't improved in 10 rounds.\n",
      "[1]\tvalidation_0-auc:0.736221\n",
      "[2]\tvalidation_0-auc:0.76021\n",
      "[3]\tvalidation_0-auc:0.756024\n",
      "[4]\tvalidation_0-auc:0.762097\n",
      "[5]\tvalidation_0-auc:0.754243\n",
      "[6]\tvalidation_0-auc:0.758713\n",
      "[7]\tvalidation_0-auc:0.763528\n",
      "[8]\tvalidation_0-auc:0.765214\n",
      "[9]\tvalidation_0-auc:0.774054\n",
      "[10]\tvalidation_0-auc:0.774638\n",
      "[11]\tvalidation_0-auc:0.773035\n",
      "[12]\tvalidation_0-auc:0.770518\n",
      "[13]\tvalidation_0-auc:0.770053\n",
      "[14]\tvalidation_0-auc:0.774548\n",
      "[15]\tvalidation_0-auc:0.774984\n",
      "[16]\tvalidation_0-auc:0.772919\n",
      "[17]\tvalidation_0-auc:0.773951\n",
      "[18]\tvalidation_0-auc:0.776283\n",
      "[19]\tvalidation_0-auc:0.775399\n",
      "[20]\tvalidation_0-auc:0.776501\n",
      "[21]\tvalidation_0-auc:0.777204\n",
      "[22]\tvalidation_0-auc:0.773368\n",
      "[23]\tvalidation_0-auc:0.772599\n",
      "[24]\tvalidation_0-auc:0.772109\n",
      "[25]\tvalidation_0-auc:0.770567\n",
      "[26]\tvalidation_0-auc:0.770095\n",
      "[27]\tvalidation_0-auc:0.76801\n",
      "[28]\tvalidation_0-auc:0.766941\n",
      "[29]\tvalidation_0-auc:0.767747\n",
      "[30]\tvalidation_0-auc:0.766752\n",
      "[31]\tvalidation_0-auc:0.767081\n",
      "Stopping. Best iteration:\n",
      "[21]\tvalidation_0-auc:0.777204\n",
      "\n",
      "1800\n",
      "[0]\tvalidation_0-auc:0.678799\n",
      "Will train until validation_0-auc hasn't improved in 10 rounds.\n",
      "[1]\tvalidation_0-auc:0.725864\n",
      "[2]\tvalidation_0-auc:0.727368\n",
      "[3]\tvalidation_0-auc:0.743651\n",
      "[4]\tvalidation_0-auc:0.755452\n",
      "[5]\tvalidation_0-auc:0.751834\n",
      "[6]\tvalidation_0-auc:0.755847\n",
      "[7]\tvalidation_0-auc:0.763298\n",
      "[8]\tvalidation_0-auc:0.759811\n",
      "[9]\tvalidation_0-auc:0.765099\n",
      "[10]\tvalidation_0-auc:0.765078\n",
      "[11]\tvalidation_0-auc:0.763931\n",
      "[12]\tvalidation_0-auc:0.762644\n",
      "[13]\tvalidation_0-auc:0.76722\n",
      "[14]\tvalidation_0-auc:0.765975\n",
      "[15]\tvalidation_0-auc:0.768331\n",
      "[16]\tvalidation_0-auc:0.768647\n",
      "[17]\tvalidation_0-auc:0.767471\n",
      "[18]\tvalidation_0-auc:0.769675\n",
      "[19]\tvalidation_0-auc:0.769959\n",
      "[20]\tvalidation_0-auc:0.770206\n",
      "[21]\tvalidation_0-auc:0.770082\n",
      "[22]\tvalidation_0-auc:0.769733\n",
      "[23]\tvalidation_0-auc:0.76766\n",
      "[24]\tvalidation_0-auc:0.766863\n",
      "[25]\tvalidation_0-auc:0.767381\n",
      "[26]\tvalidation_0-auc:0.766501\n",
      "[27]\tvalidation_0-auc:0.764099\n",
      "[28]\tvalidation_0-auc:0.763462\n",
      "[29]\tvalidation_0-auc:0.76384\n",
      "[30]\tvalidation_0-auc:0.765469\n",
      "Stopping. Best iteration:\n",
      "[20]\tvalidation_0-auc:0.770206\n",
      "\n",
      "1900\n",
      "[0]\tvalidation_0-auc:0.72197\n",
      "Will train until validation_0-auc hasn't improved in 10 rounds.\n",
      "[1]\tvalidation_0-auc:0.692196\n",
      "[2]\tvalidation_0-auc:0.736151\n",
      "[3]\tvalidation_0-auc:0.746661\n",
      "[4]\tvalidation_0-auc:0.753339\n",
      "[5]\tvalidation_0-auc:0.758939\n",
      "[6]\tvalidation_0-auc:0.760802\n",
      "[7]\tvalidation_0-auc:0.76477\n",
      "[8]\tvalidation_0-auc:0.765485\n",
      "[9]\tvalidation_0-auc:0.764087\n",
      "[10]\tvalidation_0-auc:0.764449\n",
      "[11]\tvalidation_0-auc:0.769589\n",
      "[12]\tvalidation_0-auc:0.768655\n",
      "[13]\tvalidation_0-auc:0.765629\n",
      "[14]\tvalidation_0-auc:0.768392\n",
      "[15]\tvalidation_0-auc:0.769009\n"
     ]
    },
    {
     "name": "stdout",
     "output_type": "stream",
     "text": [
      "[16]\tvalidation_0-auc:0.767007\n",
      "[17]\tvalidation_0-auc:0.769054\n",
      "[18]\tvalidation_0-auc:0.765415\n",
      "[19]\tvalidation_0-auc:0.763779\n",
      "[20]\tvalidation_0-auc:0.763318\n",
      "[21]\tvalidation_0-auc:0.76382\n",
      "Stopping. Best iteration:\n",
      "[11]\tvalidation_0-auc:0.769589\n",
      "\n",
      "2000\n",
      "[0]\tvalidation_0-auc:0.688787\n",
      "Will train until validation_0-auc hasn't improved in 10 rounds.\n",
      "[1]\tvalidation_0-auc:0.733306\n",
      "[2]\tvalidation_0-auc:0.751044\n",
      "[3]\tvalidation_0-auc:0.747887\n",
      "[4]\tvalidation_0-auc:0.76426\n",
      "[5]\tvalidation_0-auc:0.777516\n",
      "[6]\tvalidation_0-auc:0.779021\n",
      "[7]\tvalidation_0-auc:0.780325\n",
      "[8]\tvalidation_0-auc:0.770238\n",
      "[9]\tvalidation_0-auc:0.767019\n",
      "[10]\tvalidation_0-auc:0.766427\n",
      "[11]\tvalidation_0-auc:0.767262\n",
      "[12]\tvalidation_0-auc:0.763261\n",
      "[13]\tvalidation_0-auc:0.762023\n",
      "[14]\tvalidation_0-auc:0.76486\n",
      "[15]\tvalidation_0-auc:0.762545\n",
      "[16]\tvalidation_0-auc:0.767023\n",
      "[17]\tvalidation_0-auc:0.767615\n",
      "Stopping. Best iteration:\n",
      "[7]\tvalidation_0-auc:0.780325\n",
      "\n",
      "2100\n",
      "[0]\tvalidation_0-auc:0.697356\n",
      "Will train until validation_0-auc hasn't improved in 10 rounds.\n",
      "[1]\tvalidation_0-auc:0.739091\n",
      "[2]\tvalidation_0-auc:0.746172\n",
      "[3]\tvalidation_0-auc:0.729182\n",
      "[4]\tvalidation_0-auc:0.748668\n",
      "[5]\tvalidation_0-auc:0.735987\n",
      "[6]\tvalidation_0-auc:0.748162\n",
      "[7]\tvalidation_0-auc:0.754523\n",
      "[8]\tvalidation_0-auc:0.760995\n",
      "[9]\tvalidation_0-auc:0.765724\n",
      "[10]\tvalidation_0-auc:0.767126\n",
      "[11]\tvalidation_0-auc:0.770206\n",
      "[12]\tvalidation_0-auc:0.763121\n",
      "[13]\tvalidation_0-auc:0.764272\n",
      "[14]\tvalidation_0-auc:0.767792\n",
      "[15]\tvalidation_0-auc:0.770152\n",
      "[16]\tvalidation_0-auc:0.769646\n",
      "[17]\tvalidation_0-auc:0.770082\n",
      "[18]\tvalidation_0-auc:0.771472\n",
      "[19]\tvalidation_0-auc:0.770514\n",
      "[20]\tvalidation_0-auc:0.771151\n",
      "[21]\tvalidation_0-auc:0.771908\n",
      "[22]\tvalidation_0-auc:0.770991\n",
      "[23]\tvalidation_0-auc:0.771608\n",
      "[24]\tvalidation_0-auc:0.772064\n",
      "[25]\tvalidation_0-auc:0.771859\n",
      "[26]\tvalidation_0-auc:0.772085\n",
      "[27]\tvalidation_0-auc:0.77347\n",
      "[28]\tvalidation_0-auc:0.775033\n",
      "[29]\tvalidation_0-auc:0.775641\n",
      "[30]\tvalidation_0-auc:0.774893\n",
      "[31]\tvalidation_0-auc:0.775062\n",
      "[32]\tvalidation_0-auc:0.772743\n",
      "[33]\tvalidation_0-auc:0.77271\n",
      "[34]\tvalidation_0-auc:0.773828\n",
      "[35]\tvalidation_0-auc:0.774424\n",
      "[36]\tvalidation_0-auc:0.774112\n",
      "[37]\tvalidation_0-auc:0.773499\n",
      "[38]\tvalidation_0-auc:0.775983\n",
      "[39]\tvalidation_0-auc:0.775465\n",
      "[40]\tvalidation_0-auc:0.775699\n",
      "[41]\tvalidation_0-auc:0.775173\n",
      "[42]\tvalidation_0-auc:0.775041\n",
      "[43]\tvalidation_0-auc:0.775563\n",
      "[44]\tvalidation_0-auc:0.775913\n",
      "[45]\tvalidation_0-auc:0.776151\n",
      "[46]\tvalidation_0-auc:0.776332\n",
      "[47]\tvalidation_0-auc:0.775929\n",
      "[48]\tvalidation_0-auc:0.776094\n",
      "[49]\tvalidation_0-auc:0.775641\n",
      "[50]\tvalidation_0-auc:0.775271\n",
      "[51]\tvalidation_0-auc:0.775493\n",
      "[52]\tvalidation_0-auc:0.775156\n",
      "[53]\tvalidation_0-auc:0.77412\n",
      "[54]\tvalidation_0-auc:0.775617\n",
      "[55]\tvalidation_0-auc:0.774901\n",
      "[56]\tvalidation_0-auc:0.774622\n",
      "Stopping. Best iteration:\n",
      "[46]\tvalidation_0-auc:0.776332\n",
      "\n",
      "2200\n",
      "[0]\tvalidation_0-auc:0.558409\n",
      "Will train until validation_0-auc hasn't improved in 10 rounds.\n",
      "[1]\tvalidation_0-auc:0.59234\n",
      "[2]\tvalidation_0-auc:0.680761\n",
      "[3]\tvalidation_0-auc:0.715448\n",
      "[4]\tvalidation_0-auc:0.718808\n",
      "[5]\tvalidation_0-auc:0.717019\n",
      "[6]\tvalidation_0-auc:0.737845\n",
      "[7]\tvalidation_0-auc:0.74162\n",
      "[8]\tvalidation_0-auc:0.729108\n",
      "[9]\tvalidation_0-auc:0.72435\n",
      "[10]\tvalidation_0-auc:0.72266\n",
      "[11]\tvalidation_0-auc:0.719243\n",
      "[12]\tvalidation_0-auc:0.717282\n",
      "[13]\tvalidation_0-auc:0.733351\n",
      "[14]\tvalidation_0-auc:0.735933\n",
      "[15]\tvalidation_0-auc:0.746748\n",
      "[16]\tvalidation_0-auc:0.746797\n",
      "[17]\tvalidation_0-auc:0.753392\n",
      "[18]\tvalidation_0-auc:0.754593\n",
      "[19]\tvalidation_0-auc:0.760609\n",
      "[20]\tvalidation_0-auc:0.766653\n",
      "[21]\tvalidation_0-auc:0.767878\n",
      "[22]\tvalidation_0-auc:0.768347\n",
      "[23]\tvalidation_0-auc:0.771493\n",
      "[24]\tvalidation_0-auc:0.773109\n",
      "[25]\tvalidation_0-auc:0.772722\n",
      "[26]\tvalidation_0-auc:0.773606\n",
      "[27]\tvalidation_0-auc:0.774124\n",
      "[28]\tvalidation_0-auc:0.775391\n",
      "[29]\tvalidation_0-auc:0.77419\n",
      "[30]\tvalidation_0-auc:0.775752\n",
      "[31]\tvalidation_0-auc:0.778512\n",
      "[32]\tvalidation_0-auc:0.77764\n",
      "[33]\tvalidation_0-auc:0.776563\n",
      "[34]\tvalidation_0-auc:0.77722\n",
      "[35]\tvalidation_0-auc:0.777656\n",
      "[36]\tvalidation_0-auc:0.777039\n",
      "[37]\tvalidation_0-auc:0.776357\n",
      "[38]\tvalidation_0-auc:0.777113\n",
      "[39]\tvalidation_0-auc:0.776447\n",
      "[40]\tvalidation_0-auc:0.774819\n",
      "[41]\tvalidation_0-auc:0.774054\n",
      "Stopping. Best iteration:\n",
      "[31]\tvalidation_0-auc:0.778512\n",
      "\n",
      "2300\n",
      "[0]\tvalidation_0-auc:0.598298\n",
      "Will train until validation_0-auc hasn't improved in 10 rounds.\n",
      "[1]\tvalidation_0-auc:0.719996\n",
      "[2]\tvalidation_0-auc:0.690033\n",
      "[3]\tvalidation_0-auc:0.722562\n",
      "[4]\tvalidation_0-auc:0.755481\n",
      "[5]\tvalidation_0-auc:0.767159\n",
      "[6]\tvalidation_0-auc:0.765703\n",
      "[7]\tvalidation_0-auc:0.759519\n",
      "[8]\tvalidation_0-auc:0.76465\n",
      "[9]\tvalidation_0-auc:0.764581\n",
      "[10]\tvalidation_0-auc:0.770452\n",
      "[11]\tvalidation_0-auc:0.777582\n",
      "[12]\tvalidation_0-auc:0.779322\n",
      "[13]\tvalidation_0-auc:0.782784\n",
      "[14]\tvalidation_0-auc:0.784083\n",
      "[15]\tvalidation_0-auc:0.782965\n",
      "[16]\tvalidation_0-auc:0.783137\n",
      "[17]\tvalidation_0-auc:0.784215\n",
      "[18]\tvalidation_0-auc:0.784634\n",
      "[19]\tvalidation_0-auc:0.783787\n",
      "[20]\tvalidation_0-auc:0.780699\n",
      "[21]\tvalidation_0-auc:0.779901\n",
      "[22]\tvalidation_0-auc:0.780658\n",
      "[23]\tvalidation_0-auc:0.783709\n",
      "[24]\tvalidation_0-auc:0.782471\n",
      "[25]\tvalidation_0-auc:0.78116\n",
      "[26]\tvalidation_0-auc:0.781316\n",
      "[27]\tvalidation_0-auc:0.78259\n",
      "[28]\tvalidation_0-auc:0.781998\n",
      "Stopping. Best iteration:\n",
      "[18]\tvalidation_0-auc:0.784634\n",
      "\n",
      "2400\n",
      "[0]\tvalidation_0-auc:0.686476\n",
      "Will train until validation_0-auc hasn't improved in 10 rounds.\n",
      "[1]\tvalidation_0-auc:0.701941\n",
      "[2]\tvalidation_0-auc:0.721427\n",
      "[3]\tvalidation_0-auc:0.739486\n",
      "[4]\tvalidation_0-auc:0.747039\n",
      "[5]\tvalidation_0-auc:0.748405\n",
      "[6]\tvalidation_0-auc:0.75428\n",
      "[7]\tvalidation_0-auc:0.767689\n",
      "[8]\tvalidation_0-auc:0.770148\n",
      "[9]\tvalidation_0-auc:0.772397\n",
      "[10]\tvalidation_0-auc:0.772891\n",
      "[11]\tvalidation_0-auc:0.766139\n",
      "[12]\tvalidation_0-auc:0.766641\n",
      "[13]\tvalidation_0-auc:0.762286\n",
      "[14]\tvalidation_0-auc:0.763902\n",
      "[15]\tvalidation_0-auc:0.762985\n",
      "[16]\tvalidation_0-auc:0.769034\n",
      "[17]\tvalidation_0-auc:0.772286\n",
      "[18]\tvalidation_0-auc:0.771049\n",
      "[19]\tvalidation_0-auc:0.772319\n",
      "[20]\tvalidation_0-auc:0.771727\n",
      "Stopping. Best iteration:\n",
      "[10]\tvalidation_0-auc:0.772891\n",
      "\n",
      "2500\n",
      "[0]\tvalidation_0-auc:0.682471\n",
      "Will train until validation_0-auc hasn't improved in 10 rounds.\n",
      "[1]\tvalidation_0-auc:0.717627\n",
      "[2]\tvalidation_0-auc:0.723886\n",
      "[3]\tvalidation_0-auc:0.736365\n",
      "[4]\tvalidation_0-auc:0.75301\n",
      "[5]\tvalidation_0-auc:0.747303\n",
      "[6]\tvalidation_0-auc:0.749881\n",
      "[7]\tvalidation_0-auc:0.748594\n",
      "[8]\tvalidation_0-auc:0.74618\n",
      "[9]\tvalidation_0-auc:0.75551\n",
      "[10]\tvalidation_0-auc:0.759112\n",
      "[11]\tvalidation_0-auc:0.755247\n",
      "[12]\tvalidation_0-auc:0.760115\n",
      "[13]\tvalidation_0-auc:0.764215\n",
      "[14]\tvalidation_0-auc:0.763076\n",
      "[15]\tvalidation_0-auc:0.764182\n",
      "[16]\tvalidation_0-auc:0.765798\n",
      "[17]\tvalidation_0-auc:0.767064\n",
      "[18]\tvalidation_0-auc:0.76632\n",
      "[19]\tvalidation_0-auc:0.767911\n",
      "[20]\tvalidation_0-auc:0.770181\n",
      "[21]\tvalidation_0-auc:0.769359\n",
      "[22]\tvalidation_0-auc:0.770567\n",
      "[23]\tvalidation_0-auc:0.76389\n",
      "[24]\tvalidation_0-auc:0.765341\n",
      "[25]\tvalidation_0-auc:0.764408\n",
      "[26]\tvalidation_0-auc:0.764087\n",
      "[27]\tvalidation_0-auc:0.768919\n",
      "[28]\tvalidation_0-auc:0.769749\n",
      "[29]\tvalidation_0-auc:0.76993\n",
      "[30]\tvalidation_0-auc:0.772714\n",
      "[31]\tvalidation_0-auc:0.771937\n",
      "[32]\tvalidation_0-auc:0.771986\n",
      "[33]\tvalidation_0-auc:0.774223\n",
      "[34]\tvalidation_0-auc:0.774075\n",
      "[35]\tvalidation_0-auc:0.773614\n",
      "[36]\tvalidation_0-auc:0.772632\n",
      "[37]\tvalidation_0-auc:0.771538\n",
      "[38]\tvalidation_0-auc:0.769683\n",
      "[39]\tvalidation_0-auc:0.769667\n",
      "[40]\tvalidation_0-auc:0.768951\n",
      "[41]\tvalidation_0-auc:0.767841\n",
      "[42]\tvalidation_0-auc:0.765748\n",
      "[43]\tvalidation_0-auc:0.764696\n",
      "Stopping. Best iteration:\n",
      "[33]\tvalidation_0-auc:0.774223\n",
      "\n",
      "2600\n",
      "[0]\tvalidation_0-auc:0.592549\n",
      "Will train until validation_0-auc hasn't improved in 10 rounds.\n",
      "[1]\tvalidation_0-auc:0.69403\n",
      "[2]\tvalidation_0-auc:0.73449\n",
      "[3]\tvalidation_0-auc:0.737401\n",
      "[4]\tvalidation_0-auc:0.743294\n",
      "[5]\tvalidation_0-auc:0.751978\n",
      "[6]\tvalidation_0-auc:0.760572\n",
      "[7]\tvalidation_0-auc:0.769285\n",
      "[8]\tvalidation_0-auc:0.77229\n",
      "[9]\tvalidation_0-auc:0.773121\n",
      "[10]\tvalidation_0-auc:0.769285\n",
      "[11]\tvalidation_0-auc:0.771406\n",
      "[12]\tvalidation_0-auc:0.76764\n",
      "[13]\tvalidation_0-auc:0.768438\n",
      "[14]\tvalidation_0-auc:0.771715\n",
      "[15]\tvalidation_0-auc:0.770263\n",
      "[16]\tvalidation_0-auc:0.772002\n",
      "[17]\tvalidation_0-auc:0.767126\n",
      "[18]\tvalidation_0-auc:0.769437\n",
      "[19]\tvalidation_0-auc:0.769116\n",
      "Stopping. Best iteration:\n",
      "[9]\tvalidation_0-auc:0.773121\n",
      "\n"
     ]
    },
    {
     "name": "stdout",
     "output_type": "stream",
     "text": [
      "2700\n",
      "[0]\tvalidation_0-auc:0.686476\n",
      "Will train until validation_0-auc hasn't improved in 10 rounds.\n",
      "[1]\tvalidation_0-auc:0.704379\n",
      "[2]\tvalidation_0-auc:0.722516\n",
      "[3]\tvalidation_0-auc:0.741147\n",
      "[4]\tvalidation_0-auc:0.750617\n",
      "[5]\tvalidation_0-auc:0.750481\n",
      "[6]\tvalidation_0-auc:0.746476\n",
      "[7]\tvalidation_0-auc:0.75234\n",
      "[8]\tvalidation_0-auc:0.748906\n",
      "[9]\tvalidation_0-auc:0.744794\n",
      "[10]\tvalidation_0-auc:0.750526\n",
      "[11]\tvalidation_0-auc:0.75889\n",
      "[12]\tvalidation_0-auc:0.761945\n",
      "[13]\tvalidation_0-auc:0.765144\n",
      "[14]\tvalidation_0-auc:0.766057\n",
      "[15]\tvalidation_0-auc:0.764017\n",
      "[16]\tvalidation_0-auc:0.764231\n",
      "[17]\tvalidation_0-auc:0.768277\n",
      "[18]\tvalidation_0-auc:0.768639\n",
      "[19]\tvalidation_0-auc:0.769823\n",
      "[20]\tvalidation_0-auc:0.771665\n",
      "[21]\tvalidation_0-auc:0.769231\n",
      "[22]\tvalidation_0-auc:0.76903\n",
      "[23]\tvalidation_0-auc:0.772562\n",
      "[24]\tvalidation_0-auc:0.771937\n",
      "[25]\tvalidation_0-auc:0.773224\n",
      "[26]\tvalidation_0-auc:0.772163\n",
      "[27]\tvalidation_0-auc:0.772389\n",
      "[28]\tvalidation_0-auc:0.772907\n",
      "[29]\tvalidation_0-auc:0.769704\n",
      "[30]\tvalidation_0-auc:0.769646\n",
      "[31]\tvalidation_0-auc:0.773668\n",
      "[32]\tvalidation_0-auc:0.773026\n",
      "[33]\tvalidation_0-auc:0.774128\n",
      "[34]\tvalidation_0-auc:0.775387\n",
      "[35]\tvalidation_0-auc:0.777286\n",
      "[36]\tvalidation_0-auc:0.775576\n",
      "[37]\tvalidation_0-auc:0.776382\n",
      "[38]\tvalidation_0-auc:0.776965\n",
      "[39]\tvalidation_0-auc:0.778281\n",
      "[40]\tvalidation_0-auc:0.778701\n",
      "[41]\tvalidation_0-auc:0.777812\n",
      "[42]\tvalidation_0-auc:0.777344\n",
      "[43]\tvalidation_0-auc:0.777689\n",
      "[44]\tvalidation_0-auc:0.777549\n",
      "[45]\tvalidation_0-auc:0.7794\n",
      "[46]\tvalidation_0-auc:0.778873\n",
      "[47]\tvalidation_0-auc:0.778141\n",
      "[48]\tvalidation_0-auc:0.777484\n",
      "[49]\tvalidation_0-auc:0.776867\n",
      "[50]\tvalidation_0-auc:0.777549\n",
      "[51]\tvalidation_0-auc:0.777541\n",
      "[52]\tvalidation_0-auc:0.775699\n",
      "[53]\tvalidation_0-auc:0.776834\n",
      "[54]\tvalidation_0-auc:0.777919\n",
      "[55]\tvalidation_0-auc:0.779145\n",
      "Stopping. Best iteration:\n",
      "[45]\tvalidation_0-auc:0.7794\n",
      "\n",
      "2800\n",
      "[0]\tvalidation_0-auc:0.68669\n",
      "Will train until validation_0-auc hasn't improved in 10 rounds.\n",
      "[1]\tvalidation_0-auc:0.737776\n",
      "[2]\tvalidation_0-auc:0.755502\n",
      "[3]\tvalidation_0-auc:0.771164\n",
      "[4]\tvalidation_0-auc:0.767681\n",
      "[5]\tvalidation_0-auc:0.774063\n",
      "[6]\tvalidation_0-auc:0.767019\n",
      "[7]\tvalidation_0-auc:0.775576\n",
      "[8]\tvalidation_0-auc:0.775872\n",
      "[9]\tvalidation_0-auc:0.771069\n",
      "[10]\tvalidation_0-auc:0.776661\n",
      "[11]\tvalidation_0-auc:0.775905\n",
      "[12]\tvalidation_0-auc:0.784942\n",
      "[13]\tvalidation_0-auc:0.782743\n",
      "[14]\tvalidation_0-auc:0.781168\n",
      "[15]\tvalidation_0-auc:0.778828\n",
      "[16]\tvalidation_0-auc:0.785132\n",
      "[17]\tvalidation_0-auc:0.784161\n",
      "[18]\tvalidation_0-auc:0.78678\n",
      "[19]\tvalidation_0-auc:0.787138\n",
      "[20]\tvalidation_0-auc:0.789264\n",
      "[21]\tvalidation_0-auc:0.790489\n",
      "[22]\tvalidation_0-auc:0.792212\n",
      "[23]\tvalidation_0-auc:0.789947\n",
      "[24]\tvalidation_0-auc:0.790617\n",
      "[25]\tvalidation_0-auc:0.790518\n",
      "[26]\tvalidation_0-auc:0.791151\n",
      "[27]\tvalidation_0-auc:0.789856\n",
      "[28]\tvalidation_0-auc:0.790255\n",
      "[29]\tvalidation_0-auc:0.790444\n",
      "[30]\tvalidation_0-auc:0.790831\n",
      "[31]\tvalidation_0-auc:0.791016\n",
      "[32]\tvalidation_0-auc:0.790814\n",
      "Stopping. Best iteration:\n",
      "[22]\tvalidation_0-auc:0.792212\n",
      "\n",
      "2900\n",
      "[0]\tvalidation_0-auc:0.700095\n",
      "Will train until validation_0-auc hasn't improved in 10 rounds.\n",
      "[1]\tvalidation_0-auc:0.734844\n",
      "[2]\tvalidation_0-auc:0.750411\n",
      "[3]\tvalidation_0-auc:0.74852\n",
      "[4]\tvalidation_0-auc:0.74822\n",
      "[5]\tvalidation_0-auc:0.763968\n",
      "[6]\tvalidation_0-auc:0.7731\n",
      "[7]\tvalidation_0-auc:0.779712\n",
      "[8]\tvalidation_0-auc:0.784576\n",
      "[9]\tvalidation_0-auc:0.781377\n",
      "[10]\tvalidation_0-auc:0.784601\n",
      "[11]\tvalidation_0-auc:0.786275\n",
      "[12]\tvalidation_0-auc:0.781982\n",
      "[13]\tvalidation_0-auc:0.77984\n",
      "[14]\tvalidation_0-auc:0.779445\n",
      "[15]\tvalidation_0-auc:0.781908\n",
      "[16]\tvalidation_0-auc:0.78162\n",
      "[17]\tvalidation_0-auc:0.784301\n",
      "[18]\tvalidation_0-auc:0.785502\n",
      "[19]\tvalidation_0-auc:0.785954\n",
      "[20]\tvalidation_0-auc:0.786316\n",
      "[21]\tvalidation_0-auc:0.783088\n",
      "[22]\tvalidation_0-auc:0.782928\n",
      "[23]\tvalidation_0-auc:0.782993\n",
      "[24]\tvalidation_0-auc:0.784198\n",
      "[25]\tvalidation_0-auc:0.783713\n",
      "[26]\tvalidation_0-auc:0.783902\n",
      "[27]\tvalidation_0-auc:0.785448\n",
      "[28]\tvalidation_0-auc:0.786044\n",
      "[29]\tvalidation_0-auc:0.785609\n",
      "[30]\tvalidation_0-auc:0.786706\n",
      "[31]\tvalidation_0-auc:0.787052\n",
      "[32]\tvalidation_0-auc:0.787607\n",
      "[33]\tvalidation_0-auc:0.787874\n",
      "[34]\tvalidation_0-auc:0.788158\n",
      "[35]\tvalidation_0-auc:0.78884\n",
      "[36]\tvalidation_0-auc:0.788281\n",
      "[37]\tvalidation_0-auc:0.786846\n",
      "[38]\tvalidation_0-auc:0.785777\n",
      "[39]\tvalidation_0-auc:0.786591\n",
      "[40]\tvalidation_0-auc:0.786986\n",
      "[41]\tvalidation_0-auc:0.78734\n",
      "[42]\tvalidation_0-auc:0.786377\n",
      "[43]\tvalidation_0-auc:0.786353\n",
      "[44]\tvalidation_0-auc:0.78641\n",
      "[45]\tvalidation_0-auc:0.786567\n",
      "Stopping. Best iteration:\n",
      "[35]\tvalidation_0-auc:0.78884\n",
      "\n",
      "3000\n",
      "[0]\tvalidation_0-auc:0.716221\n",
      "Will train until validation_0-auc hasn't improved in 10 rounds.\n",
      "[1]\tvalidation_0-auc:0.722545\n",
      "[2]\tvalidation_0-auc:0.738006\n",
      "[3]\tvalidation_0-auc:0.741706\n",
      "[4]\tvalidation_0-auc:0.742911\n",
      "[5]\tvalidation_0-auc:0.758894\n",
      "[6]\tvalidation_0-auc:0.760271\n",
      "[7]\tvalidation_0-auc:0.760913\n",
      "[8]\tvalidation_0-auc:0.764474\n",
      "[9]\tvalidation_0-auc:0.764856\n",
      "[10]\tvalidation_0-auc:0.774959\n",
      "[11]\tvalidation_0-auc:0.774934\n",
      "[12]\tvalidation_0-auc:0.776127\n",
      "[13]\tvalidation_0-auc:0.778795\n",
      "[14]\tvalidation_0-auc:0.782948\n",
      "[15]\tvalidation_0-auc:0.778709\n",
      "[16]\tvalidation_0-auc:0.781731\n",
      "[17]\tvalidation_0-auc:0.782331\n",
      "[18]\tvalidation_0-auc:0.784198\n",
      "[19]\tvalidation_0-auc:0.789186\n",
      "[20]\tvalidation_0-auc:0.792138\n",
      "[21]\tvalidation_0-auc:0.791468\n",
      "[22]\tvalidation_0-auc:0.789276\n",
      "[23]\tvalidation_0-auc:0.792101\n",
      "[24]\tvalidation_0-auc:0.793302\n",
      "[25]\tvalidation_0-auc:0.790748\n",
      "[26]\tvalidation_0-auc:0.789223\n",
      "[27]\tvalidation_0-auc:0.789141\n",
      "[28]\tvalidation_0-auc:0.789905\n",
      "[29]\tvalidation_0-auc:0.791032\n",
      "[30]\tvalidation_0-auc:0.791172\n",
      "[31]\tvalidation_0-auc:0.792693\n",
      "[32]\tvalidation_0-auc:0.793178\n",
      "[33]\tvalidation_0-auc:0.793454\n",
      "[34]\tvalidation_0-auc:0.793232\n",
      "[35]\tvalidation_0-auc:0.794268\n",
      "[36]\tvalidation_0-auc:0.794581\n",
      "[37]\tvalidation_0-auc:0.794951\n",
      "[38]\tvalidation_0-auc:0.793972\n",
      "[39]\tvalidation_0-auc:0.794622\n",
      "[40]\tvalidation_0-auc:0.794704\n",
      "[41]\tvalidation_0-auc:0.794227\n",
      "[42]\tvalidation_0-auc:0.792993\n",
      "[43]\tvalidation_0-auc:0.795896\n",
      "[44]\tvalidation_0-auc:0.795732\n",
      "[45]\tvalidation_0-auc:0.794268\n",
      "[46]\tvalidation_0-auc:0.793544\n",
      "[47]\tvalidation_0-auc:0.792237\n",
      "[48]\tvalidation_0-auc:0.79222\n",
      "[49]\tvalidation_0-auc:0.791661\n",
      "[50]\tvalidation_0-auc:0.791406\n",
      "[51]\tvalidation_0-auc:0.791859\n",
      "[52]\tvalidation_0-auc:0.792007\n",
      "[53]\tvalidation_0-auc:0.793931\n",
      "Stopping. Best iteration:\n",
      "[43]\tvalidation_0-auc:0.795896\n",
      "\n",
      "3100\n",
      "[0]\tvalidation_0-auc:0.692163\n",
      "Will train until validation_0-auc hasn't improved in 10 rounds.\n",
      "[1]\tvalidation_0-auc:0.681904\n",
      "[2]\tvalidation_0-auc:0.723618\n",
      "[3]\tvalidation_0-auc:0.737105\n",
      "[4]\tvalidation_0-auc:0.754934\n",
      "[5]\tvalidation_0-auc:0.763528\n",
      "[6]\tvalidation_0-auc:0.762274\n",
      "[7]\tvalidation_0-auc:0.770407\n",
      "[8]\tvalidation_0-auc:0.772845\n",
      "[9]\tvalidation_0-auc:0.771324\n",
      "[10]\tvalidation_0-auc:0.766904\n",
      "[11]\tvalidation_0-auc:0.766842\n",
      "[12]\tvalidation_0-auc:0.769683\n",
      "[13]\tvalidation_0-auc:0.766867\n",
      "[14]\tvalidation_0-auc:0.76859\n",
      "[15]\tvalidation_0-auc:0.772336\n",
      "[16]\tvalidation_0-auc:0.773779\n",
      "[17]\tvalidation_0-auc:0.77426\n",
      "[18]\tvalidation_0-auc:0.777007\n",
      "[19]\tvalidation_0-auc:0.775687\n",
      "[20]\tvalidation_0-auc:0.777632\n",
      "[21]\tvalidation_0-auc:0.777475\n",
      "[22]\tvalidation_0-auc:0.779252\n",
      "[23]\tvalidation_0-auc:0.779959\n",
      "[24]\tvalidation_0-auc:0.781488\n",
      "[25]\tvalidation_0-auc:0.784576\n",
      "[26]\tvalidation_0-auc:0.786172\n",
      "[27]\tvalidation_0-auc:0.785687\n",
      "[28]\tvalidation_0-auc:0.787336\n",
      "[29]\tvalidation_0-auc:0.785806\n",
      "[30]\tvalidation_0-auc:0.786094\n",
      "[31]\tvalidation_0-auc:0.785822\n",
      "[32]\tvalidation_0-auc:0.785424\n",
      "[33]\tvalidation_0-auc:0.785933\n",
      "[34]\tvalidation_0-auc:0.787759\n",
      "[35]\tvalidation_0-auc:0.790025\n",
      "[36]\tvalidation_0-auc:0.790049\n",
      "[37]\tvalidation_0-auc:0.790123\n",
      "[38]\tvalidation_0-auc:0.787015\n",
      "[39]\tvalidation_0-auc:0.7856\n",
      "[40]\tvalidation_0-auc:0.788783\n",
      "[41]\tvalidation_0-auc:0.78838\n",
      "[42]\tvalidation_0-auc:0.789301\n",
      "[43]\tvalidation_0-auc:0.789202\n",
      "[44]\tvalidation_0-auc:0.788668\n",
      "[45]\tvalidation_0-auc:0.789161\n",
      "[46]\tvalidation_0-auc:0.789441\n",
      "[47]\tvalidation_0-auc:0.78926\n",
      "Stopping. Best iteration:\n",
      "[37]\tvalidation_0-auc:0.790123\n",
      "\n",
      "3200\n",
      "[0]\tvalidation_0-auc:0.692163\n",
      "Will train until validation_0-auc hasn't improved in 10 rounds.\n",
      "[1]\tvalidation_0-auc:0.724498\n",
      "[2]\tvalidation_0-auc:0.736197\n",
      "[3]\tvalidation_0-auc:0.740983\n",
      "[4]\tvalidation_0-auc:0.752241\n",
      "[5]\tvalidation_0-auc:0.756772\n",
      "[6]\tvalidation_0-auc:0.753096\n",
      "[7]\tvalidation_0-auc:0.757114\n"
     ]
    },
    {
     "name": "stdout",
     "output_type": "stream",
     "text": [
      "[8]\tvalidation_0-auc:0.764141\n",
      "[9]\tvalidation_0-auc:0.771402\n",
      "[10]\tvalidation_0-auc:0.781711\n",
      "[11]\tvalidation_0-auc:0.782303\n",
      "[12]\tvalidation_0-auc:0.783705\n",
      "[13]\tvalidation_0-auc:0.781579\n",
      "[14]\tvalidation_0-auc:0.783265\n",
      "[15]\tvalidation_0-auc:0.784149\n",
      "[16]\tvalidation_0-auc:0.781464\n",
      "[17]\tvalidation_0-auc:0.781805\n",
      "[18]\tvalidation_0-auc:0.78391\n",
      "[19]\tvalidation_0-auc:0.784955\n",
      "[20]\tvalidation_0-auc:0.782887\n",
      "[21]\tvalidation_0-auc:0.78639\n",
      "[22]\tvalidation_0-auc:0.788335\n",
      "[23]\tvalidation_0-auc:0.791143\n",
      "[24]\tvalidation_0-auc:0.791928\n",
      "[25]\tvalidation_0-auc:0.79271\n",
      "[26]\tvalidation_0-auc:0.78868\n",
      "[27]\tvalidation_0-auc:0.789025\n",
      "[28]\tvalidation_0-auc:0.790189\n",
      "[29]\tvalidation_0-auc:0.789104\n",
      "[30]\tvalidation_0-auc:0.788405\n",
      "[31]\tvalidation_0-auc:0.788906\n",
      "[32]\tvalidation_0-auc:0.789482\n",
      "[33]\tvalidation_0-auc:0.788787\n",
      "[34]\tvalidation_0-auc:0.787849\n",
      "[35]\tvalidation_0-auc:0.787233\n",
      "Stopping. Best iteration:\n",
      "[25]\tvalidation_0-auc:0.79271\n",
      "\n"
     ]
    }
   ],
   "source": [
    "#iterate models over increasing training size\n",
    "xgbooster = xgb.XGBClassifier(missing=np.nan\n",
    "                    , max_depth=3\n",
    "                    , eta= .03\n",
    "                    , silent= 1\n",
    "                    , verbose = 0 #silent iteration\n",
    "                    , objective= 'binary:logistic'\n",
    "                    , scale_pos_weight= 3.06\n",
    "                    , max_delta_step=1\n",
    "                    , subsample=.9\n",
    "                    , n_estimators=200\n",
    "                    , colsample_bytree=.7\n",
    "                    , max_child_weight = 1\n",
    "                     ,seed=42)\n",
    "\n",
    "scorestrain=[]\n",
    "scorescv=[]\n",
    "iterations=[]\n",
    "\n",
    "for i in range(400,len(train_labels),100) :                \n",
    "    print(i)\n",
    "    xgbooster.fit(train_combined.tocsc()[:i], train_labels[:i], early_stopping_rounds=10, eval_metric=\"auc\",\n",
    "    eval_set=[(dev_combined, dev_labels)])\n",
    "    scorestrain.append(roc_auc_score(train_labels[:i], xgbooster.predict_proba(train_combined.tocsc()[:i], ntree_limit=xgbooster.best_iteration)[:,1]))\n",
    "    scorescv.append(roc_auc_score(dev_labels,xgbooster.predict_proba(dev_combined,ntree_limit=xgbooster.best_iteration)[:,1]))\n",
    "    iterations.append(i)\n"
   ]
  },
  {
   "cell_type": "code",
   "execution_count": 46,
   "metadata": {},
   "outputs": [
    {
     "data": {
      "text/plain": [
       "<matplotlib.legend.Legend at 0x1a21f822e8>"
      ]
     },
     "execution_count": 46,
     "metadata": {},
     "output_type": "execute_result"
    },
    {
     "data": {
      "image/png": "[encoded data removed]",
      "text/plain": [
       "<matplotlib.figure.Figure at 0x1a23480fd0>"
      ]
     },
     "metadata": {},
     "output_type": "display_data"
    }
   ],
   "source": [
    "#plot training curve\n",
    "plt.figure(figsize=(10,7))\n",
    "plt.plot(iterations,scorestrain,'r')\n",
    "plt.plot(iterations,scorescv, 'b')\n",
    "plt.ylim(0,1.1)\n",
    "plt.xlim(0,3500)\n",
    "plt.xlabel('# training examples')\n",
    "plt.ylabel('AUC')\n",
    "plt.legend(['Training Set','Dev set'],loc='lower right')"
   ]
  },
  {
   "cell_type": "markdown",
   "metadata": {},
   "source": [
    "From the learning curve plotted above, we see that the model we chose might have had some overfitting and the AUC performance on the dev set doesn't seem to benefit significantly from increasing number of training samples. We'd expect a higher AUC if we are able to tune our model to overfit less and gather a larger training size."
   ]
  },
  {
   "cell_type": "markdown",
   "metadata": {},
   "source": [
    "### 5.5 Missing features for test text"
   ]
  },
  {
   "cell_type": "code",
   "execution_count": 47,
   "metadata": {},
   "outputs": [
    {
     "name": "stdout",
     "output_type": "stream",
     "text": [
      "7.37 percent of the test set vocabulary is missing from the training set\n"
     ]
    }
   ],
   "source": [
    "TV = TfidfVectorizer(min_df=5,ngram_range=(1,2), preprocessor=pre_process,stop_words='english',norm='l2',sublinear_tf=True)\n",
    "test_set = set(TV.fit(test_data['post_and_title']).vocabulary_.keys())\n",
    "train_set = set(TV.fit(train_data['post_and_title']).vocabulary_.keys())\n",
    "\n",
    "print (round((len(test_set - train_set) / len(test_set) * 100), 2), 'percent of the test set vocabulary is missing from the training set') "
   ]
  },
  {
   "cell_type": "markdown",
   "metadata": {},
   "source": [
    "### 5.6 Understanding misclassified requests"
   ]
  },
  {
   "cell_type": "code",
   "execution_count": 49,
   "metadata": {},
   "outputs": [
    {
     "data": {
      "text/html": [
       "<div>\n",
       "<style scoped>\n",
       "    .dataframe tbody tr th:only-of-type {\n",
       "        vertical-align: middle;\n",
       "    }\n",
       "\n",
       "    .dataframe tbody tr th {\n",
       "        vertical-align: top;\n",
       "    }\n",
       "\n",
       "    .dataframe thead th {\n",
       "        text-align: right;\n",
       "    }\n",
       "</style>\n",
       "<table border=\"1\" class=\"dataframe\">\n",
       "  <thead>\n",
       "    <tr style=\"text-align: right;\">\n",
       "      <th></th>\n",
       "      <th>giver_username_if_known</th>\n",
       "      <th>request_id</th>\n",
       "      <th>request_text_edit_aware</th>\n",
       "      <th>request_title</th>\n",
       "      <th>requester_account_age_in_days_at_request</th>\n",
       "      <th>requester_days_since_first_post_on_raop_at_request</th>\n",
       "      <th>requester_number_of_comments_at_request</th>\n",
       "      <th>requester_number_of_comments_in_raop_at_request</th>\n",
       "      <th>requester_number_of_posts_at_request</th>\n",
       "      <th>requester_number_of_posts_on_raop_at_request</th>\n",
       "      <th>requester_number_of_subreddits_at_request</th>\n",
       "      <th>requester_subreddits_at_request</th>\n",
       "      <th>requester_upvotes_minus_downvotes_at_request</th>\n",
       "      <th>requester_upvotes_plus_downvotes_at_request</th>\n",
       "      <th>requester_username</th>\n",
       "      <th>unix_timestamp_of_request</th>\n",
       "      <th>unix_timestamp_of_request_utc</th>\n",
       "      <th>post_and_title</th>\n",
       "      <th>dev_label</th>\n",
       "      <th>pred_label</th>\n",
       "    </tr>\n",
       "  </thead>\n",
       "  <tbody>\n",
       "    <tr>\n",
       "      <th>885</th>\n",
       "      <td>ch31415</td>\n",
       "      <td>t3_1n4znx</td>\n",
       "      <td>I am having crazy pizza pangs right now. Howev...</td>\n",
       "      <td>[Request] Aurora, CO 80017 - Really craving a ...</td>\n",
       "      <td>430.028530</td>\n",
       "      <td>0.0</td>\n",
       "      <td>907</td>\n",
       "      <td>0</td>\n",
       "      <td>32</td>\n",
       "      <td>0</td>\n",
       "      <td>64</td>\n",
       "      <td>[AdviceAnimals, AlienBlue, Android, AskReddit,...</td>\n",
       "      <td>2863</td>\n",
       "      <td>4801</td>\n",
       "      <td>chriscosta77</td>\n",
       "      <td>1.380179e+09</td>\n",
       "      <td>1.380150e+09</td>\n",
       "      <td>I am having crazy pizza pangs right now. Howev...</td>\n",
       "      <td>1</td>\n",
       "      <td>1</td>\n",
       "    </tr>\n",
       "    <tr>\n",
       "      <th>203</th>\n",
       "      <td>N/A</td>\n",
       "      <td>t3_14swrv</td>\n",
       "      <td>Totally broke and would really enjoy a warm pi...</td>\n",
       "      <td>[request] CA USA Broke between jobs Would love...</td>\n",
       "      <td>834.964317</td>\n",
       "      <td>0.0</td>\n",
       "      <td>805</td>\n",
       "      <td>0</td>\n",
       "      <td>34</td>\n",
       "      <td>0</td>\n",
       "      <td>34</td>\n",
       "      <td>[AskReddit, DayZBanana, DoesAnybodyElse, IAmA,...</td>\n",
       "      <td>1974</td>\n",
       "      <td>3250</td>\n",
       "      <td>exdigga</td>\n",
       "      <td>1.355430e+09</td>\n",
       "      <td>1.355430e+09</td>\n",
       "      <td>Totally broke and would really enjoy a warm pi...</td>\n",
       "      <td>0</td>\n",
       "      <td>0</td>\n",
       "    </tr>\n",
       "    <tr>\n",
       "      <th>551</th>\n",
       "      <td>N/A</td>\n",
       "      <td>t3_waksn</td>\n",
       "      <td>My sister and I have been living off Publix co...</td>\n",
       "      <td>[Request] Hungry for pizza</td>\n",
       "      <td>101.480116</td>\n",
       "      <td>0.0</td>\n",
       "      <td>16</td>\n",
       "      <td>0</td>\n",
       "      <td>8</td>\n",
       "      <td>0</td>\n",
       "      <td>7</td>\n",
       "      <td>[AdviceAnimals, AskReddit, askscience, gaming,...</td>\n",
       "      <td>43</td>\n",
       "      <td>179</td>\n",
       "      <td>Nigerio</td>\n",
       "      <td>1.341875e+09</td>\n",
       "      <td>1.341871e+09</td>\n",
       "      <td>My sister and I have been living off Publix co...</td>\n",
       "      <td>0</td>\n",
       "      <td>0</td>\n",
       "    </tr>\n",
       "    <tr>\n",
       "      <th>2236</th>\n",
       "      <td>N/A</td>\n",
       "      <td>t3_1dviqi</td>\n",
       "      <td>I'm off work and uni with glandular fever whic...</td>\n",
       "      <td>[request] Scotland, UK. Skint student with no ...</td>\n",
       "      <td>33.887014</td>\n",
       "      <td>0.0</td>\n",
       "      <td>27</td>\n",
       "      <td>0</td>\n",
       "      <td>5</td>\n",
       "      <td>0</td>\n",
       "      <td>2</td>\n",
       "      <td>[Random_Acts_Of_Amazon, pics]</td>\n",
       "      <td>156</td>\n",
       "      <td>200</td>\n",
       "      <td>alicelnwonderland</td>\n",
       "      <td>1.367953e+09</td>\n",
       "      <td>1.367950e+09</td>\n",
       "      <td>I'm off work and uni with glandular fever whic...</td>\n",
       "      <td>0</td>\n",
       "      <td>0</td>\n",
       "    </tr>\n",
       "    <tr>\n",
       "      <th>2445</th>\n",
       "      <td>N/A</td>\n",
       "      <td>t3_127cdj</td>\n",
       "      <td>I am really down in the dumps and a hot, steam...</td>\n",
       "      <td>[Request] Depressed and very lonely... complet...</td>\n",
       "      <td>0.000000</td>\n",
       "      <td>0.0</td>\n",
       "      <td>0</td>\n",
       "      <td>0</td>\n",
       "      <td>0</td>\n",
       "      <td>0</td>\n",
       "      <td>0</td>\n",
       "      <td>[]</td>\n",
       "      <td>0</td>\n",
       "      <td>0</td>\n",
       "      <td>nguyengiaan</td>\n",
       "      <td>1.351398e+09</td>\n",
       "      <td>1.351394e+09</td>\n",
       "      <td>I am really down in the dumps and a hot, steam...</td>\n",
       "      <td>0</td>\n",
       "      <td>0</td>\n",
       "    </tr>\n",
       "  </tbody>\n",
       "</table>\n",
       "</div>"
      ],
      "text/plain": [
       "     giver_username_if_known request_id  \\\n",
       "885                  ch31415  t3_1n4znx   \n",
       "203                      N/A  t3_14swrv   \n",
       "551                      N/A   t3_waksn   \n",
       "2236                     N/A  t3_1dviqi   \n",
       "2445                     N/A  t3_127cdj   \n",
       "\n",
       "                                request_text_edit_aware  \\\n",
       "885   I am having crazy pizza pangs right now. Howev...   \n",
       "203   Totally broke and would really enjoy a warm pi...   \n",
       "551   My sister and I have been living off Publix co...   \n",
       "2236  I'm off work and uni with glandular fever whic...   \n",
       "2445  I am really down in the dumps and a hot, steam...   \n",
       "\n",
       "                                          request_title  \\\n",
       "885   [Request] Aurora, CO 80017 - Really craving a ...   \n",
       "203   [request] CA USA Broke between jobs Would love...   \n",
       "551                          [Request] Hungry for pizza   \n",
       "2236  [request] Scotland, UK. Skint student with no ...   \n",
       "2445  [Request] Depressed and very lonely... complet...   \n",
       "\n",
       "      requester_account_age_in_days_at_request  \\\n",
       "885                                 430.028530   \n",
       "203                                 834.964317   \n",
       "551                                 101.480116   \n",
       "2236                                 33.887014   \n",
       "2445                                  0.000000   \n",
       "\n",
       "      requester_days_since_first_post_on_raop_at_request  \\\n",
       "885                                                 0.0    \n",
       "203                                                 0.0    \n",
       "551                                                 0.0    \n",
       "2236                                                0.0    \n",
       "2445                                                0.0    \n",
       "\n",
       "      requester_number_of_comments_at_request  \\\n",
       "885                                       907   \n",
       "203                                       805   \n",
       "551                                        16   \n",
       "2236                                       27   \n",
       "2445                                        0   \n",
       "\n",
       "      requester_number_of_comments_in_raop_at_request  \\\n",
       "885                                                 0   \n",
       "203                                                 0   \n",
       "551                                                 0   \n",
       "2236                                                0   \n",
       "2445                                                0   \n",
       "\n",
       "      requester_number_of_posts_at_request  \\\n",
       "885                                     32   \n",
       "203                                     34   \n",
       "551                                      8   \n",
       "2236                                     5   \n",
       "2445                                     0   \n",
       "\n",
       "      requester_number_of_posts_on_raop_at_request  \\\n",
       "885                                              0   \n",
       "203                                              0   \n",
       "551                                              0   \n",
       "2236                                             0   \n",
       "2445                                             0   \n",
       "\n",
       "      requester_number_of_subreddits_at_request  \\\n",
       "885                                          64   \n",
       "203                                          34   \n",
       "551                                           7   \n",
       "2236                                          2   \n",
       "2445                                          0   \n",
       "\n",
       "                        requester_subreddits_at_request  \\\n",
       "885   [AdviceAnimals, AlienBlue, Android, AskReddit,...   \n",
       "203   [AskReddit, DayZBanana, DoesAnybodyElse, IAmA,...   \n",
       "551   [AdviceAnimals, AskReddit, askscience, gaming,...   \n",
       "2236                      [Random_Acts_Of_Amazon, pics]   \n",
       "2445                                                 []   \n",
       "\n",
       "      requester_upvotes_minus_downvotes_at_request  \\\n",
       "885                                           2863   \n",
       "203                                           1974   \n",
       "551                                             43   \n",
       "2236                                           156   \n",
       "2445                                             0   \n",
       "\n",
       "      requester_upvotes_plus_downvotes_at_request requester_username  \\\n",
       "885                                          4801       chriscosta77   \n",
       "203                                          3250            exdigga   \n",
       "551                                           179            Nigerio   \n",
       "2236                                          200  alicelnwonderland   \n",
       "2445                                            0        nguyengiaan   \n",
       "\n",
       "      unix_timestamp_of_request  unix_timestamp_of_request_utc  \\\n",
       "885                1.380179e+09                   1.380150e+09   \n",
       "203                1.355430e+09                   1.355430e+09   \n",
       "551                1.341875e+09                   1.341871e+09   \n",
       "2236               1.367953e+09                   1.367950e+09   \n",
       "2445               1.351398e+09                   1.351394e+09   \n",
       "\n",
       "                                         post_and_title  dev_label  pred_label  \n",
       "885   I am having crazy pizza pangs right now. Howev...          1           1  \n",
       "203   Totally broke and would really enjoy a warm pi...          0           0  \n",
       "551   My sister and I have been living off Publix co...          0           0  \n",
       "2236  I'm off work and uni with glandular fever whic...          0           0  \n",
       "2445  I am really down in the dumps and a hot, steam...          0           0  "
      ]
     },
     "execution_count": 49,
     "metadata": {},
     "output_type": "execute_result"
    }
   ],
   "source": [
    "pred_probas = grid_search.predict_proba(dev_combined)[:, 1]\n",
    "dev_data_w_pred = dev_data.copy()\n",
    "dev_data_w_pred['dev_label'] = dev_labels\n",
    "dev_data_w_pred['pred_label'] = (pred_probas > 0.5).astype(int)\n",
    "dev_data_w_pred.head(5)"
   ]
  },
  {
   "cell_type": "code",
   "execution_count": 50,
   "metadata": {},
   "outputs": [
    {
     "data": {
      "text/plain": [
       "dev_label  pred_label\n",
       "0          0             532\n",
       "           1              76\n",
       "1          0              66\n",
       "           1             134\n",
       "Name: request_id, dtype: int64"
      ]
     },
     "execution_count": 50,
     "metadata": {},
     "output_type": "execute_result"
    }
   ],
   "source": [
    "dev_data_w_pred.groupby(['dev_label', 'pred_label']).request_id.count()"
   ]
  },
  {
   "cell_type": "markdown",
   "metadata": {},
   "source": [
    "In the dev dataset, we see 87 false positive and 94 false negative. "
   ]
  },
  {
   "cell_type": "code",
   "execution_count": 51,
   "metadata": {},
   "outputs": [],
   "source": [
    "#identify false negatives and false positives\n",
    "fp_text_list = list(dev_data_w_pred[(dev_data_w_pred.dev_label == 1) & (dev_data_w_pred.pred_label == 0)].post_and_title)\n",
    "fn_text_list = list(dev_data_w_pred[(dev_data_w_pred.dev_label == 0) & (dev_data_w_pred.pred_label == 1)].post_and_title)"
   ]
  },
  {
   "cell_type": "code",
   "execution_count": 52,
   "metadata": {},
   "outputs": [
    {
     "data": {
      "text/plain": [
       "[\"So it's that time of the term again when everyone's student loan has run out...except...unlike most students, I can't go home either because I have an 8000 word dissertation to write :’(. Please pitty me and feed me, pleeeaassee?\\n [REQUEST] Swansea, UK - I'm writing my dissertation and I'm out of monies :(\",\n",
       " \"I lost my debit card last night and don't currently have a vehicle to go get a new one... so I have no money until tomorrow at least. Anyone want to help me out with a pizza?  [Request] I'm just really hungry in Dallas, TX.\",\n",
       " \"First world problems here, nothing major.\\n\\nShort story, I am working on two competing projects within one company (doesn't make sense to me either) and I have tight deadlines on both.  So that means I get to work this weekend in order to even come close to meeting the deadline.  Who wants to cheer me up?  If nobody, that's cool too. [Request]Work deadlines + weekend = Fail\",\n",
       " \"Orange County, CA. This is *random* acts of pizza not *charitable* acts of pizza, so I suppose it's worth a shot. A pizza tonight would make me insanely happy. I'm drooling over thoughts of gooey cheese... mmmm :) [Request] I've never felt like anything terrible enough is happening in my life to feel like I deserve a pizza over some of the other people that request here.\",\n",
       " \"I've been unemployed but working odd jobs. I worked a job yesterday which I thought paid up front - it did not. Now I'm sitting at home dreaming of pizza (literally, I took a nap and dreamt there was pizza in my fridge, but woke up to nothing but leftover pasta). Will pay forward when I get a chance! [REQUEST] Bummed out in Chicago. Too broke to go out on a Friday night. Pizza would definitely cheer me up.\"]"
      ]
     },
     "execution_count": 52,
     "metadata": {},
     "output_type": "execute_result"
    }
   ],
   "source": [
    "#false positives\n",
    "fp_text_list[:5]"
   ]
  },
  {
   "cell_type": "markdown",
   "metadata": {},
   "source": [
    "We see that some requests are from countries outsides of US, which although might be predicted to be a positive based on the other features, have a much lower probability of actually getting a pizza. A potential improvement is to add a feature indicating the location of the request."
   ]
  },
  {
   "cell_type": "code",
   "execution_count": 53,
   "metadata": {},
   "outputs": [
    {
     "data": {
      "text/plain": [
       "[\"I'm a student, and my fridge is empty. I would normally bike to the store and buy groceries for the week, but somehow I misplaced my debit card, and I don't have enough cash to feed myself.\\n\\nI would really appreciate a pizza until I can get to the bank tomorrow. I get my paycheck early next week, so I can pay it forward then. : ) [REQUEST] Lost my debit card, no cash, and the bank's closed.\",\n",
       " \"Feels really strange to ask.. but, long story short, I went to visit friends this weekend up at SDSU in Brookings, SD, and after checking my bank account, I saw a nice 900 dollar deduction... from a payment made in February.\\nI return back to Lincoln, NE in a couple days, and I can make it gas wise.. but if someone can spare a 5 dollar pizza hut calzone or something, i'd love it. Love. Probably couldn't eat it, because I'd marry it.. but it'd just be an elaborate ploy to get to the rest of it's family.\\nIf you can't give, words of encouragement are nice too. I can try to eat those. [Request] Stuck in South Dakota - school just processed a payment I made months ago. I have less than a hundred dollars, 300 miles to go, and a sad belly.\",\n",
       " 'At the start of the month my car broke down. I came back two days later and it was stolen. Cant afford a new one but saving my butt off. Work doesnt pay nearly enough and i have only a couple of pennies to my name till friday but im happy i have a job. Just got off work and only ate a pb j sandwich for lunch and im starving, but sick of living off ramen and pb j for a week. Any offer would be greatly appreciated. [request] Its been one hell of a month',\n",
       " \"I'm not really sure how this works. What I need to tell you and such. I went out of the country last year, spent all my money, moved back into my old house with my roommate. But ever since I've had the hardest time getting back on top of my money. I had 2 jobs, but I decided recently to quit one and just move back in with my parents. I've got about 2 weeks left in this house, me and my friend who also doesn't have anywhere to stay live in this room. So now all my money goes towards paying off past due bills and people I owe money too, all Ive got in the kitchen its canned soup and fruit. Which is food, but its almost worse than eating ramen everyday, like a awful liquid diet. \\nBut whatever, I'm not gonna complain. I thought I'd see if theres anyone who'd like to share a pizza with me and my roommate sometime? Where located in Memphis. I suppose you PM me for the rest of the details. [REQUEST] Just another broke college student\",\n",
       " \"So I'm enjoying the last days of unemployment (starting next Wednesday woo!) by setting a blanket outside with a pillow and a power strip long enough for me to take my laptop outside and a book (The Forever War). I'm not in particular need, but it's a gorgeous day, and I'm feeling like being a slug and it's my birthday tomorrow (me and my twin sister). Never done this before, not quite sure of the process. Again, not necessary at all and completely random! \\n\\nI love what you guys do here and will contribute once everything starts up. That being said, as far as random acts of cookies goes, someone motivate me to try out that recipe for key lime meltaways please! Also, let me know if there's any verification needed for anything. Or if there's any special procedure I should follow. If I do this, I want to do it right! [Request] Beautiful day in Rockville, MD\"]"
      ]
     },
     "execution_count": 53,
     "metadata": {},
     "output_type": "execute_result"
    }
   ],
   "source": [
    "#false negatives\n",
    "fn_text_list[:5]"
   ]
  },
  {
   "cell_type": "markdown",
   "metadata": {},
   "source": [
    "We notice that there might be some requests mentioning reciprocity that our model couldn't correctly detect since we used a small word pool for that feature. If we can expand the word pool or even look at the metadata to see whether the requester has given before, we might have a more accurate detection of reciprocity and predict fewer false negatives.\n"
   ]
  },
  {
   "cell_type": "markdown",
   "metadata": {},
   "source": [
    "## 6. Conclusion"
   ]
  },
  {
   "cell_type": "markdown",
   "metadata": {},
   "source": [
    "Our final model uses XGABoost on total 133 features with:\n",
    "\n",
    "- 96 bag of words features \n",
    "- 26 features extracted from meta-data \n",
    "- 11 topic related features (5 meaningful topic features and 3 LDA topic features and 3 NMF topic features)\n"
   ]
  },
  {
   "cell_type": "code",
   "execution_count": 54,
   "metadata": {},
   "outputs": [],
   "source": [
    "# reconstruct the features used in training data\n",
    "features = []\n",
    "for i in range(train_pruned_bow.shape[1]):\n",
    "    features.append('bag_of_words_' + str(i+1))\n",
    "\n",
    "\n",
    "for column in train_mat.columns:\n",
    "    if column != 'requester_received_pizza':\n",
    "        features.append(column)\n",
    "    \n",
    "j = 0\n",
    "for i in range(train_topics.shape[1]):\n",
    "    features.append('lda_topic_' + str(j+1))\n",
    "    j = j+1\n",
    "    \n",
    "for column in train_narrative_features.columns:\n",
    "    features.append(column)\n",
    "    \n",
    "j = 0\n",
    "for i in range(nmf_train.shape[1]):\n",
    "    features.append('nmf_topic_' + str(j+1))\n",
    "    j = j+1"
   ]
  },
  {
   "cell_type": "markdown",
   "metadata": {
    "collapsed": true
   },
   "source": [
    "### 6.1 Top 20 Features"
   ]
  },
  {
   "cell_type": "code",
   "execution_count": 55,
   "metadata": {},
   "outputs": [
    {
     "data": {
      "text/plain": [
       "<matplotlib.axes._subplots.AxesSubplot at 0x1a29316128>"
      ]
     },
     "execution_count": 55,
     "metadata": {},
     "output_type": "execute_result"
    },
    {
     "data": {
      "image/png": "[encoded data removed]",
      "text/plain": [
       "<matplotlib.figure.Figure at 0x1a290cf908>"
      ]
     },
     "metadata": {},
     "output_type": "display_data"
    }
   ],
   "source": [
    "xgbooster = xgb.XGBClassifier(missing=np.nan\n",
    "                    , max_depth=3\n",
    "                    , eta= .03\n",
    "                    , silent= 1\n",
    "                    , verbose = 0 #silent iteration\n",
    "                    , objective= 'binary:logistic'\n",
    "                    , scale_pos_weight= 3.06\n",
    "                    , max_delta_step=1\n",
    "                    , subsample=.9\n",
    "                    , n_estimators=200\n",
    "                    , colsample_bytree=.7\n",
    "                    , max_child_weight = 1\n",
    "                     ,seed=42)\n",
    "\n",
    "booster = xgbooster.fit(dX, dY)\n",
    "xgb.plot_importance(booster, max_num_features=20)"
   ]
  },
  {
   "cell_type": "code",
   "execution_count": 56,
   "metadata": {},
   "outputs": [
    {
     "name": "stdout",
     "output_type": "stream",
     "text": [
      "Top 20 features for our model:\n",
      "   giver\n",
      "   community_age\n",
      "   vote_ratio\n",
      "   nmf_topic_2\n",
      "   bag_of_words_82\n",
      "   bag_of_words_35\n",
      "   bag_of_words_67\n",
      "   spell_err_post\n",
      "   lda_topic_2\n",
      "   money\n",
      "   upvotes_minus_downvotes\n",
      "   lda_topic_1\n",
      "   first_post\n",
      "   num_subs\n",
      "   bag_of_words_60\n",
      "   nmf_topic_3\n",
      "   num_pizza_comments\n",
      "   upvotes\n",
      "   family\n",
      "   bag_of_words_87\n"
     ]
    }
   ],
   "source": [
    "top_20_feature_idx = [114, 112, 106, 131, 81, 34, 66, 121, 123, 125, 103, 122, 102, 108, 59, 132, 111, 105, 128, 86]\n",
    "\n",
    "print(\"Top 20 features for our model:\")\n",
    "for i in top_20_feature_idx:\n",
    "    print('   ' + features[i])"
   ]
  },
  {
   "cell_type": "markdown",
   "metadata": {},
   "source": [
    "\n",
    "** 1. Temporal Features**\n",
    "\n",
    "***community age*** - the month of the request since the beginning of the community is the #1 feature to predict for successful request. That makes sense because the longer the campaign goes on the lesser people are interested in participating unless there are marketing push at some point. \n",
    "\n",
    "\n",
    "** 2. Topic Related Features**\n",
    "\n",
    "The topic related features account for 4 of the top 5 features for successful request.  \n",
    "\n",
    "We follow the Stanford paper to create 5 meaningful topics ('money', 'work', 'college', 'family', 'friend') and only the topic 'money' get on the top 20 features list. \n",
    "\n",
    "However, when we create only 3 lda topics and 3 nmf topics from the training data and transform the training data with these topics, 5 of the 6 topics get on the top 20 feature list.   \n",
    "\n",
    "That's probably because the occurance of these meaningful topics in a request is less frequent.  However, every request would have some ratio of the 3 lda topics and 3 nmf topics.  Also, the reason to pick 3 topics is that  binary classification generally needs less features to differentiate between the 2 classes. \n",
    "\n",
    "** 3. Text Related Features **\n",
    "\n",
    "***% of spelling error in the request post*** - We find that ratio of spelling errors is #6 feature for whether a request is successful  \n",
    "\n",
    "***bag_of_words*** - 4 of the top 20 feature list are the ocurrance of specific words in the request\n",
    "\n",
    "***request length*** - we find that the length of the request is #17 feature to predict \n",
    "\n",
    "\n",
    "** 4. Social Features **\n",
    "\n",
    "***% of upvotes among sum of upvotes and downvotes *** - #7 feature\n",
    "\n",
    "***Difference of total upvotes and total downvotes of requester at time of request*** - #9 feature\n",
    "\n",
    "***Total number of comments in RAOP by requester at time of request***  - #15 feature \n",
    "\n",
    "***Sum of total upvotes and total downvotes of requester at time of request*** - #20 feature\n",
    "\n",
    "\n",
    "** 5. Requester Features**\n",
    "\n",
    "*** Whether the requester is a giver before *** - #12 feature\n",
    "\n",
    "*** Account age of requester in days at time of request*** - #16 feature\n",
    "\n",
    "*** Number of days between requesters first post on RAOP and this request *** #18 feature\n",
    "\n"
   ]
  },
  {
   "cell_type": "markdown",
   "metadata": {
    "collapsed": true
   },
   "source": [
    "### 6.2 Algorithm"
   ]
  },
  {
   "cell_type": "markdown",
   "metadata": {},
   "source": [
    "We used Naive Bayse, Logistic Regression and XGA Boost algorithms during model selection.  "
   ]
  },
  {
   "cell_type": "code",
   "execution_count": 57,
   "metadata": {},
   "outputs": [
    {
     "data": {
      "image/png": "[encoded data removed]",
      "text/plain": [
       "<matplotlib.figure.Figure at 0x1a21f5f8d0>"
      ]
     },
     "metadata": {},
     "output_type": "display_data"
    }
   ],
   "source": [
    "def plot_roc(y_test, label, y_score, label2, y_score2):\n",
    "    \n",
    "    # Compute ROC curve and ROC area for each class\n",
    "    fpr = dict()\n",
    "    tpr = dict()\n",
    "    roc_auc = dict()\n",
    "    fpr[0], tpr[0], _ = roc_curve(y_test, y_score)\n",
    "    roc_auc[0] = auc(fpr[0], tpr[0])\n",
    "\n",
    "    fpr[1], tpr[1], _ = roc_curve(y_test, y_score2)\n",
    "    roc_auc[1] = auc(fpr[1], tpr[1])\n",
    "    \n",
    "    plt.figure()\n",
    "    lw = 2\n",
    "    \n",
    "    plt.plot(fpr[0], tpr[0], color='darkorange',\n",
    "             lw=lw, label=label + ' (area = %0.2f)' % roc_auc[0])\n",
    "    \n",
    "    plt.plot(fpr[1], tpr[1], color='red',\n",
    "             lw=lw, label= label2 + ' (area = %0.2f)' % roc_auc[1])\n",
    "        \n",
    "    \n",
    "    plt.plot([0, 1], [0, 1], color='navy', lw=lw, linestyle='--')\n",
    "    \n",
    "    plt.xlim([0.0, 1.0])\n",
    "    plt.ylim([0.0, 1.05])\n",
    "    plt.title(\"ROC curve\")\n",
    "    plt.xlabel('False Positive Rate')\n",
    "    plt.ylabel('True Positive Rate')\n",
    "    plt.legend(loc=\"lower right\")\n",
    "    plt.show()\n",
    "\n",
    "plot_roc(dev_labels, \"Logistic Regression\", pred_dev_prob, \"XGA Boost\", pred_probas)"
   ]
  },
  {
   "cell_type": "code",
   "execution_count": 59,
   "metadata": {},
   "outputs": [
    {
     "name": "stdout",
     "output_type": "stream",
     "text": [
      "confusion matrix for Logistic Regression:\n",
      "[[603   5]\n",
      " [135  65]]\n",
      "confusion matrix for XGA Boost:\n",
      "[[532  76]\n",
      " [ 66 134]]\n"
     ]
    }
   ],
   "source": [
    "print(\"confusion matrix for Logistic Regression:\")\n",
    "print(confusion_matrix(dev_labels, pred_dev_prob > 0.5))\n",
    "\n",
    "print(\"confusion matrix for XGA Boost:\")\n",
    "print(confusion_matrix(dev_labels, pred_probas > 0.5))\n"
   ]
  },
  {
   "cell_type": "markdown",
   "metadata": {},
   "source": [
    "Requests that receive pizza is roughly 24% of the total requests in the training data\n",
    "\n",
    "From the confusion matrix, even though both logistic regression and XGA Boost have the same AUC, logistic regression fails to predict as many requests that receive pizza as XGA Boost.\n",
    "\n",
    "\n",
    "\n",
    "We submit the test prediction for logistic regression and XGABoost to Kaggle, the result from logistic regression is **0.65562** while the one from XGABoost is **0.73151**.  That means XGABoost is much better in generalizing to predict unseen data because of the boosting and pruning that reduce overfitting from the training data.\n"
   ]
  },
  {
   "cell_type": "markdown",
   "metadata": {},
   "source": [
    "## 7. Appendix"
   ]
  },
  {
   "cell_type": "markdown",
   "metadata": {},
   "source": [
    "There are a few other approaches that we try but they don't work as well as our final model "
   ]
  },
  {
   "cell_type": "markdown",
   "metadata": {},
   "source": [
    "### 7.1 Replicate the Stanford paper\n",
    "\n",
    "\n",
    "We try to replicate the Stanford paper from Tim Althoff, Cristian Danescu-Niculescu-Mizil, Dan Jurafsky. How to Ask for a Favor: A Case Study on the Success of Altruistic Requests, Proceedings of ICWSM, 2014. (http://cs.stanford.edu/~althoff/raop-dataset/altruistic_requests_icwsm.pdf)\n",
    "\n"
   ]
  },
  {
   "cell_type": "code",
   "execution_count": 60,
   "metadata": {},
   "outputs": [],
   "source": [
    "from nltk.stem import SnowballStemmer\n",
    "s_stemmer = SnowballStemmer('english')\n",
    "\n",
    "\n",
    "def construct_features(data):\n",
    "    features=pd.DataFrame()\n",
    "    \n",
    "    features['community_age'] = (pd.to_datetime(data['unix_timestamp_of_request_utc'], unit = 's') - \\\n",
    "                                pd.to_datetime('2010-12-8', format='%Y-%m-%d')).astype('timedelta64[D]')\n",
    "    \n",
    "    features['community_age'] = (features['community_age'] * 10./features.community_age.max()).astype(int)\n",
    "\n",
    "    features['first_half_of_month']=(pd.to_datetime(data['unix_timestamp_of_request_utc'],unit = 's').dt.day <= 15).astype(int) \n",
    "\n",
    "    features['gratitude'] = data['request_text_edit_aware'].apply( \\\n",
    "                                    lambda x: 1 if re.search(\"thank|appreciate|advance|consider\", x) else 0)\n",
    "    features['include_image'] = data['request_text_edit_aware'].apply(lambda x: 1 if re.search(\"imgur.com|.jpg|.png|.jpeg\", x) else 0)\n",
    "\n",
    "    features['reciprocity'] = data['request_text_edit_aware'].apply(\\\n",
    "                                    lambda x:1 if re.search(\"repay|pay.+back|pay.+forward|return.+favor|reciprocate\", x) else 0)\n",
    "    features['len_request']= (data['request_text_edit_aware'].apply(len) > 100).astype(int)\n",
    "\n",
    "    features['karma']=(data.requester_upvotes_minus_downvotes_at_request - data.requester_upvotes_minus_downvotes_at_request.mean()) \\\n",
    "                                /data.requester_upvotes_minus_downvotes_at_request.std()\n",
    "    features['karma'] = ((features.karma - features.karma.min()) * 3).astype(int)\n",
    "\n",
    "    features['posted_in_raop_before']= (data['requester_number_of_posts_on_raop_at_request'] > 0).astype(int)\n",
    "    \n",
    "    features['posted_before']= (data['requester_number_of_posts_at_request'] > 0).astype(int)\n",
    "    \n",
    "    return features\n",
    "\n",
    "\n",
    "def find_narr_count(narr,s):\n",
    "    ct=0\n",
    "    for word in narr:\n",
    "        ct+=s.split().count(s_stemmer.stem(word))\n",
    "        #print(s.split())\n",
    "    #return ct/len(s.split())\n",
    "    return ct\n",
    "\n",
    "def preprocessor(s):\n",
    "    \n",
    "    if len(s) > 0:\n",
    "        \n",
    "        s=s.lower()\n",
    "        \n",
    "        # replace all non-word character to ' ' \n",
    "        s = re.sub(r'\\W+', ' ', s)\n",
    "        \n",
    "        # replace all numeric sequence to '####'\n",
    "        s = re.sub(r'\\d+', '####', s)\n",
    "        \n",
    "        #p_stemmer = PorterStemmer()\n",
    "        #s = ' '.join([p_stemmer.stem(i) for i in s.split()])\n",
    "        \n",
    "        s_stemmer = SnowballStemmer('english')\n",
    "        s = ' '.join([s_stemmer.stem(s_stemmer.stem(i)) for i in s.split()])        \n",
    "    return s\n",
    "\n",
    "def construct_topic_features(data): \n",
    "    \n",
    "    data['full_text'] = data['request_text_edit_aware'] + ' ' + data['request_title']\n",
    "    clean_text = data['full_text'].apply(lambda s:preprocessor(s))\n",
    "\n",
    "    features = pd.DataFrame()\n",
    "\n",
    "    for n in narratives:\n",
    "        features[n[0]] = clean_text.apply(lambda s: find_narr_count(n,s))\n",
    "    return features"
   ]
  },
  {
   "cell_type": "code",
   "execution_count": 61,
   "metadata": {},
   "outputs": [],
   "source": [
    "train_topic_features = construct_topic_features(train_data)\n",
    "dev_topic_features = construct_topic_features(dev_data)\n",
    "\n",
    "train_other_features = construct_features(train_data)\n",
    "dev_other_features = construct_features(dev_data)\n",
    "\n",
    "vectorizer = TfidfVectorizer(min_df=5,ngram_range=(1,2), preprocessor=preprocessor,stop_words='english',norm='l2',sublinear_tf=True) \n",
    "train_bag_of_words = vectorizer.fit_transform(train_data['full_text'])\n",
    "dev_bag_of_words = vectorizer.transform(dev_data['full_text'])\n",
    "\n",
    "train_features = hstack([train_other_features, train_topic_features, train_bag_of_words])\n",
    "dev_features = hstack([dev_other_features, dev_topic_features, dev_bag_of_words])"
   ]
  },
  {
   "cell_type": "code",
   "execution_count": 62,
   "metadata": {},
   "outputs": [
    {
     "name": "stdout",
     "output_type": "stream",
     "text": [
      "{'C': 0.5}\n"
     ]
    },
    {
     "data": {
      "text/plain": [
       "0.6335032894736843"
      ]
     },
     "execution_count": 62,
     "metadata": {},
     "output_type": "execute_result"
    }
   ],
   "source": [
    "lr = LogisticRegression(tol=0.01)\n",
    "#parameters = {'C':[0.01, 0.1, 1, 10, 100]}\n",
    "parameters = {'C':np.linspace(0.5, 10, 100)}\n",
    "clf = GridSearchCV(lr, parameters)\n",
    "clf.fit(train_features, train_labels)\n",
    "pred_dev_prob = clf.predict_proba(dev_features)[:,1]\n",
    "pred_dev_labels = clf.predict(dev_features)\n",
    "\n",
    "print(clf.best_params_)\n",
    "roc_auc_score(dev_labels, pred_dev_prob, average='micro')"
   ]
  },
  {
   "cell_type": "markdown",
   "metadata": {},
   "source": [
    "According to the Stanford paper, the result is 0.672 and we see the AUC result from our replication is 0.63.  That could be because of different pre-processing, different count vectorizer or randomness of the training data.   \n",
    "\n",
    "The Stanford paper uses mainly binary features or decile features.  However, we find that our final model gives better result partly because it uses continuous features.  One possible reason is that when we binarize features, some information maybe lost.  \n",
    "\n",
    "Also, another main difference between the Stanford paper and our final model is that Stanford paper is trying to find inference from the model while we try to find the best prediction from our model.  Therefore, the Stanford paper   try to find features that can be interpreted easily. "
   ]
  },
  {
   "cell_type": "markdown",
   "metadata": {},
   "source": [
    "### 7.2 Augment the training data to balance between the 2 classes"
   ]
  },
  {
   "cell_type": "markdown",
   "metadata": {},
   "source": [
    "Since requests that receive pizza is roughly 24% of the total requests in the training data, we try to augment the training data using statistics from our training data so that the number of samples between the 2 classes are more balanced."
   ]
  },
  {
   "cell_type": "code",
   "execution_count": 63,
   "metadata": {},
   "outputs": [],
   "source": [
    "# find the mean and std for each non-text feature that receives pizza \n",
    "other_features_mean = train_other_features[train_labels == 1].mean()\n",
    "other_features_std = train_other_features[train_labels == 1].std()\n",
    "\n",
    "mean_text_len = train_data[train_labels == 1]['full_text'].apply(lambda x: len(x.split())).mean()\n",
    "std_text_len = train_data[train_labels == 1]['full_text'].apply(lambda x: len(x.split())).std()\n",
    "\n",
    "mean_utc_time = train_data[train_labels == 1]['unix_timestamp_of_request_utc'].mean()\n",
    "std_utc_time = train_data[train_labels == 1]['unix_timestamp_of_request_utc'].std()\n",
    "\n",
    "mean_posted_in_raop_before = train_data[train_labels == 1]['requester_number_of_posts_on_raop_at_request'].mean()\n",
    "std_posted_in_raop_before = train_data[train_labels == 1]['requester_number_of_posts_on_raop_at_request'].std()\n",
    "\n",
    "mean_posted_before = train_data[train_labels == 1]['requester_number_of_posts_at_request'].mean()\n",
    "std_posted_before = train_data[train_labels == 1]['requester_number_of_posts_at_request'].std()\n"
   ]
  },
  {
   "cell_type": "code",
   "execution_count": 64,
   "metadata": {},
   "outputs": [],
   "source": [
    "from datetime import datetime\n",
    "\n",
    "augment_sample_size = 1000\n",
    "\n",
    "# probability for bag of words\n",
    "nb = MultinomialNB()\n",
    "nb.fit(train_bag_of_words, train_labels)\n",
    "\n",
    "prob = np.zeros(nb.feature_log_prob_.shape)\n",
    "\n",
    "for i in range(nb.feature_log_prob_.shape[0]): \n",
    "    for j in range(nb.feature_log_prob_.shape[1]):\n",
    "        prob[i,j] = np.exp(nb.feature_log_prob_[i][j])\n",
    "\n",
    "\n",
    "# generate new samples\n",
    "new_train_other = pd.DataFrame(columns = ['community_age', 'first_half_of_month', 'gratitude', 'include_image',\\\n",
    "                                           'reciprocity', 'len_request', 'karma', 'posted_in_raop_before',\\\n",
    "                                           'posted_before', \\\n",
    "                                           'money', 'work', 'college', 'family', 'friend'])\n",
    "new_train_text = pd.DataFrame(columns = ['request_text_edit_aware'])\n",
    "\n",
    "\n",
    "for i in range(augment_sample_size):\n",
    "    \n",
    "    # generate non-text features\n",
    "    community_age = int(other_features_std.community_age * np.random.rand() + other_features_mean.community_age)\n",
    "    first_half_of_month = np.random.choice(2, 1, p = [1-other_features_mean.first_half_of_month, other_features_mean.first_half_of_month])[0]\n",
    "\n",
    "    include_image = np.random.choice(2, 1, p = [1-other_features_mean.include_image, other_features_mean.include_image])[0]\n",
    "    \n",
    "    length = int(std_text_len * np.random.rand() + mean_text_len)\n",
    "    len_request = int(length > 100)\n",
    "    karma = int(other_features_std.karma * np.random.rand() + other_features_mean.karma)\n",
    "    \n",
    "    requester_number_of_posts_on_raop_at_request = int(std_posted_in_raop_before * np.random.rand() + mean_posted_in_raop_before)\n",
    "    posted_in_raop_before = int(requester_number_of_posts_on_raop_at_request > 0)\n",
    "    \n",
    "    requester_number_of_posts_at_request = int(std_posted_before * np.random.rand() + mean_posted_before)\n",
    "\n",
    "    posted_before = int(requester_number_of_posts_at_request > 0)\n",
    "    \n",
    "    # generate text\n",
    "    new_text_array = []\n",
    "    for j in np.random.choice(len(vectorizer.vocabulary_), size=length, p=prob[1,:]):\n",
    "        new_text_array.append(list(vectorizer.vocabulary_.keys())[list(vectorizer.vocabulary_.values()).index(j)])\n",
    "    \n",
    "    new_text = \" \".join(new_text_array)\n",
    "    new_train_text.loc[i] = new_text\n",
    "    \n",
    "    \n",
    "    # fill other-text features \n",
    "    gratitude = 1 if re.search(\"thank|appreciate|advance|consider\", new_text) else 0\n",
    "    reciprocity = 1 if re.search(\"repay|pay.+back|pay.+forward|return.+favor|reciprocate\", new_text) else 0    \n",
    "    \n",
    " \n",
    "    money_topic = find_narr(money, new_text)\n",
    "    work_topic = find_narr(job, new_text)\n",
    "    college_topic = find_narr(student, new_text)\n",
    "    family_topic = find_narr(family, new_text)\n",
    "    friend_topic = find_narr(craving, new_text)\n",
    "    \n",
    "\n",
    "    new_train_other.loc[i] = [community_age, first_half_of_month, gratitude, include_image, \\\n",
    "                                reciprocity, len_request, karma, posted_in_raop_before, \\\n",
    "                                posted_before, \\\n",
    "                                money_topic, work_topic, college_topic, family_topic, friend_topic]\n",
    "    \n",
    "    \n",
    "new_train_other = new_train_other.astype(int)"
   ]
  },
  {
   "cell_type": "code",
   "execution_count": 65,
   "metadata": {},
   "outputs": [
    {
     "name": "stdout",
     "output_type": "stream",
     "text": [
      "(4232, 14)\n",
      "(4232,)\n"
     ]
    }
   ],
   "source": [
    "train_features = train_other_features.join(train_topic_features)\n",
    "train_features = train_features.append(new_train_other)\n",
    "print(train_features.shape)\n",
    "\n",
    "dev_features = dev_other_features.join(dev_topic_features)\n",
    "\n",
    "new_train_labels = np.append(train_labels, [1] * augment_sample_size)\n",
    "print(new_train_labels.shape)"
   ]
  },
  {
   "cell_type": "code",
   "execution_count": 66,
   "metadata": {},
   "outputs": [],
   "source": [
    "vectorizer = TfidfVectorizer(min_df=5,ngram_range=(1,2), preprocessor=preprocessor,stop_words='english',norm='l2',sublinear_tf=True)\n",
    "train_bag_of_words = vectorizer.fit_transform(train_data['full_text'].append(new_train_text.request_text_edit_aware))\n",
    "dev_bag_of_words = vectorizer.transform(dev_data['full_text'])"
   ]
  },
  {
   "cell_type": "code",
   "execution_count": 67,
   "metadata": {},
   "outputs": [],
   "source": [
    "train_features = hstack([train_features, train_bag_of_words])\n",
    "dev_features = hstack([dev_features, dev_bag_of_words])"
   ]
  },
  {
   "cell_type": "code",
   "execution_count": 68,
   "metadata": {},
   "outputs": [
    {
     "name": "stdout",
     "output_type": "stream",
     "text": [
      "{'C': 1.1717171717171717}\n"
     ]
    },
    {
     "data": {
      "text/plain": [
       "0.630608552631579"
      ]
     },
     "execution_count": 68,
     "metadata": {},
     "output_type": "execute_result"
    }
   ],
   "source": [
    "lr = LogisticRegression(tol=0.01)\n",
    "#parameters = {'C':[0.01, 0.1, 1, 10, 100]}\n",
    "parameters = {'C':np.linspace(0.5, 10, 100)}\n",
    "clf = GridSearchCV(lr, parameters)\n",
    "clf.fit(train_features, new_train_labels)\n",
    "pred_dev_prob = clf.predict_proba(dev_features)[:,1]\n",
    "pred_dev_labels = clf.predict(dev_features)\n",
    "\n",
    "print(clf.best_params_)\n",
    "roc_auc_score(dev_labels, pred_dev_prob, average='micro')"
   ]
  },
  {
   "cell_type": "markdown",
   "metadata": {},
   "source": [
    "Try augmenting the training data by generating more data using the statistics of the training data does not work.  That is because when generating new data using the pattern of the training data, the underlying pattern does not improve with the new data.  Therefore, there is nothing new to learn.\n"
   ]
  }
 ],
 "metadata": {
  "kernelspec": {
   "display_name": "Python 3",
   "language": "python",
   "name": "python3"
  },
  "language_info": {
   "codemirror_mode": {
    "name": "ipython",
    "version": 3
   },
   "file_extension": ".py",
   "mimetype": "text/x-python",
   "name": "python",
   "nbconvert_exporter": "python",
   "pygments_lexer": "ipython3",
   "version": "3.6.4"
  }
 },
 "nbformat": 4,
 "nbformat_minor": 2
}
