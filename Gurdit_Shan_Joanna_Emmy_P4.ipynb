{
 "cells": [
  {
   "cell_type": "markdown",
   "metadata": {},
   "source": [
    "# W207 Final Project - \"Random Acts of Pizza\"\n",
    "### Predicting altruism through free pizza\n",
    "\n",
    "#### Team Members: Gurdit Chahal, Shan He, Joanna Huang,  Emmy Lau"
   ]
  },
  {
   "cell_type": "markdown",
   "metadata": {},
   "source": [
    "#### Table of Contents\n",
    "\n",
    "1. Introduction\n",
    "2. Exploratory Data Analysis\n",
    "3. Baseline\n",
    "4. Feature Engineering & Model Selection \n",
    "5. Error Analysis\n",
    "6. Conclusion\n",
    "7. Appendix"
   ]
  },
  {
   "cell_type": "markdown",
   "metadata": {},
   "source": [
    "## 1. Introduction"
   ]
  },
  {
   "cell_type": "markdown",
   "metadata": {},
   "source": [
    "The Random Acts of Pizza subreddit is a place where people post and request free pizza from others on the Internet. In this project, our objective is to create a model that predicts whether or not a request will receive pizza using the provided dataset of 5671 requests collected from the Reddit community Random Acts of Pizza between December 8, 2010 and September 29, 2013. The data was collected and graciously shared by Althoff et al (http://www.timalthoff.com/).\n",
    "\n",
    "Our final model is a combination of models trained on various textual and meta-data features, including information such as: time of the request, activity of the requester, and community-age of the request.  It uses concepts presented in this paper: Tim Althoff, Cristian Danescu-Niculescu-Mizil, Dan Jurafsky. How to Ask for a Favor: A Case Study on the Success of Altruistic Requests, Proceedings of ICWSM, 2014. (https://cs.stanford.edu/~althoff/raop-dataset/altruistic_requests_icwsm.pdf)"
   ]
  },
  {
   "cell_type": "markdown",
   "metadata": {},
   "source": [
    "### Initialize packages and load  data"
   ]
  },
  {
   "cell_type": "code",
   "execution_count": 4,
   "metadata": {
    "collapsed": true
   },
   "outputs": [],
   "source": [
    "%matplotlib inline\n",
    "\n",
    "# do not display warnings\n",
    "import warnings\n",
    "warnings.filterwarnings('ignore')\n",
    "\n",
    "import re\n",
    "import numpy as np\n",
    "import pandas as pd\n",
    "import os\n",
    "import string\n",
    "import time\n",
    "import datetime\n",
    "from collections import Counter\n",
    "\n",
    "# EDA plotting\n",
    "import seaborn as sns\n",
    "import matplotlib.pyplot as plt\n",
    "from wordcloud import WordCloud\n",
    "\n",
    "# SK-learn libraries for learning.\n",
    "from sklearn.pipeline import Pipeline\n",
    "from sklearn.neighbors import KNeighborsClassifier\n",
    "from sklearn.linear_model import LogisticRegression\n",
    "from sklearn.naive_bayes import BernoulliNB\n",
    "from sklearn.naive_bayes import MultinomialNB\n",
    "from sklearn.grid_search import GridSearchCV\n",
    "from sklearn.ensemble import RandomForestClassifier as RF\n",
    "from sklearn.svm import SVC\n",
    "from sklearn.svm import LinearSVC as LSVC\n",
    "from sklearn.decomposition import TruncatedSVD as TSVD\n",
    "from sklearn.decomposition import PCA\n",
    "from scipy.sparse import hstack\n",
    "from sklearn.feature_selection import SelectFromModel\n",
    "from sklearn.preprocessing import StandardScaler\n",
    "from sklearn.decomposition import LatentDirichletAllocation as LDA\n",
    "import gensim\n",
    "from gensim import utils\n",
    "import xgboost as xgb\n",
    "\n",
    "# SK-learn libraries for evaluation.\n",
    "from sklearn.metrics import confusion_matrix\n",
    "from sklearn import metrics\n",
    "from sklearn.metrics import classification_report\n",
    "from sklearn.metrics import roc_auc_score\n",
    "from sklearn.metrics import roc_curve\n",
    "from sklearn.metrics import auc\n",
    "\n",
    "# SK-learn libraries for feature extraction from text.\n",
    "from sklearn.feature_extraction.text import *\n",
    "\n",
    "# SK-learn libraries for model selection \n",
    "from sklearn.model_selection import train_test_split\n",
    "\n",
    "# json libraries to parse json file\n",
    "import json\n",
    "from pandas.io.json import json_normalize\n",
    "\n"
   ]
  },
  {
   "cell_type": "code",
   "execution_count": 5,
   "metadata": {},
   "outputs": [
    {
     "name": "stdout",
     "output_type": "stream",
     "text": [
      "Train shape:  (4040, 32)\n",
      "Test shape:  (1631, 17)\n"
     ]
    }
   ],
   "source": [
    "# Read json file\n",
    "train_json = json.load(open('train.json'))\n",
    "\n",
    "# Normalize data and put in a dataframe\n",
    "train_json_df = json_normalize(train_json)\n",
    "\n",
    "# Extract output labels. 0 means the user doesn't receive pizza & 1 means the user receives pizza\n",
    "train_labels = train_json_df.requester_received_pizza.astype(int).as_matrix()\n",
    "\n",
    "# Read json file\n",
    "test_json = json.load(open('test.json'))\n",
    "\n",
    "# Normalize data and put in a dataframe\n",
    "test_json_df = json_normalize(test_json)\n",
    "\n",
    "print(\"Train shape: \", train_json_df.shape)\n",
    "print(\"Test shape: \", test_json_df.shape)"
   ]
  },
  {
   "cell_type": "markdown",
   "metadata": {},
   "source": [
    "Based on the observed shapes of the two datasets, there appears to be a discrepancy with the training set having 32 columns and the test set only having 17. We take a closer look to better understand the reason behind this discrepancy."
   ]
  },
  {
   "cell_type": "code",
   "execution_count": 6,
   "metadata": {},
   "outputs": [
    {
     "name": "stdout",
     "output_type": "stream",
     "text": [
      "Columns in Train but not Test:\n",
      " {'number_of_upvotes_of_request_at_retrieval', 'requester_number_of_comments_in_raop_at_retrieval', 'requester_account_age_in_days_at_retrieval', 'requester_number_of_posts_at_retrieval', 'requester_user_flair', 'requester_upvotes_plus_downvotes_at_retrieval', 'number_of_downvotes_of_request_at_retrieval', 'requester_number_of_comments_at_retrieval', 'requester_days_since_first_post_on_raop_at_retrieval', 'post_was_edited', 'requester_upvotes_minus_downvotes_at_retrieval', 'requester_received_pizza', 'request_number_of_comments_at_retrieval', 'request_text', 'requester_number_of_posts_on_raop_at_retrieval'}\n",
      "\n",
      "Columns in Test but not Train: set()\n",
      "\n",
      "Columns common to Test and Train: {'requester_number_of_posts_on_raop_at_request', 'requester_upvotes_plus_downvotes_at_request', 'request_title', 'request_id', 'requester_number_of_comments_in_raop_at_request', 'requester_number_of_subreddits_at_request', 'requester_upvotes_minus_downvotes_at_request', 'requester_username', 'requester_subreddits_at_request', 'unix_timestamp_of_request', 'request_text_edit_aware', 'unix_timestamp_of_request_utc', 'requester_account_age_in_days_at_request', 'requester_number_of_posts_at_request', 'requester_number_of_comments_at_request', 'giver_username_if_known', 'requester_days_since_first_post_on_raop_at_request'}\n"
     ]
    }
   ],
   "source": [
    "# Print out columns that are only in the train dataset\n",
    "train_only_columns = set(train_json_df.columns.values)-set(test_json_df.columns.values)\n",
    "print(\"Columns in Train but not Test:\\n\",train_only_columns)\n",
    "\n",
    "# Print out columns that are only in the test dataset\n",
    "test_only_columns = set(test_json_df.columns.values)-set(train_json_df.columns.values)\n",
    "print(\"\\nColumns in Test but not Train:\",test_only_columns)\n",
    "print(\"\\nColumns common to Test and Train:\",set(test_json_df.columns.values))"
   ]
  },
  {
   "cell_type": "markdown",
   "metadata": {},
   "source": [
    "**Details on the additional columns in the train set:**\n",
    "\n",
    "* request_text/post_was_edited: Since posts are often edited after a successful request, this request_text column is not the most accurate. Instead, request_text_edit_aware, which is available in both the train and test sets, will be used. This edit aware version of \"request_text\" strips edited comments indicating the success of the request.\n",
    "\n",
    "* *_at_retrieval: For our purposes of real-time prediction, _at_request columns are more relevant.\n",
    "\n",
    "* requester_user_flair: This is a post-receipt of pizza feature and thus will not be a useful indicator of results.\n",
    "\n",
    "* requester_received_pizza: To be predicted\n",
    "\n",
    "For these reasons, we will move forward with only the columns in both the train and test set. "
   ]
  },
  {
   "cell_type": "code",
   "execution_count": 7,
   "metadata": {
    "collapsed": true
   },
   "outputs": [],
   "source": [
    "# Create new dataframe with only the shared columns\n",
    "train_w_test = train_json_df[test_json_df.columns.values]"
   ]
  },
  {
   "cell_type": "markdown",
   "metadata": {},
   "source": [
    "** Split the training data into training data and dev data **\n",
    "\n",
    "We will use 80% of our training data for exploratory data analysis, feature engineering and model training while the remaining 20% will be set aside as our development data set."
   ]
  },
  {
   "cell_type": "code",
   "execution_count": 8,
   "metadata": {
    "collapsed": true
   },
   "outputs": [],
   "source": [
    "train_data, dev_data, train_labels, dev_labels = \\\n",
    "            train_test_split(train_w_test, train_labels, test_size=0.2, random_state=12)\n"
   ]
  },
  {
   "cell_type": "markdown",
   "metadata": {},
   "source": [
    "## 2. Exploratory Data Analysis\n",
    "We'll first take a look at the non-text metadata."
   ]
  },
  {
   "cell_type": "code",
   "execution_count": 9,
   "metadata": {},
   "outputs": [
    {
     "data": {
      "text/html": [
       "<div>\n",
       "<style>\n",
       "    .dataframe thead tr:only-child th {\n",
       "        text-align: right;\n",
       "    }\n",
       "\n",
       "    .dataframe thead th {\n",
       "        text-align: left;\n",
       "    }\n",
       "\n",
       "    .dataframe tbody tr th {\n",
       "        vertical-align: top;\n",
       "    }\n",
       "</style>\n",
       "<table border=\"1\" class=\"dataframe\">\n",
       "  <thead>\n",
       "    <tr style=\"text-align: right;\">\n",
       "      <th></th>\n",
       "      <th>requester_account_age_in_days_at_request</th>\n",
       "      <th>requester_days_since_first_post_on_raop_at_request</th>\n",
       "      <th>requester_number_of_comments_at_request</th>\n",
       "      <th>requester_number_of_comments_in_raop_at_request</th>\n",
       "      <th>requester_number_of_posts_at_request</th>\n",
       "      <th>requester_number_of_posts_on_raop_at_request</th>\n",
       "      <th>requester_number_of_subreddits_at_request</th>\n",
       "      <th>requester_upvotes_minus_downvotes_at_request</th>\n",
       "      <th>requester_upvotes_plus_downvotes_at_request</th>\n",
       "      <th>unix_timestamp_of_request</th>\n",
       "      <th>unix_timestamp_of_request_utc</th>\n",
       "    </tr>\n",
       "  </thead>\n",
       "  <tbody>\n",
       "    <tr>\n",
       "      <th>count</th>\n",
       "      <td>3232.000000</td>\n",
       "      <td>3232.000000</td>\n",
       "      <td>3232.00000</td>\n",
       "      <td>3232.000000</td>\n",
       "      <td>3232.000000</td>\n",
       "      <td>3232.000000</td>\n",
       "      <td>3232.000000</td>\n",
       "      <td>3232.000000</td>\n",
       "      <td>3232.000000</td>\n",
       "      <td>3.232000e+03</td>\n",
       "      <td>3.232000e+03</td>\n",
       "    </tr>\n",
       "    <tr>\n",
       "      <th>mean</th>\n",
       "      <td>256.662929</td>\n",
       "      <td>16.682342</td>\n",
       "      <td>116.69276</td>\n",
       "      <td>0.633045</td>\n",
       "      <td>21.387995</td>\n",
       "      <td>0.058787</td>\n",
       "      <td>18.383045</td>\n",
       "      <td>1141.690903</td>\n",
       "      <td>3536.765161</td>\n",
       "      <td>1.342819e+09</td>\n",
       "      <td>1.342816e+09</td>\n",
       "    </tr>\n",
       "    <tr>\n",
       "      <th>std</th>\n",
       "      <td>301.711688</td>\n",
       "      <td>72.319691</td>\n",
       "      <td>193.74547</td>\n",
       "      <td>3.274447</td>\n",
       "      <td>50.104315</td>\n",
       "      <td>0.305135</td>\n",
       "      <td>21.934935</td>\n",
       "      <td>2980.726140</td>\n",
       "      <td>17408.745325</td>\n",
       "      <td>2.327255e+07</td>\n",
       "      <td>2.327194e+07</td>\n",
       "    </tr>\n",
       "    <tr>\n",
       "      <th>min</th>\n",
       "      <td>0.000000</td>\n",
       "      <td>0.000000</td>\n",
       "      <td>0.00000</td>\n",
       "      <td>0.000000</td>\n",
       "      <td>0.000000</td>\n",
       "      <td>0.000000</td>\n",
       "      <td>0.000000</td>\n",
       "      <td>-173.000000</td>\n",
       "      <td>0.000000</td>\n",
       "      <td>1.306095e+09</td>\n",
       "      <td>1.306091e+09</td>\n",
       "    </tr>\n",
       "    <tr>\n",
       "      <th>25%</th>\n",
       "      <td>3.729690</td>\n",
       "      <td>0.000000</td>\n",
       "      <td>0.00000</td>\n",
       "      <td>0.000000</td>\n",
       "      <td>0.000000</td>\n",
       "      <td>0.000000</td>\n",
       "      <td>1.000000</td>\n",
       "      <td>3.000000</td>\n",
       "      <td>8.000000</td>\n",
       "      <td>1.320443e+09</td>\n",
       "      <td>1.320440e+09</td>\n",
       "    </tr>\n",
       "    <tr>\n",
       "      <th>50%</th>\n",
       "      <td>158.827159</td>\n",
       "      <td>0.000000</td>\n",
       "      <td>26.00000</td>\n",
       "      <td>0.000000</td>\n",
       "      <td>5.000000</td>\n",
       "      <td>0.000000</td>\n",
       "      <td>11.000000</td>\n",
       "      <td>177.500000</td>\n",
       "      <td>355.000000</td>\n",
       "      <td>1.342578e+09</td>\n",
       "      <td>1.342575e+09</td>\n",
       "    </tr>\n",
       "    <tr>\n",
       "      <th>75%</th>\n",
       "      <td>391.942080</td>\n",
       "      <td>0.000000</td>\n",
       "      <td>146.00000</td>\n",
       "      <td>0.000000</td>\n",
       "      <td>22.000000</td>\n",
       "      <td>0.000000</td>\n",
       "      <td>27.000000</td>\n",
       "      <td>1183.250000</td>\n",
       "      <td>2335.000000</td>\n",
       "      <td>1.364390e+09</td>\n",
       "      <td>1.364386e+09</td>\n",
       "    </tr>\n",
       "    <tr>\n",
       "      <th>max</th>\n",
       "      <td>2809.750787</td>\n",
       "      <td>785.457685</td>\n",
       "      <td>994.00000</td>\n",
       "      <td>88.000000</td>\n",
       "      <td>867.000000</td>\n",
       "      <td>5.000000</td>\n",
       "      <td>186.000000</td>\n",
       "      <td>87911.000000</td>\n",
       "      <td>789287.000000</td>\n",
       "      <td>1.381552e+09</td>\n",
       "      <td>1.381523e+09</td>\n",
       "    </tr>\n",
       "  </tbody>\n",
       "</table>\n",
       "</div>"
      ],
      "text/plain": [
       "       requester_account_age_in_days_at_request  \\\n",
       "count                               3232.000000   \n",
       "mean                                 256.662929   \n",
       "std                                  301.711688   \n",
       "min                                    0.000000   \n",
       "25%                                    3.729690   \n",
       "50%                                  158.827159   \n",
       "75%                                  391.942080   \n",
       "max                                 2809.750787   \n",
       "\n",
       "       requester_days_since_first_post_on_raop_at_request  \\\n",
       "count                                        3232.000000    \n",
       "mean                                           16.682342    \n",
       "std                                            72.319691    \n",
       "min                                             0.000000    \n",
       "25%                                             0.000000    \n",
       "50%                                             0.000000    \n",
       "75%                                             0.000000    \n",
       "max                                           785.457685    \n",
       "\n",
       "       requester_number_of_comments_at_request  \\\n",
       "count                               3232.00000   \n",
       "mean                                 116.69276   \n",
       "std                                  193.74547   \n",
       "min                                    0.00000   \n",
       "25%                                    0.00000   \n",
       "50%                                   26.00000   \n",
       "75%                                  146.00000   \n",
       "max                                  994.00000   \n",
       "\n",
       "       requester_number_of_comments_in_raop_at_request  \\\n",
       "count                                      3232.000000   \n",
       "mean                                          0.633045   \n",
       "std                                           3.274447   \n",
       "min                                           0.000000   \n",
       "25%                                           0.000000   \n",
       "50%                                           0.000000   \n",
       "75%                                           0.000000   \n",
       "max                                          88.000000   \n",
       "\n",
       "       requester_number_of_posts_at_request  \\\n",
       "count                           3232.000000   \n",
       "mean                              21.387995   \n",
       "std                               50.104315   \n",
       "min                                0.000000   \n",
       "25%                                0.000000   \n",
       "50%                                5.000000   \n",
       "75%                               22.000000   \n",
       "max                              867.000000   \n",
       "\n",
       "       requester_number_of_posts_on_raop_at_request  \\\n",
       "count                                   3232.000000   \n",
       "mean                                       0.058787   \n",
       "std                                        0.305135   \n",
       "min                                        0.000000   \n",
       "25%                                        0.000000   \n",
       "50%                                        0.000000   \n",
       "75%                                        0.000000   \n",
       "max                                        5.000000   \n",
       "\n",
       "       requester_number_of_subreddits_at_request  \\\n",
       "count                                3232.000000   \n",
       "mean                                   18.383045   \n",
       "std                                    21.934935   \n",
       "min                                     0.000000   \n",
       "25%                                     1.000000   \n",
       "50%                                    11.000000   \n",
       "75%                                    27.000000   \n",
       "max                                   186.000000   \n",
       "\n",
       "       requester_upvotes_minus_downvotes_at_request  \\\n",
       "count                                   3232.000000   \n",
       "mean                                    1141.690903   \n",
       "std                                     2980.726140   \n",
       "min                                     -173.000000   \n",
       "25%                                        3.000000   \n",
       "50%                                      177.500000   \n",
       "75%                                     1183.250000   \n",
       "max                                    87911.000000   \n",
       "\n",
       "       requester_upvotes_plus_downvotes_at_request  unix_timestamp_of_request  \\\n",
       "count                                  3232.000000               3.232000e+03   \n",
       "mean                                   3536.765161               1.342819e+09   \n",
       "std                                   17408.745325               2.327255e+07   \n",
       "min                                       0.000000               1.306095e+09   \n",
       "25%                                       8.000000               1.320443e+09   \n",
       "50%                                     355.000000               1.342578e+09   \n",
       "75%                                    2335.000000               1.364390e+09   \n",
       "max                                  789287.000000               1.381552e+09   \n",
       "\n",
       "       unix_timestamp_of_request_utc  \n",
       "count                   3.232000e+03  \n",
       "mean                    1.342816e+09  \n",
       "std                     2.327194e+07  \n",
       "min                     1.306091e+09  \n",
       "25%                     1.320440e+09  \n",
       "50%                     1.342575e+09  \n",
       "75%                     1.364386e+09  \n",
       "max                     1.381523e+09  "
      ]
     },
     "execution_count": 9,
     "metadata": {},
     "output_type": "execute_result"
    }
   ],
   "source": [
    "train_data.describe()"
   ]
  },
  {
   "cell_type": "markdown",
   "metadata": {},
   "source": [
    "Based on this initial look at the data, there doesn't appear to be anything unusual with the values. To extract more meaningful information around when the post was made, we will convert the unix_timestamp_of_request variable into a more interpretable form.\n",
    "\n",
    "To understand the relationship between the features and whether or not a request is fulfilled, let's take a look at how the variables are correlated."
   ]
  },
  {
   "cell_type": "code",
   "execution_count": 10,
   "metadata": {},
   "outputs": [
    {
     "data": {
      "text/plain": [
       "<matplotlib.axes._subplots.AxesSubplot at 0x1a19b93438>"
      ]
     },
     "execution_count": 10,
     "metadata": {},
     "output_type": "execute_result"
    },
    {
     "data": {
      "image/png": "[encoded data removed]",
      "text/plain": [
       "<matplotlib.figure.Figure at 0x1a1900eda0>"
      ]
     },
     "metadata": {},
     "output_type": "display_data"
    }
   ],
   "source": [
    "f, ax = plt.subplots(figsize=(10, 8))\n",
    "train_w_test['requester_received_pizza'] = train_json_df['requester_received_pizza']\n",
    "corr = train_w_test.corr()\n",
    "sns.heatmap(corr, mask=np.zeros_like(corr, dtype=np.bool), cmap=sns.diverging_palette(220, 10, as_cmap=True),\n",
    "            square=True, ax=ax)"
   ]
  },
  {
   "cell_type": "markdown",
   "metadata": {},
   "source": [
    "Looking at the rightmost column, we can see how the features are related to requester_received_pizza. The following features seem to be most correlated and can be features to include when training our model: requester_account_age_in_days_at_request, requester_days_since_first_post_on_raop_at_request, requester_number_of_comments_in_raop_at_request, requester_number_of_posts_on_raop_at_request and unix_timestamp_of_request.\n",
    "\n",
    "Next, we compare the features for fulfilled and unfulfilled requests."
   ]
  },
  {
   "cell_type": "code",
   "execution_count": 11,
   "metadata": {},
   "outputs": [
    {
     "name": "stdout",
     "output_type": "stream",
     "text": [
      "% of requests fulfilled = 24.603960396039604\n"
     ]
    }
   ],
   "source": [
    "fulfilled_requests = train_w_test.loc[train_w_test['requester_received_pizza']==True]\n",
    "unfulfilled_requests = train_w_test.loc[train_w_test['requester_received_pizza']==False]\n",
    "\n",
    "print(\"% of requests fulfilled = {}\".format(fulfilled_requests.request_id.count() * 100/ \\\n",
    "          (fulfilled_requests.request_id.count() + unfulfilled_requests.request_id.count())))"
   ]
  },
  {
   "cell_type": "markdown",
   "metadata": {},
   "source": [
    "We have an imbalanced dataset and only 24% of the requests are fulfilled.  Therefore, we need make sure the model is not biased towards predicting unfulfilled requests."
   ]
  },
  {
   "cell_type": "markdown",
   "metadata": {},
   "source": [
    "### 2.1 Non-Text Features"
   ]
  },
  {
   "cell_type": "markdown",
   "metadata": {},
   "source": [
    "#### Request Time"
   ]
  },
  {
   "cell_type": "code",
   "execution_count": 12,
   "metadata": {},
   "outputs": [
    {
     "name": "stdout",
     "output_type": "stream",
     "text": [
      "   dayofweek  perc\n",
      "0          0  0.26\n",
      "1          1  0.23\n",
      "2          2  0.23\n",
      "3          3  0.30\n",
      "4          4  0.26\n",
      "5          5  0.22\n",
      "6          6  0.23\n"
     ]
    }
   ],
   "source": [
    "# Extract day of week from request timestamp\n",
    "train_w_test['datetime'] = pd.to_datetime(train_w_test[\"unix_timestamp_of_request\"], unit = 's')\n",
    "train_w_test['dayofweek'] = train_w_test['datetime'].dt.dayofweek\n",
    "\n",
    "# See rate of fulfillment by day of week\n",
    "fulfilled_dow = pd.DataFrame()\n",
    "fulfilled_dow['dayofweek'] =[0,1,2,3,4,5,6]\n",
    "fulfilled_dow['fulfilled_count'] = train_w_test[train_w_test['requester_received_pizza']==True]['dayofweek'].value_counts(sort=False)\n",
    "fulfilled_dow['total_post_per_dow'] = train_w_test['dayofweek'].value_counts(sort=False)\n",
    "fulfilled_dow['perc'] = round(fulfilled_dow['fulfilled_count']/fulfilled_dow['total_post_per_dow'],2)\n",
    "del fulfilled_dow['fulfilled_count']\n",
    "del fulfilled_dow['total_post_per_dow']\n",
    "print(fulfilled_dow)"
   ]
  },
  {
   "cell_type": "markdown",
   "metadata": {},
   "source": [
    "Sunday, Wednesday and Thursday seem to have a higher rate of success by 1-8 percentage points. Thus, day of week is an important feature to include in our model."
   ]
  },
  {
   "cell_type": "code",
   "execution_count": 13,
   "metadata": {},
   "outputs": [
    {
     "name": "stdout",
     "output_type": "stream",
     "text": [
      "            hour       perc\n",
      "count  24.000000  24.000000\n",
      "mean   11.500000   0.232917\n",
      "std     7.071068   0.062309\n",
      "min     0.000000   0.120000\n",
      "25%     5.750000   0.207500\n",
      "50%    11.500000   0.230000\n",
      "75%    17.250000   0.280000\n",
      "max    23.000000   0.340000\n"
     ]
    }
   ],
   "source": [
    "train_w_test['hour']=train_w_test['datetime'].dt.hour\n",
    "\n",
    "# See rate of fulfillment by hour\n",
    "fulfilled_hour = pd.DataFrame()\n",
    "fulfilled_hour['hour'] =range(24)\n",
    "fulfilled_hour['fulfilled_count'] = train_w_test[train_w_test['requester_received_pizza']==True]['hour'].value_counts(sort=False)\n",
    "fulfilled_hour['total_post_per_hour'] = train_w_test['hour'].value_counts(sort=False)\n",
    "fulfilled_hour['perc'] = round(fulfilled_hour['fulfilled_count']/fulfilled_hour['total_post_per_hour'],2)\n",
    "del fulfilled_hour['fulfilled_count']\n",
    "del fulfilled_hour['total_post_per_hour']\n",
    "print(fulfilled_hour.describe())"
   ]
  },
  {
   "cell_type": "markdown",
   "metadata": {},
   "source": [
    "With a fulfillment rate difference of 22% between the max and min of all hours, hour of day seems like an important feature to include in our model."
   ]
  },
  {
   "cell_type": "markdown",
   "metadata": {},
   "source": [
    "#### Requester Account and Activity"
   ]
  },
  {
   "cell_type": "markdown",
   "metadata": {},
   "source": [
    "Now, let's take a look at the various requester feature differences between those whose requests were fulfilled, and those whose requests were not."
   ]
  },
  {
   "cell_type": "code",
   "execution_count": 14,
   "metadata": {
    "collapsed": true
   },
   "outputs": [],
   "source": [
    "def fulfilled_or_not(feature):\n",
    "    print(feature)\n",
    "    print('Mean for Fulfilled Requests: ' + \\\n",
    "          str(round(train_w_test[train_w_test['requester_received_pizza']==True][feature].mean(),2)))\n",
    "    print('Standard dev: ' + \\\n",
    "          str(round(train_w_test[train_w_test['requester_received_pizza']==True][feature].std(),2)))\n",
    "    print('Mean for Unfulfilled Requests: ' + \\\n",
    "          str(round(train_w_test[train_w_test['requester_received_pizza']==False][feature].mean(),2)))\n",
    "    print('Standard dev: ' + \\\n",
    "          str(round(train_w_test[train_w_test['requester_received_pizza']==False][feature].std(),2)))\n",
    "    print(\"\\n\")"
   ]
  },
  {
   "cell_type": "code",
   "execution_count": 15,
   "metadata": {},
   "outputs": [
    {
     "name": "stdout",
     "output_type": "stream",
     "text": [
      "requester_account_age_in_days_at_request\n",
      "Mean for Fulfilled Requests: 276.77\n",
      "Standard dev: 312.79\n",
      "Mean for Unfulfilled Requests: 247.35\n",
      "Standard dev: 299.8\n",
      "\n",
      "\n",
      "requester_days_since_first_post_on_raop_at_request\n",
      "Mean for Fulfilled Requests: 28.56\n",
      "Standard dev: 96.77\n",
      "Mean for Unfulfilled Requests: 12.45\n",
      "Standard dev: 59.19\n",
      "\n",
      "\n",
      "requester_number_of_comments_at_request\n",
      "Mean for Fulfilled Requests: 126.53\n",
      "Standard dev: 202.33\n",
      "Mean for Unfulfilled Requests: 111.37\n",
      "Standard dev: 190.17\n",
      "\n",
      "\n",
      "requester_number_of_comments_in_raop_at_request\n",
      "Mean for Fulfilled Requests: 1.43\n",
      "Standard dev: 5.91\n",
      "Mean for Unfulfilled Requests: 0.39\n",
      "Standard dev: 1.94\n",
      "\n",
      "\n",
      "requester_number_of_posts_at_request\n",
      "Mean for Fulfilled Requests: 23.44\n",
      "Standard dev: 52.5\n",
      "Mean for Unfulfilled Requests: 21.0\n",
      "Standard dev: 50.35\n",
      "\n",
      "\n",
      "requester_number_of_posts_on_raop_at_request\n",
      "Mean for Fulfilled Requests: 0.14\n",
      "Standard dev: 0.53\n",
      "Mean for Unfulfilled Requests: 0.04\n",
      "Standard dev: 0.22\n",
      "\n",
      "\n"
     ]
    }
   ],
   "source": [
    "fulfilled_or_not('requester_account_age_in_days_at_request') \n",
    "fulfilled_or_not('requester_days_since_first_post_on_raop_at_request') \n",
    "fulfilled_or_not('requester_number_of_comments_at_request') \n",
    "fulfilled_or_not('requester_number_of_comments_in_raop_at_request') \n",
    "fulfilled_or_not('requester_number_of_posts_at_request') \n",
    "fulfilled_or_not('requester_number_of_posts_on_raop_at_request')"
   ]
  },
  {
   "cell_type": "markdown",
   "metadata": {},
   "source": [
    "#### Upvotes vs Downvotes"
   ]
  },
  {
   "cell_type": "code",
   "execution_count": 16,
   "metadata": {},
   "outputs": [
    {
     "name": "stdout",
     "output_type": "stream",
     "text": [
      "requester_upvotes_minus_downvotes_at_request\n",
      "Mean for Fulfilled Requests: 1372.06\n",
      "Standard dev: 5419.69\n",
      "Mean for Unfulfilled Requests: 1090.9\n",
      "Standard dev: 2956.58\n",
      "\n",
      "\n",
      "requester_upvotes_plus_downvotes_at_request\n",
      "Mean for Fulfilled Requests: 4923.7\n",
      "Standard dev: 42166.37\n",
      "Mean for Unfulfilled Requests: 3358.02\n",
      "Standard dev: 17467.64\n",
      "\n",
      "\n"
     ]
    }
   ],
   "source": [
    "fulfilled_or_not('requester_upvotes_minus_downvotes_at_request')\n",
    "fulfilled_or_not('requester_upvotes_plus_downvotes_at_request')"
   ]
  },
  {
   "cell_type": "markdown",
   "metadata": {},
   "source": [
    "### 2.2 Text Features"
   ]
  },
  {
   "cell_type": "markdown",
   "metadata": {},
   "source": [
    "Next, we'll take a closer look at the text. To start, we can look at Non-Negative Matrix Factorization (NMF) for a better understanding of the request text topic breakdown."
   ]
  },
  {
   "cell_type": "code",
   "execution_count": 17,
   "metadata": {},
   "outputs": [
    {
     "name": "stdout",
     "output_type": "stream",
     "text": [
      "Top five most common topics with counts: [(0, 1008), (1, 175), (3, 171), (2, 169), (11, 130)]\n",
      "NMF Topics:\n",
      "\n",
      "Topic 0:\n",
      "ve job like pizza got work know new going don\n",
      "Topic 1:\n",
      "http com imgur jpg www reddit comments proof pic youtube\n",
      "Topic 2:\n",
      "love pizza tonight buy hut nice night craving pie like\n",
      "Topic 3:\n",
      "pay forward ll promise friday paycheck soon check gladly comes\n",
      "Topic 4:\n",
      "help need dinner appreciate willing feed asking tonight hoping kids\n",
      "Topic 5:\n",
      "really appreciate use pizza right don hey craving starving wednesday\n",
      "Topic 6:\n",
      "college student broke finals poor students kid studying summer appreciate\n",
      "Topic 7:\n",
      "money spent days buy tight pizza kind don right left\n",
      "Topic 8:\n",
      "hungry broke pretty super dont right sure feeling tomorrow roommates\n",
      "Topic 9:\n",
      "just want story sob pizza don craving moved sad need\n",
      "Topic 10:\n",
      "food house stamps today month need days dont family fridge\n",
      "Topic 11:\n",
      "week paid friday till don rent bank buy account end\n",
      "Topic 12:\n",
      "appreciated greatly pizza super thank picky weeks tomorrow proof appreciate\n",
      "Topic 13:\n",
      "thanks advance reading guys hey looking pizza raop appreciate request\n",
      "Topic 14:\n",
      "day today make work lunch long home brighten tomorrow great\n",
      "Topic 15:\n",
      "im dont havent broke ive tired ramen area id friday\n",
      "Topic 16:\n",
      "title says pretty hoping like sure broke simply grateful sob\n",
      "Topic 17:\n",
      "return favor pass repay payday definitely gladly guys offer friday\n",
      "Topic 18:\n",
      "eat house today thing going dogs friend don matter live\n",
      "Topic 19:\n",
      "time long lurker work taking sad read works posting best\n"
     ]
    }
   ],
   "source": [
    "from sklearn.decomposition import NMF\n",
    "no_features = 1000\n",
    "no_topics = 20\n",
    "no_top_words = 10\n",
    "\n",
    "# NMF is able to use tf-idf\n",
    "tfidf_vectorizer = TfidfVectorizer(max_df=0.95, min_df=2, max_features=no_features, stop_words='english')\n",
    "tfidf = tfidf_vectorizer.fit_transform(train_data['request_text_edit_aware'])\n",
    "tfidf_feature_names = tfidf_vectorizer.get_feature_names()\n",
    "\n",
    "# Run NMF\n",
    "nmf = NMF(n_components=no_topics, random_state=1, alpha=.1, l1_ratio=.5, init='nndsvd').fit(tfidf)\n",
    "\n",
    "# Print most common topics\n",
    "topics_vec = np.argmax(nmf.transform(tfidf),axis=1)\n",
    "imp_topics = Counter(topics_vec).most_common(5)\n",
    "print('Top five most common topics with counts: ' + str(imp_topics))\n",
    "\n",
    "# Derived topics with the top 10 words in each topic\n",
    "def display_topics(model, feature_names, no_top_words):\n",
    "    for topic_idx, topic in enumerate(model.components_):\n",
    "        print(\"Topic %d:\" % (topic_idx))\n",
    "        print(\" \".join([feature_names[i]\n",
    "                        for i in topic.argsort()[:-no_top_words - 1:-1]]))\n",
    "\n",
    "print(\"NMF Topics:\\n\")\n",
    "display_topics(nmf, tfidf_feature_names, no_top_words)"
   ]
  },
  {
   "cell_type": "markdown",
   "metadata": {},
   "source": [
    "The top five topics can be generally described by the following:\n",
    "- Topic 0: Job/Work\n",
    "- Topic 1: Inclusion of proof\n",
    "- Topic 2: Love/Craving\n",
    "- Topic 3: Promise of reciprocity\n",
    "- Topic 11: Money/Rent"
   ]
  },
  {
   "cell_type": "markdown",
   "metadata": {},
   "source": [
    "#### Word Vizualization\n",
    "\n",
    "Next we dive a little deeper, looking at the common phrases within the posts and the differences between fulfilled and unfulfilled requests."
   ]
  },
  {
   "cell_type": "code",
   "execution_count": 18,
   "metadata": {},
   "outputs": [
    {
     "data": {
      "text/plain": [
       "<matplotlib.axes._subplots.AxesSubplot at 0x1a1c3ba2b0>"
      ]
     },
     "execution_count": 18,
     "metadata": {},
     "output_type": "execute_result"
    },
    {
     "data": {
      "image/png": "[encoded data removed]",
      "text/plain": [
       "<matplotlib.figure.Figure at 0x1a19b93358>"
      ]
     },
     "metadata": {},
     "output_type": "display_data"
    },
    {
     "data": {
      "image/png": "[encoded data removed]",
      "text/plain": [
       "<matplotlib.figure.Figure at 0x1a18cdf198>"
      ]
     },
     "metadata": {},
     "output_type": "display_data"
    }
   ],
   "source": [
    "def word_join(string,joiner='_'):\n",
    "    return joiner.join(string.split()) \n",
    "v_join=np.vectorize(word_join)\n",
    "\n",
    "CV=CountVectorizer(stop_words='english',ngram_range=(2,2))\n",
    "Ctbow=CV.fit_transform(train_data[train_labels==1]['request_text_edit_aware'])\n",
    "vocab=v_join(CV.get_feature_names())\n",
    "freqs=list(Ctbow.toarray().sum(axis=0))\n",
    "word_score=dict(zip(vocab,freqs))\n",
    "wc=WordCloud(max_words=200,height=500,width=700).fit_words(word_score)\n",
    "plt.imshow(wc, interpolation='bilinear')\n",
    "word_score2=sorted(list(zip(vocab,freqs)), key=lambda x: -x[1])\n",
    "got_pizza=pd.DataFrame(word_score2[:30],columns = ['Word', 'Freq'])\n",
    "got_pizza.plot.bar(x='Word',y='Freq')"
   ]
  },
  {
   "cell_type": "code",
   "execution_count": 19,
   "metadata": {},
   "outputs": [
    {
     "data": {
      "text/plain": [
       "<matplotlib.axes._subplots.AxesSubplot at 0x1a1cd9d898>"
      ]
     },
     "execution_count": 19,
     "metadata": {},
     "output_type": "execute_result"
    },
    {
     "data": {
      "image/png": "[encoded data removed]",
      "text/plain": [
       "<matplotlib.figure.Figure at 0x1a17995048>"
      ]
     },
     "metadata": {},
     "output_type": "display_data"
    },
    {
     "data": {
      "image/png": "[encoded data removed]",
      "text/plain": [
       "<matplotlib.figure.Figure at 0x1a18cc9c50>"
      ]
     },
     "metadata": {},
     "output_type": "display_data"
    }
   ],
   "source": [
    "CV=CountVectorizer(stop_words='english',ngram_range=(2,2))\n",
    "Ctbow=CV.fit_transform(train_data[train_labels==0]['request_text_edit_aware'])\n",
    "vocab=v_join(CV.get_feature_names())\n",
    "freqs=list(Ctbow.toarray().sum(axis=0))\n",
    "word_score=dict(zip(vocab,freqs))\n",
    "wc=WordCloud(max_words=200,height=500,width=700).fit_words(word_score)\n",
    "plt.imshow(wc, interpolation='bilinear')\n",
    "word_score2=list(zip(vocab,freqs))\n",
    "word_score2=sorted(word_score2, key=lambda x: -x[1])\n",
    "no_pizza=pd.DataFrame(word_score2[:30],columns = ['Word', 'Freq'])\n",
    "no_pizza.plot.bar(x='Word',y='Freq')"
   ]
  },
  {
   "cell_type": "markdown",
   "metadata": {},
   "source": [
    "We choose bigrams as unigrams alone makes little sense and trigrams are too rare to be useful. From these visuals we can start to get an idea of potential differentiatiors in terms of post content that might make a difference to whether a user gets pizza or not. There are some interesting differences such as Redditors getting the pizza talking about \"lost job\" vs those not saying \"new job\". Even amongst common phrases, what's interesting is how those who didn't get pizza mentioned \"love pizza\" and \"pay forward\" more often."
   ]
  },
  {
   "cell_type": "markdown",
   "metadata": {},
   "source": [
    "## 3. Baseline"
   ]
  },
  {
   "cell_type": "markdown",
   "metadata": {},
   "source": [
    "As a baseline, we choose the Naive Bayes model combined with a bag of words approach since Naive Bayes is the most straightforward modeling approach to take in terms of model assumptions (feature independence) and complexity. Furthermore, Naive Bayes works well with text as word counts are natural features for Naive Bayes since we calculate probabilities from observation counts."
   ]
  },
  {
   "cell_type": "code",
   "execution_count": 20,
   "metadata": {},
   "outputs": [
    {
     "name": "stdout",
     "output_type": "stream",
     "text": [
      "{'alpha': 8.7890909090909091}\n",
      "auc score using CountVectorizer & MultinomialNB = 0.5988939144736842 \n",
      "\n",
      "confusion matrix\n",
      "[[607   1]\n",
      " [200   0]]\n"
     ]
    }
   ],
   "source": [
    "# Use standard CountVectorizer to transform the training data and dev data \n",
    "vectorizer = CountVectorizer() \n",
    "train_bag_of_words = vectorizer.fit_transform(train_data['request_text_edit_aware'])\n",
    "dev_bag_of_words = vectorizer.transform(dev_data['request_text_edit_aware'])\n",
    "\n",
    "# Create MultinomialNB\n",
    "nb = MultinomialNB()\n",
    "    \n",
    "# test the best value for alpha\n",
    "parameters = {'alpha': np.linspace(0.01, 10, 100)}\n",
    "\n",
    "# create GridSearchCV to find the best alpha\n",
    "clf = GridSearchCV(nb, parameters)\n",
    "    \n",
    "# train the MultinomialNB\n",
    "clf.fit(train_bag_of_words, train_labels)\n",
    "\n",
    "pred_dev_prob = clf.predict_proba(dev_bag_of_words)[:,0]\n",
    "pred_dev_labels = clf.predict(dev_bag_of_words)\n",
    "\n",
    "print(clf.best_params_)\n",
    "print(\"auc score using CountVectorizer & MultinomialNB = {} \\n\".format(roc_auc_score(dev_labels, pred_dev_prob, average='micro')))\n",
    "\n",
    "print(\"confusion matrix\")\n",
    "print(confusion_matrix(dev_labels, pred_dev_labels ))"
   ]
  },
  {
   "cell_type": "markdown",
   "metadata": {},
   "source": [
    " We see with an auc of .598, our baseline does better than randomly guessing (auc of .5) but not by too much.  Also, the confusion matrix shows that the model fails to predict any fulfilled requests. "
   ]
  },
  {
   "cell_type": "markdown",
   "metadata": {},
   "source": [
    "## 4. Feature Engineering & Model Selection"
   ]
  },
  {
   "cell_type": "markdown",
   "metadata": {},
   "source": [
    "### 4.1 Feature Engineering"
   ]
  },
  {
   "cell_type": "markdown",
   "metadata": {},
   "source": [
    "We begin by prepping our text data, creating a new column \"post_and_title\" that combines all the relevant text fields (title of post and body of post)."
   ]
  },
  {
   "cell_type": "code",
   "execution_count": 21,
   "metadata": {
    "collapsed": true
   },
   "outputs": [],
   "source": [
    "train_data['post_and_title']=train_data['request_text_edit_aware'] +' '+train_data['request_title']\n",
    "dev_data['post_and_title']=dev_data['request_text_edit_aware'] +' '+dev_data['request_title']"
   ]
  },
  {
   "cell_type": "markdown",
   "metadata": {},
   "source": [
    "In preparation of further processing, we will preprocess our text in the following ways: converting all text to lowercase, removing punctuation, non-alphanumeric characters and extra spaces. "
   ]
  },
  {
   "cell_type": "code",
   "execution_count": 22,
   "metadata": {
    "collapsed": true
   },
   "outputs": [],
   "source": [
    "def pre_process(s):\n",
    "    s = re.sub(\"[^\\w']|_\", \" \", s) \n",
    "    s=s.translate(str.maketrans(' ',' ',string.punctuation))# Strip punctuation before looking\n",
    "    s= re.sub(' +',' ', s) # Remove extra spaces\n",
    "    s=s.lower()\n",
    "    return s\n"
   ]
  },
  {
   "cell_type": "markdown",
   "metadata": {},
   "source": [
    "Borrowing from the Stanford paper regarding narratives found in the posts, we create features that identify words for each narrative in a given observation and calculate the feature for each narrative as a total count of the words in a given narrative in the text and divide by total text length."
   ]
  },
  {
   "cell_type": "code",
   "execution_count": 23,
   "metadata": {
    "collapsed": true
   },
   "outputs": [],
   "source": [
    "money = [\"money\", \"now\", \"broke\", \"week\", \"until\", \"time\",\n",
    "          \"last\", \"day\", \"when\", \"today\", \"tonight\", \"paid\", \"next\",\n",
    "          \"first\", \"night\", \"after\", \"tomorrow\", \"month\", \"while\",\n",
    "          \"account\", \"before\", \"long\", \"friday\", \"rent\", \"buy\",\n",
    "          \"bank\", \"still\", \"bills\", \"ago\", \"cash\", \"due\",\n",
    "          \"soon\", \"past\", \"never\", \"paycheck\", \"check\", \"spent\",\n",
    "          \"years\", \"poor\", \"till\", \"yesterday\", \"morning\", \"dollars\",\n",
    "          \"financial\", \"hour\", \"bill\", \"evening\", \"credit\",\n",
    "          \"budget\", \"loan\", \"bucks\", \"deposit\", \"dollar\", \"current\",\n",
    "          \"payed\"]\n",
    "job =[\"work\", \"job\", \"paycheck\", \"unemployment\", \"interview\",\n",
    "          \"fired\", \"employment\", \"hired\", \"hire\"]\n",
    "student = [\"college\", \"student\", \"school\", \"roommate\",\n",
    "          \"studying\", \"university\", \"finals\", \"semester\",\n",
    "          \"class\", \"study\", \"project\", \"dorm\", \"tuition\"]\n",
    "family =[\"family\", \"mom\", \"wife\", \"parents\", \"mother\", \"husband\",\n",
    "           \"dad\", \"son\", \"daughter\", \"father\", \"parent\",\n",
    "           \"mum\"]\n",
    "craving = [\"friend\", \"girlfriend\", \"craving\", \"birthday\",\n",
    "          \"boyfriend\", \"celebrate\", \"party\", \"game\", \"games\",\n",
    "          \"movie\", \"date\", \"drunk\", \"beer\", \"celebrating\", \"invited\",\n",
    "          \"drinks\", \"crave\", \"wasted\", \"invite\"]\n",
    "\n",
    "narratives = [money, job, student, family, craving]\n",
    "\n",
    "def find_narr(narr,s):\n",
    "    ct=0\n",
    "    for word in narr:\n",
    "        ct+=s.split().count(word)\n",
    "    return ct/len(s.split())\n",
    "\n",
    "def construct_narrative_features(data): \n",
    "    \n",
    "    data['post_and_title'] = data['request_text_edit_aware'] + ' ' + data['request_title']\n",
    "    clean_text = data['post_and_title'].apply(lambda s: pre_process(s))\n",
    "\n",
    "    features = pd.DataFrame()\n",
    "\n",
    "    for n in narratives:\n",
    "        features[n[0]] = clean_text.apply(lambda s: find_narr(n,s))\n",
    "    return features\n",
    "\n",
    "train_narrative_features = construct_narrative_features(train_data)\n",
    "dev_narrative_features = construct_narrative_features(dev_data)"
   ]
  },
  {
   "cell_type": "markdown",
   "metadata": {},
   "source": [
    "Create a function extract the seasonality information from our post metadata."
   ]
  },
  {
   "cell_type": "code",
   "execution_count": 24,
   "metadata": {
    "collapsed": true
   },
   "outputs": [],
   "source": [
    "#https://www.timeanddate.com/calendar/aboutseasons.html\n",
    "def ts_to_season(month):\n",
    "    if month>=3 and month<=5:\n",
    "        return \"spring\"\n",
    "    elif month>=6 and month <=8:\n",
    "        return \"summer\"\n",
    "    elif month>=9 and month <=11:\n",
    "        return \"fall\"\n",
    "    else:\n",
    "        return \"winter\""
   ]
  },
  {
   "cell_type": "markdown",
   "metadata": {},
   "source": [
    "Create a function for spellchecking using the pyenchant library. We look at the spelling error ratio as the number of misspellings divided by the square root of the length of the text. The square root is taken so that longer texts don't overly diminish the number of errors in the text."
   ]
  },
  {
   "cell_type": "code",
   "execution_count": 25,
   "metadata": {
    "collapsed": true
   },
   "outputs": [],
   "source": [
    "#Credit in how to use:\n",
    "#https://faculty.math.illinois.edu/~gfrancis/illimath/windows/aszgard_mini/movpy-2.0.0-py2.4.4/manuals/PyEnchant/PyEnchant%20Tutorial.htm\n",
    "\n",
    "from enchant.checker import SpellChecker\n",
    "schk = SpellChecker(\"en_US\")\n",
    "def spell_error_ratio(text,spellchecker=schk):\n",
    "    err_ct=0\n",
    "    spellchecker.set_text(text)\n",
    "    for error in spellchecker:\n",
    "        err_ct+=1\n",
    "    l_text=len(text.split())\n",
    "    if l_text==0:\n",
    "        err_ratio=.5\n",
    "    else:\n",
    "        err_ratio=err_ct/np.sqrt(l_text)\n",
    "    return err_ratio\n",
    "    "
   ]
  },
  {
   "cell_type": "markdown",
   "metadata": {},
   "source": [
    "Create features for both train and dev set to leverage the metadata provided within the dataset. The features which don't speak for themselves are commented."
   ]
  },
  {
   "cell_type": "code",
   "execution_count": 26,
   "metadata": {
    "collapsed": true
   },
   "outputs": [],
   "source": [
    "def construct_ft_mat(data):\n",
    "    feat_mat=pd.DataFrame()\n",
    "    \n",
    "    \n",
    "    # Extract temporal features\n",
    "    feat_mat['hour_request']=pd.to_datetime(data['unix_timestamp_of_request_utc'],unit = 's').dt.hour\n",
    "    feat_mat['day_request']=pd.to_datetime(data['unix_timestamp_of_request_utc'],unit = 's').dt.day\n",
    "    feat_mat['day_request']=feat_mat['day_request'].apply(lambda x: 0 if x<16 else 1)\n",
    "    feat_mat['season_request']=pd.to_datetime(data['unix_timestamp_of_request_utc'],unit = 's').dt.month\n",
    "    feat_mat['season_request']=feat_mat['season_request'].apply(ts_to_season)\n",
    "    feat_mat['is_spring']=feat_mat['season_request'].apply(lambda x: 1 if x=='spring' else 0)\n",
    "    feat_mat['is_summer']=feat_mat['season_request'].apply(lambda x: 1 if x=='summer' else 0)\n",
    "    feat_mat['is_fall']=feat_mat['season_request'].apply(lambda x: 1 if x=='fall' else 0)\n",
    "    feat_mat['is_winter']=feat_mat['season_request'].apply(lambda x: 1 if x=='winter' else 0)\n",
    "    del feat_mat['season_request']\n",
    "    \n",
    "    # Extract post popularity features\n",
    "    feat_mat['first_post']=np.log(data['requester_days_since_first_post_on_raop_at_request']+1)\n",
    "    feat_mat['upvotes_minus_downvotes']=data['requester_upvotes_minus_downvotes_at_request']\n",
    "    feat_mat['upvotes_plus_downvotes_at_request']=np.log(data['requester_upvotes_plus_downvotes_at_request']+1)\n",
    "    upvotes=data.apply(lambda row: (row['requester_upvotes_plus_downvotes_at_request'] + row['requester_upvotes_minus_downvotes_at_request'])/2,axis=1)\n",
    "    downvotes=data.apply(lambda row: (row['requester_upvotes_plus_downvotes_at_request']- row['requester_upvotes_minus_downvotes_at_request'])/2,axis=1)\n",
    "    feat_mat['upvotes']=upvotes\n",
    "    #take the ratio of upvotes given to user divided by total of upvotes and downvotes, closer to 1 means \n",
    "    #positive user posting where as towards 0 shows dislike/unpopularity\n",
    "    feat_mat['vote_ratio']=upvotes/(upvotes+downvotes+1)\n",
    "    \n",
    "    # Extract requester features\n",
    "    #log to smooth out data regarding poster age and activity\n",
    "    feat_mat['req_age']=np.log(data['requester_account_age_in_days_at_request']+1)\n",
    "    feat_mat['num_subs']=np.log(data['requester_number_of_subreddits_at_request']+1)\n",
    "    feat_mat['num_posts_req']=np.log(data['requester_number_of_posts_at_request']+1)\n",
    "    feat_mat['pizza_activity']=np.log(data['requester_number_of_posts_on_raop_at_request']+1)\n",
    "    feat_mat['num_pizza_comments']=np.log(data['requester_number_of_comments_in_raop_at_request']+1)\n",
    "    feat_mat['community_age'] = (pd.to_datetime(data['unix_timestamp_of_request_utc'],utc = True, unit = 's') - \\\n",
    "                                pd.to_datetime('2010-12-8', format='%Y-%m-%d')).astype('timedelta64[D]')\n",
    "    \n",
    "    feat_mat['community_age'] = (feat_mat['community_age'] * 10./feat_mat['community_age'].max()).astype(int)    \n",
    "    \n",
    "    #idea is that seniority is a combination of post activity , presence across communities and age of account, took squareroot to smooth out spectrum\n",
    "    #can imagine new users with high posts can be somewhat comparable to long time lurkers but that active older users should still have higher stake\n",
    "    feat_mat['requester_seniority']=np.sqrt(data['requester_number_of_comments_at_request']*data['requester_account_age_in_days_at_request']*data['requester_number_of_subreddits_at_request'])\n",
    "    \n",
    "    \n",
    "    # Extract post features\n",
    "    feat_mat['giver']=data['giver_username_if_known'].apply(lambda x: 0 if x=='N/A' else 1)\n",
    "    #get number of words in text, log to smoothen\n",
    "    feat_mat['len_request']=np.log(data['request_text_edit_aware'].apply(lambda x:x.split()).apply(len)+1)\n",
    "    feat_mat['len_title']=np.log(data['request_title'].apply(lambda x:x.split()).apply(len)+1)\n",
    "    #check if user indicated in text about giving back to community in some way\n",
    "    feat_mat['reciprocity'] = data['post_and_title'].apply(lambda x:1 if re.search(\"repay|pay.+back|pay.+forward|return.+favor\", x) \n",
    "                                               else 0)\n",
    "    feat_mat['image_in_text'] = data['post_and_title'].str.contains('imgur.com|.jpg|.png|.jpeg', case=False).apply(lambda x: 1 if x else 0)\n",
    "    feat_mat['politeness'] = data['post_and_title'].apply(lambda x: 1 if re.search(\"thank|appreciate|advance\", x) else 0)\n",
    "    feat_mat['spell_err_title']=data['request_title'].apply(lambda x:spell_error_ratio(x) )\n",
    "    feat_mat['spell_err_post']=data['request_text_edit_aware'].apply(lambda x: spell_error_ratio(x))\n",
    "\n",
    "    return feat_mat\n",
    "\n",
    "train_mat=construct_ft_mat(train_data)\n",
    "dev_mat=construct_ft_mat(dev_data)"
   ]
  },
  {
   "cell_type": "code",
   "execution_count": 27,
   "metadata": {
    "collapsed": true
   },
   "outputs": [],
   "source": [
    "# Convert dataframe to a numpy-array representation.\n",
    "train_ft_mat=train_mat.as_matrix()\n",
    "dev_ft_mat=dev_mat.as_matrix()"
   ]
  },
  {
   "cell_type": "code",
   "execution_count": 28,
   "metadata": {
    "collapsed": true
   },
   "outputs": [],
   "source": [
    "# Extract text features from the post text by generating features from words\n",
    "vectorizer = TfidfVectorizer(min_df=5,ngram_range=(1,2), preprocessor=pre_process,stop_words='english',norm='l2',sublinear_tf=True) \n",
    "train_bag_of_words = vectorizer.fit_transform(train_data['post_and_title'])\n",
    "dev_bag_of_words = vectorizer.transform(dev_data['post_and_title'])"
   ]
  },
  {
   "cell_type": "code",
   "execution_count": 29,
   "metadata": {},
   "outputs": [
    {
     "name": "stdout",
     "output_type": "stream",
     "text": [
      "(3232, 96)\n"
     ]
    }
   ],
   "source": [
    "#Use Logistic Regression with l1 penalty to feature select from our bag of words in order to reduce dimension.\n",
    "lr=LogisticRegression(C=1,penalty='l1').fit(train_bag_of_words,train_labels)\n",
    "model = SelectFromModel(lr, prefit=True)\n",
    "\n",
    "train_pruned_bow = model.transform(train_bag_of_words)\n",
    "print(train_pruned_bow.shape)\n",
    "\n",
    "dev_pruned_bow=model.transform(dev_bag_of_words)"
   ]
  },
  {
   "cell_type": "markdown",
   "metadata": {},
   "source": [
    "We get the top 96 coefficients from our Logistic Regression which correspond to our most influential words according to the model. "
   ]
  },
  {
   "cell_type": "markdown",
   "metadata": {},
   "source": [
    "We prepare a count matrix so that we can perform topic modeling."
   ]
  },
  {
   "cell_type": "code",
   "execution_count": 30,
   "metadata": {
    "collapsed": true
   },
   "outputs": [],
   "source": [
    "vectorizer_lda = CountVectorizer(min_df=10,ngram_range=(1,1), preprocessor=pre_process,stop_words='english') \n",
    "lda_bag_of_words = vectorizer_lda.fit_transform(train_data['post_and_title'])\n",
    "lda_devbag_of_words = vectorizer_lda.transform(dev_data['post_and_title'])"
   ]
  },
  {
   "cell_type": "markdown",
   "metadata": {},
   "source": [
    "We create a topic model of 3 topics accross 1580 words."
   ]
  },
  {
   "cell_type": "code",
   "execution_count": 31,
   "metadata": {},
   "outputs": [
    {
     "name": "stdout",
     "output_type": "stream",
     "text": [
      "(3, 1580)\n"
     ]
    }
   ],
   "source": [
    "# LDA tells us what topics are present in any given document by observing all the words \n",
    "# in it and producing a topic distribution\n",
    "\n",
    "lda = LDA(n_components = 3, learning_method=\"batch\", max_iter=30,learning_decay=.7, random_state=42)\n",
    "train_topics = lda.fit_transform(lda_bag_of_words)\n",
    "print(lda.components_.shape)\n",
    "\n",
    "dev_topics=lda.transform(lda_devbag_of_words)"
   ]
  },
  {
   "cell_type": "markdown",
   "metadata": {},
   "source": [
    "We also generate 3 topics using matrix factorization."
   ]
  },
  {
   "cell_type": "code",
   "execution_count": 32,
   "metadata": {
    "collapsed": true
   },
   "outputs": [],
   "source": [
    "from sklearn.decomposition import NMF\n",
    "# NMF is able to use tf-idf\n",
    "tfidf_vectorizer = TfidfVectorizer(max_df=0.95, min_df=2, stop_words='english')\n",
    "tfidf = tfidf_vectorizer.fit_transform(train_data['post_and_title'])\n",
    "dev_tfidf = tfidf_vectorizer.transform(dev_data['post_and_title'])\n",
    "tfidf_feature_names = tfidf_vectorizer.get_feature_names()\n",
    "\n",
    "no_topics = 3\n",
    "\n",
    "# Run NMF\n",
    "nmf_model = NMF(n_components=no_topics, random_state=1, alpha=.1, l1_ratio=.5, init='nndsvd').fit(tfidf)\n",
    "nmf_train = nmf_model.transform(tfidf)\n",
    "nmf_dev = nmf_model.transform(dev_tfidf)"
   ]
  },
  {
   "cell_type": "markdown",
   "metadata": {},
   "source": [
    "We combine all of the features into a large,sparse, matrix so that we can move on to the modeling phase."
   ]
  },
  {
   "cell_type": "code",
   "execution_count": 33,
   "metadata": {
    "collapsed": true
   },
   "outputs": [],
   "source": [
    "train_combined=hstack([train_pruned_bow,train_ft_mat,train_topics, train_narrative_features,nmf_train])\n",
    "dev_combined=hstack([dev_pruned_bow,dev_ft_mat,dev_topics, dev_narrative_features,nmf_dev ])"
   ]
  },
  {
   "cell_type": "markdown",
   "metadata": {},
   "source": [
    "### 4.2 Model Selection"
   ]
  },
  {
   "cell_type": "markdown",
   "metadata": {},
   "source": [
    "First natural step is to see if we improve from baseline by providing additional features. We note that naturally these features don't translate to the theory of Naive Bayes as we don't have frequency counts, positive numbers, etc. Moreover, what meaning is in the features is likely lost as we have to take absolute value of the values in order to even feed into the model."
   ]
  },
  {
   "cell_type": "code",
   "execution_count": 34,
   "metadata": {},
   "outputs": [
    {
     "name": "stdout",
     "output_type": "stream",
     "text": [
      "{'alpha': 0.01}\n",
      "auc score using combined features & MultinomialNB = 0.4392105263157895\n"
     ]
    }
   ],
   "source": [
    "# Create MultinomialNB\n",
    "nb = MultinomialNB()\n",
    "    \n",
    "# test the best value for alpha\n",
    "parameters = {'alpha': np.linspace(0.01, 10, 100)}\n",
    "\n",
    "# create GridSearchCV to find the best alpha\n",
    "clf = GridSearchCV(nb, parameters,scoring='roc_auc')\n",
    "    \n",
    "# train the MultinomialNB\n",
    "clf.fit(np.abs(train_combined), train_labels)\n",
    "\n",
    "pred_dev_prob = clf.predict_proba(np.abs(dev_combined))[:,0]\n",
    "\n",
    "print(clf.best_params_)\n",
    "print(\"auc score using combined features & MultinomialNB = {}\".format(roc_auc_score(dev_labels, pred_dev_prob, average='micro')))"
   ]
  },
  {
   "cell_type": "markdown",
   "metadata": {},
   "source": [
    "We see that we actually perform worse than baseline, in fact worse than random guessing! One major reason is we have quite a few continuous features and require finer discrimination than just a binary threshold in order to provide information. Along the same vein, we have broken the assumption of frequency/counts being used as features. This guides us to move forward in looking to a different model to make use of these new features. We turn to Gaussian Naive Bayes as it can accept real values. We set the priors to reflect the imbalance in the the set."
   ]
  },
  {
   "cell_type": "code",
   "execution_count": 35,
   "metadata": {},
   "outputs": [
    {
     "name": "stdout",
     "output_type": "stream",
     "text": [
      "auc score using combined features & GaussianNB = 0.690921052631579\n"
     ]
    }
   ],
   "source": [
    "from sklearn.naive_bayes import GaussianNB\n",
    "\n",
    "gnb=GaussianNB(priors=[0.6, 0.4])\n",
    "gnb.fit(train_combined.toarray(),train_labels)\n",
    "pred_dev=gnb.predict(dev_combined.toarray())\n",
    "print(\"auc score using combined features & GaussianNB = {}\".format(roc_auc_score(dev_labels, pred_dev, average='micro')))\n"
   ]
  },
  {
   "cell_type": "markdown",
   "metadata": {},
   "source": [
    "We do well above baseline in this case. However, it's worth noting that Guassian Naive Bayes makes strong assumptions (normality) of the features in terms of distribution and hence restricts the reality of the data. We are aware that quite few of the feature distributions are sharply skewed and even have flatter tails due to high number of zeros and other irregularities."
   ]
  },
  {
   "cell_type": "markdown",
   "metadata": {},
   "source": [
    "We take a step up and look to Logistic Regression as our linear classifier of choice."
   ]
  },
  {
   "cell_type": "code",
   "execution_count": 36,
   "metadata": {},
   "outputs": [
    {
     "name": "stdout",
     "output_type": "stream",
     "text": [
      "{'C': 0.096984848484848479}\n"
     ]
    },
    {
     "data": {
      "text/plain": [
       "0.79239309210526321"
      ]
     },
     "execution_count": 36,
     "metadata": {},
     "output_type": "execute_result"
    }
   ],
   "source": [
    "lr = LogisticRegression()\n",
    "#parameters = {'C':[0.00001, 0.0001, 0.001, 0.01, 0.1, 1, 10, 100, 1000]}\n",
    "parameters = {'C':np.linspace(0.0005, 0.1, 100)}\n",
    "clf = GridSearchCV(lr, parameters,cv=5)\n",
    "clf.fit(train_combined, train_labels)\n",
    "pred_dev_prob = clf.predict_proba(dev_combined)[:,1]\n",
    "pred_dev_labels = clf.predict(dev_combined)\n",
    "\n",
    "print(clf.best_params_)\n",
    "roc_auc_score(dev_labels, pred_dev_prob, average='micro')"
   ]
  },
  {
   "cell_type": "markdown",
   "metadata": {},
   "source": [
    "We see a significant boost in auc via logistic regression. This is likely due to the fact that we have reduced the assumptions/constraints to our features (haven't assumed a particular distribution besides non-multicolinearity and independence of features). From prior experience (project 2), we also know that this model is prone to overfitting when data is \"small\"."
   ]
  },
  {
   "cell_type": "markdown",
   "metadata": {},
   "source": [
    "We move forward with a non-linear method, the xgboost variant of gradient boosting, to capture higher level interactions in variables. Moreover, we can somewhat treat feature independence and possible multi-collinearity due to the way in that the ensembling method subsets both features and samples from the data."
   ]
  },
  {
   "cell_type": "markdown",
   "metadata": {},
   "source": [
    "In terms of the parameters, we can think of them as a balance between preventing overfitting while also capturing as much predictive power as possible. We try to gain predictive power by increasing the depth so that the subsequent trees can fit tightly on the residuals and scale the weight attributed to the samples (3.06) as observed by the imbalance in our data (ratio of those who didn't get pizza to those who did). We subsample the training set so that there is further prevention of overfitting, and subsample the features so that multi-colliniearity can have a weaker role."
   ]
  },
  {
   "cell_type": "code",
   "execution_count": 37,
   "metadata": {},
   "outputs": [
    {
     "name": "stdout",
     "output_type": "stream",
     "text": [
      "[0]\teval-auc:0.661086\ttrain-auc:0.813703\n",
      "Multiple eval metrics have been passed: 'train-auc' will be used for early stopping.\n",
      "\n",
      "Will train until train-auc hasn't improved in 10 rounds.\n",
      "[1]\teval-auc:0.714914\ttrain-auc:0.852336\n",
      "[2]\teval-auc:0.744124\ttrain-auc:0.864838\n",
      "[3]\teval-auc:0.751583\ttrain-auc:0.877611\n",
      "[4]\teval-auc:0.748146\ttrain-auc:0.878787\n",
      "[5]\teval-auc:0.753039\ttrain-auc:0.883356\n",
      "[6]\teval-auc:0.748252\ttrain-auc:0.884196\n",
      "[7]\teval-auc:0.750308\ttrain-auc:0.886468\n",
      "[8]\teval-auc:0.755736\ttrain-auc:0.894363\n",
      "[9]\teval-auc:0.759338\ttrain-auc:0.896616\n",
      "[10]\teval-auc:0.761414\ttrain-auc:0.897883\n",
      "[11]\teval-auc:0.765469\ttrain-auc:0.897076\n",
      "[12]\teval-auc:0.766694\ttrain-auc:0.899587\n",
      "[13]\teval-auc:0.770736\ttrain-auc:0.902369\n",
      "[14]\teval-auc:0.772274\ttrain-auc:0.9028\n",
      "[15]\teval-auc:0.771904\ttrain-auc:0.903058\n",
      "[16]\teval-auc:0.770263\ttrain-auc:0.905601\n",
      "[17]\teval-auc:0.769157\ttrain-auc:0.907834\n",
      "[18]\teval-auc:0.767932\ttrain-auc:0.907417\n",
      "[19]\teval-auc:0.768154\ttrain-auc:0.908688\n",
      "[20]\teval-auc:0.768043\ttrain-auc:0.911625\n",
      "[21]\teval-auc:0.770946\ttrain-auc:0.911705\n",
      "[22]\teval-auc:0.769564\ttrain-auc:0.913178\n",
      "[23]\teval-auc:0.771184\ttrain-auc:0.913951\n",
      "[24]\teval-auc:0.76963\ttrain-auc:0.915058\n",
      "[25]\teval-auc:0.771768\ttrain-auc:0.916773\n",
      "[26]\teval-auc:0.772549\ttrain-auc:0.917583\n",
      "[27]\teval-auc:0.773396\ttrain-auc:0.918636\n",
      "[28]\teval-auc:0.77361\ttrain-auc:0.920221\n",
      "[29]\teval-auc:0.775831\ttrain-auc:0.921438\n",
      "[30]\teval-auc:0.775461\ttrain-auc:0.921669\n",
      "[31]\teval-auc:0.778355\ttrain-auc:0.924155\n",
      "[32]\teval-auc:0.777336\ttrain-auc:0.924579\n",
      "[33]\teval-auc:0.777418\ttrain-auc:0.924766\n",
      "[34]\teval-auc:0.777697\ttrain-auc:0.924436\n",
      "[35]\teval-auc:0.777064\ttrain-auc:0.924136\n",
      "[36]\teval-auc:0.776563\ttrain-auc:0.924893\n",
      "[37]\teval-auc:0.777171\ttrain-auc:0.925498\n",
      "[38]\teval-auc:0.77736\ttrain-auc:0.925736\n",
      "[39]\teval-auc:0.777673\ttrain-auc:0.926061\n",
      "[40]\teval-auc:0.776637\ttrain-auc:0.92711\n",
      "[41]\teval-auc:0.777541\ttrain-auc:0.927438\n",
      "[42]\teval-auc:0.778199\ttrain-auc:0.927685\n",
      "[43]\teval-auc:0.778602\ttrain-auc:0.927935\n",
      "[44]\teval-auc:0.779868\ttrain-auc:0.927887\n",
      "[45]\teval-auc:0.779778\ttrain-auc:0.927853\n",
      "[46]\teval-auc:0.780683\ttrain-auc:0.928068\n",
      "[47]\teval-auc:0.781036\ttrain-auc:0.928879\n",
      "[48]\teval-auc:0.781595\ttrain-auc:0.92938\n",
      "[49]\teval-auc:0.781493\ttrain-auc:0.929459\n",
      "[50]\teval-auc:0.7825\ttrain-auc:0.930489\n",
      "[51]\teval-auc:0.782887\ttrain-auc:0.931038\n",
      "[52]\teval-auc:0.782516\ttrain-auc:0.931418\n",
      "[53]\teval-auc:0.783117\ttrain-auc:0.932006\n",
      "[54]\teval-auc:0.784786\ttrain-auc:0.932091\n",
      "[55]\teval-auc:0.784877\ttrain-auc:0.932481\n",
      "[56]\teval-auc:0.78523\ttrain-auc:0.93243\n",
      "[57]\teval-auc:0.785099\ttrain-auc:0.932463\n",
      "[58]\teval-auc:0.784975\ttrain-auc:0.932118\n",
      "[59]\teval-auc:0.784655\ttrain-auc:0.933391\n",
      "[60]\teval-auc:0.785222\ttrain-auc:0.934311\n",
      "[61]\teval-auc:0.784219\ttrain-auc:0.93478\n",
      "[62]\teval-auc:0.784342\ttrain-auc:0.935731\n",
      "[63]\teval-auc:0.783931\ttrain-auc:0.936386\n",
      "[64]\teval-auc:0.783832\ttrain-auc:0.936267\n",
      "[65]\teval-auc:0.785016\ttrain-auc:0.936471\n",
      "[66]\teval-auc:0.785008\ttrain-auc:0.936733\n",
      "[67]\teval-auc:0.785979\ttrain-auc:0.937643\n",
      "[68]\teval-auc:0.785296\ttrain-auc:0.938207\n",
      "[69]\teval-auc:0.785921\ttrain-auc:0.938717\n",
      "[70]\teval-auc:0.786217\ttrain-auc:0.939\n",
      "[71]\teval-auc:0.786497\ttrain-auc:0.939223\n",
      "[72]\teval-auc:0.786554\ttrain-auc:0.939413\n",
      "[73]\teval-auc:0.786176\ttrain-auc:0.939228\n",
      "[74]\teval-auc:0.786299\ttrain-auc:0.939613\n",
      "[75]\teval-auc:0.786242\ttrain-auc:0.939792\n",
      "[76]\teval-auc:0.786456\ttrain-auc:0.939918\n",
      "[77]\teval-auc:0.786497\ttrain-auc:0.940155\n",
      "[78]\teval-auc:0.786785\ttrain-auc:0.940829\n",
      "[79]\teval-auc:0.787081\ttrain-auc:0.940798\n",
      "[80]\teval-auc:0.787196\ttrain-auc:0.94081\n",
      "[81]\teval-auc:0.787253\ttrain-auc:0.940853\n",
      "[82]\teval-auc:0.787039\ttrain-auc:0.941078\n",
      "[83]\teval-auc:0.786809\ttrain-auc:0.940868\n",
      "[84]\teval-auc:0.787179\ttrain-auc:0.941046\n",
      "[85]\teval-auc:0.786883\ttrain-auc:0.941301\n",
      "[86]\teval-auc:0.786965\ttrain-auc:0.941503\n",
      "[87]\teval-auc:0.787837\ttrain-auc:0.941809\n",
      "[88]\teval-auc:0.787903\ttrain-auc:0.942069\n",
      "[89]\teval-auc:0.787656\ttrain-auc:0.94227\n",
      "[90]\teval-auc:0.787771\ttrain-auc:0.942667\n",
      "[91]\teval-auc:0.78736\ttrain-auc:0.943461\n",
      "[92]\teval-auc:0.787837\ttrain-auc:0.944032\n",
      "[93]\teval-auc:0.788092\ttrain-auc:0.944301\n",
      "[94]\teval-auc:0.78847\ttrain-auc:0.944455\n",
      "[95]\teval-auc:0.788972\ttrain-auc:0.944455\n",
      "[96]\teval-auc:0.788972\ttrain-auc:0.94455\n",
      "[97]\teval-auc:0.78912\ttrain-auc:0.944947\n",
      "[98]\teval-auc:0.788487\ttrain-auc:0.945325\n",
      "[99]\teval-auc:0.788553\ttrain-auc:0.945477\n"
     ]
    }
   ],
   "source": [
    "#create dmatrices\n",
    "dtrain = xgb.DMatrix(train_combined, train_labels)\n",
    "ddev = xgb.DMatrix(dev_combined\n",
    "                         , dev_labels)\n",
    "\n",
    "#booster parameter\n",
    "param = {'max_depth':6, 'eta': .02, 'silent': 1, 'objective': 'binary:logistic'\n",
    "         , 'scale_pos_weight': 3.06,'max_delta_step':1,'subsample':.9,'n_estimators':128,'colsample_bytree':.7,'seed':42}\n",
    "param['nthread'] = 4\n",
    "param['eval_metric'] = 'auc'\n",
    "\n",
    "#specify validation set to watch performance\n",
    "evallist = [(ddev, 'eval'), (dtrain, 'train')]\n",
    "\n",
    "#train model\n",
    "num_round = 100\n",
    "bst = xgb.train(param.items(), dtrain, num_round, evallist, early_stopping_rounds=10)"
   ]
  },
  {
   "cell_type": "markdown",
   "metadata": {},
   "source": [
    "We see a comparable score, not different by a wide margin. We could either do further hyperparameter tuning on the model as there are plenty of knobs to play with as well as go back to the drawing board for feature selection. Since this model performed the best in terms of performance and we aren't going for parsimony as much as predictive power, we select this model as our candidate for the test set."
   ]
  },
  {
   "cell_type": "markdown",
   "metadata": {},
   "source": [
    "## 5. Error Analysis"
   ]
  },
  {
   "cell_type": "markdown",
   "metadata": {},
   "source": [
    "### 5.1 Model Submission, Score, and Ranking"
   ]
  },
  {
   "cell_type": "code",
   "execution_count": 38,
   "metadata": {
    "collapsed": true
   },
   "outputs": [],
   "source": [
    "#construct features for test data\n",
    "test_data = test_json_df\n",
    "test_data['post_and_title'] = test_data['request_text_edit_aware'] +' '+test_data['request_title']\n",
    "test_narrative_features = construct_narrative_features(test_data)\n",
    "test_mat = construct_ft_mat(test_data)\n",
    "test_ft_mat = test_mat.as_matrix()\n",
    "test_bag_of_words = vectorizer.transform(test_data['post_and_title'])\n",
    "test_pruned_bow=model.transform(test_bag_of_words)\n",
    "lda_testbag_of_words = vectorizer_lda.transform(test_data['post_and_title'])\n",
    "test_topics = lda.transform(lda_testbag_of_words)\n",
    "test_tfidf = tfidf_vectorizer.transform(test_data['post_and_title'])\n",
    "nmf_test = nmf_model.transform(test_tfidf)\n",
    "test_combined=hstack([test_pruned_bow,test_ft_mat,test_topics, test_narrative_features,nmf_test])"
   ]
  },
  {
   "cell_type": "code",
   "execution_count": 39,
   "metadata": {},
   "outputs": [
    {
     "data": {
      "text/plain": [
       "546"
      ]
     },
     "execution_count": 39,
     "metadata": {},
     "output_type": "execute_result"
    }
   ],
   "source": [
    "#Make predictions for test data\n",
    "dtest = xgb.DMatrix(test_combined)\n",
    "final_pred = bst.predict(dtest, ntree_limit=bst.best_iteration)\n",
    "(final_pred > 0.45).astype(int).sum()\n",
    "# final_pred.shape"
   ]
  },
  {
   "cell_type": "markdown",
   "metadata": {},
   "source": [
    "### 5.2 Submission"
   ]
  },
  {
   "cell_type": "code",
   "execution_count": 40,
   "metadata": {
    "collapsed": true
   },
   "outputs": [],
   "source": [
    "submssion = pd.DataFrame(np.vstack((test_data.request_id, (final_pred > 0.45).astype(int))).T)\n",
    "submssion.columns = [\"request_id\", \"requester_received_pizza\"]\n",
    "submssion.set_index('request_id', inplace = True)\n",
    "# submssion.head(5)\n",
    "submssion.to_csv('Submission.csv')"
   ]
  },
  {
   "cell_type": "markdown",
   "metadata": {},
   "source": [
    "Our submission on Kaggle scored **0.71512** (AUC) and is good for **77th** place at the time of writing. "
   ]
  },
  {
   "cell_type": "markdown",
   "metadata": {},
   "source": [
    "### 5.3 ROC Curve"
   ]
  },
  {
   "cell_type": "code",
   "execution_count": 41,
   "metadata": {},
   "outputs": [
    {
     "data": {
      "image/png": "[encoded data removed]",
      "text/plain": [
       "<matplotlib.figure.Figure at 0x1a199ad828>"
      ]
     },
     "metadata": {},
     "output_type": "display_data"
    }
   ],
   "source": [
    "#Create ROC curve using Dev data\n",
    "from sklearn.metrics import roc_curve, auc\n",
    "\n",
    "pred_probas = bst.predict(ddev, ntree_limit=bst.best_iteration)\n",
    "\n",
    "fpr,tpr,_ = roc_curve(dev_labels, pred_probas)\n",
    "roc_auc = auc(fpr,tpr)\n",
    "plt.plot(fpr,tpr,label='area = %.2f' %roc_auc)\n",
    "plt.plot([0, 1], [0, 1], 'k--')\n",
    "plt.xlim([0.0, 1.0])\n",
    "plt.ylim([0.0, 1.05])\n",
    "plt.legend(loc='lower right')\n",
    "plt.xlabel('False positive rate')\n",
    "plt.ylabel('True positive rate')\n",
    "plt.title('ROC curve')\n",
    "\n",
    "plt.show()"
   ]
  },
  {
   "cell_type": "markdown",
   "metadata": {},
   "source": [
    "### 5.4 Learning Curve"
   ]
  },
  {
   "cell_type": "code",
   "execution_count": 42,
   "metadata": {},
   "outputs": [
    {
     "name": "stdout",
     "output_type": "stream",
     "text": [
      "400\n",
      "[0]\tvalidation_0-auc:0.688273\n",
      "Will train until validation_0-auc hasn't improved in 10 rounds.\n",
      "[1]\tvalidation_0-auc:0.695103\n",
      "[2]\tvalidation_0-auc:0.701213\n",
      "[3]\tvalidation_0-auc:0.695288\n",
      "[4]\tvalidation_0-auc:0.700345\n",
      "[5]\tvalidation_0-auc:0.704256\n",
      "[6]\tvalidation_0-auc:0.703561\n",
      "[7]\tvalidation_0-auc:0.700567\n",
      "[8]\tvalidation_0-auc:0.708771\n",
      "[9]\tvalidation_0-auc:0.717475\n",
      "[10]\tvalidation_0-auc:0.72213\n",
      "[11]\tvalidation_0-auc:0.725288\n",
      "[12]\tvalidation_0-auc:0.723104\n",
      "[13]\tvalidation_0-auc:0.727097\n",
      "[14]\tvalidation_0-auc:0.728236\n",
      "[15]\tvalidation_0-auc:0.736452\n",
      "[16]\tvalidation_0-auc:0.737364\n",
      "[17]\tvalidation_0-auc:0.734309\n",
      "[18]\tvalidation_0-auc:0.737475\n",
      "[19]\tvalidation_0-auc:0.740362\n",
      "[20]\tvalidation_0-auc:0.739753\n",
      "[21]\tvalidation_0-auc:0.74398\n",
      "[22]\tvalidation_0-auc:0.74338\n",
      "[23]\tvalidation_0-auc:0.74204\n",
      "[24]\tvalidation_0-auc:0.744054\n",
      "[25]\tvalidation_0-auc:0.744638\n",
      "[26]\tvalidation_0-auc:0.74787\n",
      "[27]\tvalidation_0-auc:0.745206\n",
      "[28]\tvalidation_0-auc:0.747393\n",
      "[29]\tvalidation_0-auc:0.745641\n",
      "[30]\tvalidation_0-auc:0.746497\n",
      "[31]\tvalidation_0-auc:0.74685\n",
      "[32]\tvalidation_0-auc:0.744959\n",
      "[33]\tvalidation_0-auc:0.744268\n",
      "[34]\tvalidation_0-auc:0.742747\n",
      "[35]\tvalidation_0-auc:0.742845\n",
      "[36]\tvalidation_0-auc:0.743758\n",
      "Stopping. Best iteration:\n",
      "[26]\tvalidation_0-auc:0.74787\n",
      "\n",
      "500\n",
      "[0]\tvalidation_0-auc:0.664387\n",
      "Will train until validation_0-auc hasn't improved in 10 rounds.\n",
      "[1]\tvalidation_0-auc:0.66882\n",
      "[2]\tvalidation_0-auc:0.690884\n",
      "[3]\tvalidation_0-auc:0.708532\n",
      "[4]\tvalidation_0-auc:0.702664\n",
      "[5]\tvalidation_0-auc:0.689507\n",
      "[6]\tvalidation_0-auc:0.714774\n",
      "[7]\tvalidation_0-auc:0.727118\n",
      "[8]\tvalidation_0-auc:0.738627\n",
      "[9]\tvalidation_0-auc:0.740687\n",
      "[10]\tvalidation_0-auc:0.747459\n",
      "[11]\tvalidation_0-auc:0.754104\n",
      "[12]\tvalidation_0-auc:0.748355\n",
      "[13]\tvalidation_0-auc:0.751809\n",
      "[14]\tvalidation_0-auc:0.752652\n",
      "[15]\tvalidation_0-auc:0.754498\n",
      "[16]\tvalidation_0-auc:0.756924\n",
      "[17]\tvalidation_0-auc:0.758129\n",
      "[18]\tvalidation_0-auc:0.758018\n",
      "[19]\tvalidation_0-auc:0.753701\n",
      "[20]\tvalidation_0-auc:0.756431\n",
      "[21]\tvalidation_0-auc:0.754778\n",
      "[22]\tvalidation_0-auc:0.752985\n",
      "[23]\tvalidation_0-auc:0.751209\n",
      "[24]\tvalidation_0-auc:0.750058\n",
      "[25]\tvalidation_0-auc:0.748035\n",
      "[26]\tvalidation_0-auc:0.748939\n",
      "[27]\tvalidation_0-auc:0.747607\n",
      "Stopping. Best iteration:\n",
      "[17]\tvalidation_0-auc:0.758129\n",
      "\n",
      "600\n",
      "[0]\tvalidation_0-auc:0.644075\n",
      "Will train until validation_0-auc hasn't improved in 10 rounds.\n",
      "[1]\tvalidation_0-auc:0.7091\n",
      "[2]\tvalidation_0-auc:0.731768\n",
      "[3]\tvalidation_0-auc:0.731616\n",
      "[4]\tvalidation_0-auc:0.731127\n",
      "[5]\tvalidation_0-auc:0.73634\n",
      "[6]\tvalidation_0-auc:0.744465\n",
      "[7]\tvalidation_0-auc:0.753466\n",
      "[8]\tvalidation_0-auc:0.743248\n",
      "[9]\tvalidation_0-auc:0.753067\n",
      "[10]\tvalidation_0-auc:0.75507\n",
      "[11]\tvalidation_0-auc:0.754918\n",
      "[12]\tvalidation_0-auc:0.753405\n",
      "[13]\tvalidation_0-auc:0.751628\n",
      "[14]\tvalidation_0-auc:0.749338\n",
      "[15]\tvalidation_0-auc:0.745732\n",
      "[16]\tvalidation_0-auc:0.747718\n",
      "[17]\tvalidation_0-auc:0.747356\n",
      "[18]\tvalidation_0-auc:0.746155\n",
      "[19]\tvalidation_0-auc:0.746077\n",
      "[20]\tvalidation_0-auc:0.74692\n",
      "Stopping. Best iteration:\n",
      "[10]\tvalidation_0-auc:0.75507\n",
      "\n",
      "700\n",
      "[0]\tvalidation_0-auc:0.619725\n",
      "Will train until validation_0-auc hasn't improved in 10 rounds.\n",
      "[1]\tvalidation_0-auc:0.660033\n",
      "[2]\tvalidation_0-auc:0.667993\n",
      "[3]\tvalidation_0-auc:0.690966\n",
      "[4]\tvalidation_0-auc:0.691776\n",
      "[5]\tvalidation_0-auc:0.709716\n",
      "[6]\tvalidation_0-auc:0.716476\n",
      "[7]\tvalidation_0-auc:0.719984\n",
      "[8]\tvalidation_0-auc:0.718623\n",
      "[9]\tvalidation_0-auc:0.722031\n",
      "[10]\tvalidation_0-auc:0.727989\n",
      "[11]\tvalidation_0-auc:0.73257\n",
      "[12]\tvalidation_0-auc:0.731192\n",
      "[13]\tvalidation_0-auc:0.733092\n",
      "[14]\tvalidation_0-auc:0.734161\n",
      "[15]\tvalidation_0-auc:0.732722\n",
      "[16]\tvalidation_0-auc:0.736562\n",
      "[17]\tvalidation_0-auc:0.741266\n",
      "[18]\tvalidation_0-auc:0.743355\n",
      "[19]\tvalidation_0-auc:0.743215\n",
      "[20]\tvalidation_0-auc:0.746924\n",
      "[21]\tvalidation_0-auc:0.748059\n",
      "[22]\tvalidation_0-auc:0.753076\n",
      "[23]\tvalidation_0-auc:0.753396\n",
      "[24]\tvalidation_0-auc:0.75384\n",
      "[25]\tvalidation_0-auc:0.753446\n",
      "[26]\tvalidation_0-auc:0.750921\n",
      "[27]\tvalidation_0-auc:0.7506\n",
      "[28]\tvalidation_0-auc:0.750938\n",
      "[29]\tvalidation_0-auc:0.751028\n",
      "[30]\tvalidation_0-auc:0.751842\n",
      "[31]\tvalidation_0-auc:0.752722\n",
      "[32]\tvalidation_0-auc:0.751275\n",
      "[33]\tvalidation_0-auc:0.75139\n",
      "[34]\tvalidation_0-auc:0.752985\n",
      "Stopping. Best iteration:\n",
      "[24]\tvalidation_0-auc:0.75384\n",
      "\n",
      "800\n",
      "[0]\tvalidation_0-auc:0.544461\n",
      "Will train until validation_0-auc hasn't improved in 10 rounds.\n",
      "[1]\tvalidation_0-auc:0.662475\n",
      "[2]\tvalidation_0-auc:0.711542\n",
      "[3]\tvalidation_0-auc:0.723964\n",
      "[4]\tvalidation_0-auc:0.732936\n",
      "[5]\tvalidation_0-auc:0.745678\n",
      "[6]\tvalidation_0-auc:0.753417\n",
      "[7]\tvalidation_0-auc:0.755473\n",
      "[8]\tvalidation_0-auc:0.757307\n",
      "[9]\tvalidation_0-auc:0.761184\n",
      "[10]\tvalidation_0-auc:0.7569\n",
      "[11]\tvalidation_0-auc:0.76132\n",
      "[12]\tvalidation_0-auc:0.76581\n",
      "[13]\tvalidation_0-auc:0.768343\n",
      "[14]\tvalidation_0-auc:0.774079\n",
      "[15]\tvalidation_0-auc:0.77028\n",
      "[16]\tvalidation_0-auc:0.769416\n",
      "[17]\tvalidation_0-auc:0.771752\n",
      "[18]\tvalidation_0-auc:0.774268\n",
      "[19]\tvalidation_0-auc:0.778236\n",
      "[20]\tvalidation_0-auc:0.776057\n",
      "[21]\tvalidation_0-auc:0.776678\n",
      "[22]\tvalidation_0-auc:0.775016\n",
      "[23]\tvalidation_0-auc:0.773692\n",
      "[24]\tvalidation_0-auc:0.773133\n",
      "[25]\tvalidation_0-auc:0.771143\n",
      "[26]\tvalidation_0-auc:0.769753\n",
      "[27]\tvalidation_0-auc:0.768602\n",
      "[28]\tvalidation_0-auc:0.767599\n",
      "[29]\tvalidation_0-auc:0.7669\n",
      "Stopping. Best iteration:\n",
      "[19]\tvalidation_0-auc:0.778236\n",
      "\n",
      "900\n",
      "[0]\tvalidation_0-auc:0.554515\n",
      "Will train until validation_0-auc hasn't improved in 10 rounds.\n",
      "[1]\tvalidation_0-auc:0.546994\n",
      "[2]\tvalidation_0-auc:0.615206\n",
      "[3]\tvalidation_0-auc:0.639441\n",
      "[4]\tvalidation_0-auc:0.643951\n",
      "[5]\tvalidation_0-auc:0.656377\n",
      "[6]\tvalidation_0-auc:0.693166\n",
      "[7]\tvalidation_0-auc:0.693734\n",
      "[8]\tvalidation_0-auc:0.707011\n",
      "[9]\tvalidation_0-auc:0.721349\n",
      "[10]\tvalidation_0-auc:0.717245\n",
      "[11]\tvalidation_0-auc:0.729001\n",
      "[12]\tvalidation_0-auc:0.738433\n",
      "[13]\tvalidation_0-auc:0.741661\n",
      "[14]\tvalidation_0-auc:0.745946\n",
      "[15]\tvalidation_0-auc:0.750296\n",
      "[16]\tvalidation_0-auc:0.750296\n",
      "[17]\tvalidation_0-auc:0.75141\n",
      "[18]\tvalidation_0-auc:0.753322\n",
      "[19]\tvalidation_0-auc:0.752738\n",
      "[20]\tvalidation_0-auc:0.757484\n",
      "[21]\tvalidation_0-auc:0.761521\n",
      "[22]\tvalidation_0-auc:0.760831\n",
      "[23]\tvalidation_0-auc:0.759523\n",
      "[24]\tvalidation_0-auc:0.761661\n",
      "[25]\tvalidation_0-auc:0.763388\n",
      "[26]\tvalidation_0-auc:0.767319\n",
      "[27]\tvalidation_0-auc:0.765625\n",
      "[28]\tvalidation_0-auc:0.767311\n",
      "[29]\tvalidation_0-auc:0.769153\n",
      "[30]\tvalidation_0-auc:0.76611\n",
      "[31]\tvalidation_0-auc:0.763972\n",
      "[32]\tvalidation_0-auc:0.761431\n",
      "[33]\tvalidation_0-auc:0.761776\n",
      "[34]\tvalidation_0-auc:0.760905\n",
      "[35]\tvalidation_0-auc:0.762171\n",
      "[36]\tvalidation_0-auc:0.761727\n",
      "[37]\tvalidation_0-auc:0.762623\n",
      "[38]\tvalidation_0-auc:0.763947\n",
      "[39]\tvalidation_0-auc:0.763832\n",
      "Stopping. Best iteration:\n",
      "[29]\tvalidation_0-auc:0.769153\n",
      "\n",
      "1000\n",
      "[0]\tvalidation_0-auc:0.662414\n",
      "Will train until validation_0-auc hasn't improved in 10 rounds.\n",
      "[1]\tvalidation_0-auc:0.699346\n",
      "[2]\tvalidation_0-auc:0.720485\n",
      "[3]\tvalidation_0-auc:0.72014\n",
      "[4]\tvalidation_0-auc:0.72111\n",
      "[5]\tvalidation_0-auc:0.738993\n",
      "[6]\tvalidation_0-auc:0.742081\n",
      "[7]\tvalidation_0-auc:0.744815\n",
      "[8]\tvalidation_0-auc:0.75567\n",
      "[9]\tvalidation_0-auc:0.751077\n",
      "[10]\tvalidation_0-auc:0.751579\n",
      "[11]\tvalidation_0-auc:0.753697\n",
      "[12]\tvalidation_0-auc:0.754054\n",
      "[13]\tvalidation_0-auc:0.755547\n",
      "[14]\tvalidation_0-auc:0.754108\n",
      "[15]\tvalidation_0-auc:0.757216\n",
      "[16]\tvalidation_0-auc:0.757262\n",
      "[17]\tvalidation_0-auc:0.756842\n",
      "[18]\tvalidation_0-auc:0.755181\n",
      "[19]\tvalidation_0-auc:0.758643\n",
      "[20]\tvalidation_0-auc:0.760551\n",
      "[21]\tvalidation_0-auc:0.759474\n",
      "[22]\tvalidation_0-auc:0.761332\n",
      "[23]\tvalidation_0-auc:0.763141\n",
      "[24]\tvalidation_0-auc:0.764465\n",
      "[25]\tvalidation_0-auc:0.762114\n",
      "[26]\tvalidation_0-auc:0.761431\n",
      "[27]\tvalidation_0-auc:0.760074\n",
      "[28]\tvalidation_0-auc:0.760921\n",
      "[29]\tvalidation_0-auc:0.762812\n",
      "[30]\tvalidation_0-auc:0.764498\n",
      "[31]\tvalidation_0-auc:0.762072\n",
      "[32]\tvalidation_0-auc:0.762549\n",
      "[33]\tvalidation_0-auc:0.759433\n",
      "[34]\tvalidation_0-auc:0.759071\n",
      "[35]\tvalidation_0-auc:0.759745\n",
      "[36]\tvalidation_0-auc:0.761349\n",
      "[37]\tvalidation_0-auc:0.760913\n",
      "[38]\tvalidation_0-auc:0.762632\n",
      "[39]\tvalidation_0-auc:0.76185\n",
      "[40]\tvalidation_0-auc:0.763808\n",
      "Stopping. Best iteration:\n",
      "[30]\tvalidation_0-auc:0.764498\n",
      "\n",
      "1100\n",
      "[0]\tvalidation_0-auc:0.530086\n",
      "Will train until validation_0-auc hasn't improved in 10 rounds.\n",
      "[1]\tvalidation_0-auc:0.553787\n",
      "[2]\tvalidation_0-auc:0.636139\n",
      "[3]\tvalidation_0-auc:0.652364\n",
      "[4]\tvalidation_0-auc:0.656184\n",
      "[5]\tvalidation_0-auc:0.682697\n"
     ]
    },
    {
     "name": "stdout",
     "output_type": "stream",
     "text": [
      "[6]\tvalidation_0-auc:0.715576\n",
      "[7]\tvalidation_0-auc:0.729725\n",
      "[8]\tvalidation_0-auc:0.735789\n",
      "[9]\tvalidation_0-auc:0.74537\n",
      "[10]\tvalidation_0-auc:0.750465\n",
      "[11]\tvalidation_0-auc:0.751723\n",
      "[12]\tvalidation_0-auc:0.757471\n",
      "[13]\tvalidation_0-auc:0.753199\n",
      "[14]\tvalidation_0-auc:0.753931\n",
      "[15]\tvalidation_0-auc:0.759975\n",
      "[16]\tvalidation_0-auc:0.759794\n",
      "[17]\tvalidation_0-auc:0.756645\n",
      "[18]\tvalidation_0-auc:0.760148\n",
      "[19]\tvalidation_0-auc:0.760403\n",
      "[20]\tvalidation_0-auc:0.762007\n",
      "[21]\tvalidation_0-auc:0.760798\n",
      "[22]\tvalidation_0-auc:0.756546\n",
      "[23]\tvalidation_0-auc:0.757253\n",
      "[24]\tvalidation_0-auc:0.759671\n",
      "[25]\tvalidation_0-auc:0.757253\n",
      "[26]\tvalidation_0-auc:0.75616\n",
      "[27]\tvalidation_0-auc:0.752977\n",
      "[28]\tvalidation_0-auc:0.751283\n",
      "[29]\tvalidation_0-auc:0.752755\n",
      "[30]\tvalidation_0-auc:0.750773\n",
      "Stopping. Best iteration:\n",
      "[20]\tvalidation_0-auc:0.762007\n",
      "\n",
      "1200\n",
      "[0]\tvalidation_0-auc:0.664511\n",
      "Will train until validation_0-auc hasn't improved in 10 rounds.\n",
      "[1]\tvalidation_0-auc:0.679034\n",
      "[2]\tvalidation_0-auc:0.716303\n",
      "[3]\tvalidation_0-auc:0.749897\n",
      "[4]\tvalidation_0-auc:0.756546\n",
      "[5]\tvalidation_0-auc:0.769326\n",
      "[6]\tvalidation_0-auc:0.76081\n",
      "[7]\tvalidation_0-auc:0.753343\n",
      "[8]\tvalidation_0-auc:0.764449\n",
      "[9]\tvalidation_0-auc:0.760222\n",
      "[10]\tvalidation_0-auc:0.768039\n",
      "[11]\tvalidation_0-auc:0.778191\n",
      "[12]\tvalidation_0-auc:0.778466\n",
      "[13]\tvalidation_0-auc:0.776353\n",
      "[14]\tvalidation_0-auc:0.775567\n",
      "[15]\tvalidation_0-auc:0.77403\n",
      "[16]\tvalidation_0-auc:0.771209\n",
      "[17]\tvalidation_0-auc:0.769877\n",
      "[18]\tvalidation_0-auc:0.767336\n",
      "[19]\tvalidation_0-auc:0.765271\n",
      "[20]\tvalidation_0-auc:0.769087\n",
      "[21]\tvalidation_0-auc:0.767648\n",
      "[22]\tvalidation_0-auc:0.764383\n",
      "Stopping. Best iteration:\n",
      "[12]\tvalidation_0-auc:0.778466\n",
      "\n",
      "1300\n",
      "[0]\tvalidation_0-auc:0.685387\n",
      "Will train until validation_0-auc hasn't improved in 10 rounds.\n",
      "[1]\tvalidation_0-auc:0.728141\n",
      "[2]\tvalidation_0-auc:0.704194\n",
      "[3]\tvalidation_0-auc:0.723536\n",
      "[4]\tvalidation_0-auc:0.728935\n",
      "[5]\tvalidation_0-auc:0.747619\n",
      "[6]\tvalidation_0-auc:0.747619\n",
      "[7]\tvalidation_0-auc:0.762525\n",
      "[8]\tvalidation_0-auc:0.769169\n",
      "[9]\tvalidation_0-auc:0.7747\n",
      "[10]\tvalidation_0-auc:0.772956\n",
      "[11]\tvalidation_0-auc:0.767919\n",
      "[12]\tvalidation_0-auc:0.766168\n",
      "[13]\tvalidation_0-auc:0.770354\n",
      "[14]\tvalidation_0-auc:0.771476\n",
      "[15]\tvalidation_0-auc:0.770551\n",
      "[16]\tvalidation_0-auc:0.772607\n",
      "[17]\tvalidation_0-auc:0.771875\n",
      "[18]\tvalidation_0-auc:0.772656\n",
      "[19]\tvalidation_0-auc:0.774424\n",
      "Stopping. Best iteration:\n",
      "[9]\tvalidation_0-auc:0.7747\n",
      "\n",
      "1400\n",
      "[0]\tvalidation_0-auc:0.675942\n",
      "Will train until validation_0-auc hasn't improved in 10 rounds.\n",
      "[1]\tvalidation_0-auc:0.721896\n",
      "[2]\tvalidation_0-auc:0.724502\n",
      "[3]\tvalidation_0-auc:0.729864\n",
      "[4]\tvalidation_0-auc:0.74509\n",
      "[5]\tvalidation_0-auc:0.750337\n",
      "[6]\tvalidation_0-auc:0.751645\n",
      "[7]\tvalidation_0-auc:0.75317\n",
      "[8]\tvalidation_0-auc:0.759836\n",
      "[9]\tvalidation_0-auc:0.759075\n",
      "[10]\tvalidation_0-auc:0.763059\n",
      "[11]\tvalidation_0-auc:0.766123\n",
      "[12]\tvalidation_0-auc:0.767738\n",
      "[13]\tvalidation_0-auc:0.769959\n",
      "[14]\tvalidation_0-auc:0.774613\n",
      "[15]\tvalidation_0-auc:0.774729\n",
      "[16]\tvalidation_0-auc:0.773742\n",
      "[17]\tvalidation_0-auc:0.775822\n",
      "[18]\tvalidation_0-auc:0.772311\n",
      "[19]\tvalidation_0-auc:0.771563\n",
      "[20]\tvalidation_0-auc:0.776612\n",
      "[21]\tvalidation_0-auc:0.776127\n",
      "[22]\tvalidation_0-auc:0.773668\n",
      "[23]\tvalidation_0-auc:0.774737\n",
      "[24]\tvalidation_0-auc:0.770452\n",
      "[25]\tvalidation_0-auc:0.766003\n",
      "[26]\tvalidation_0-auc:0.764046\n",
      "[27]\tvalidation_0-auc:0.763569\n",
      "[28]\tvalidation_0-auc:0.765074\n",
      "[29]\tvalidation_0-auc:0.764655\n",
      "[30]\tvalidation_0-auc:0.764753\n",
      "Stopping. Best iteration:\n",
      "[20]\tvalidation_0-auc:0.776612\n",
      "\n",
      "1500\n",
      "[0]\tvalidation_0-auc:0.683544\n",
      "Will train until validation_0-auc hasn't improved in 10 rounds.\n",
      "[1]\tvalidation_0-auc:0.684712\n",
      "[2]\tvalidation_0-auc:0.705197\n",
      "[3]\tvalidation_0-auc:0.70419\n",
      "[4]\tvalidation_0-auc:0.699313\n",
      "[5]\tvalidation_0-auc:0.727175\n",
      "[6]\tvalidation_0-auc:0.740535\n",
      "[7]\tvalidation_0-auc:0.756526\n",
      "[8]\tvalidation_0-auc:0.756912\n",
      "[9]\tvalidation_0-auc:0.762072\n",
      "[10]\tvalidation_0-auc:0.759104\n",
      "[11]\tvalidation_0-auc:0.767245\n",
      "[12]\tvalidation_0-auc:0.769975\n",
      "[13]\tvalidation_0-auc:0.76898\n",
      "[14]\tvalidation_0-auc:0.765378\n",
      "[15]\tvalidation_0-auc:0.764178\n",
      "[16]\tvalidation_0-auc:0.762434\n",
      "[17]\tvalidation_0-auc:0.760707\n",
      "[18]\tvalidation_0-auc:0.759893\n",
      "[19]\tvalidation_0-auc:0.762878\n",
      "[20]\tvalidation_0-auc:0.761324\n",
      "[21]\tvalidation_0-auc:0.757204\n",
      "[22]\tvalidation_0-auc:0.762673\n",
      "Stopping. Best iteration:\n",
      "[12]\tvalidation_0-auc:0.769975\n",
      "\n",
      "1600\n",
      "[0]\tvalidation_0-auc:0.719523\n",
      "Will train until validation_0-auc hasn't improved in 10 rounds.\n",
      "[1]\tvalidation_0-auc:0.743919\n",
      "[2]\tvalidation_0-auc:0.741637\n",
      "[3]\tvalidation_0-auc:0.740403\n",
      "[4]\tvalidation_0-auc:0.747858\n",
      "[5]\tvalidation_0-auc:0.742266\n",
      "[6]\tvalidation_0-auc:0.748919\n",
      "[7]\tvalidation_0-auc:0.756073\n",
      "[8]\tvalidation_0-auc:0.764494\n",
      "[9]\tvalidation_0-auc:0.77072\n",
      "[10]\tvalidation_0-auc:0.771538\n",
      "[11]\tvalidation_0-auc:0.774264\n",
      "[12]\tvalidation_0-auc:0.772821\n",
      "[13]\tvalidation_0-auc:0.777492\n",
      "[14]\tvalidation_0-auc:0.780181\n",
      "[15]\tvalidation_0-auc:0.783832\n",
      "[16]\tvalidation_0-auc:0.780699\n",
      "[17]\tvalidation_0-auc:0.781743\n",
      "[18]\tvalidation_0-auc:0.779211\n",
      "[19]\tvalidation_0-auc:0.776842\n",
      "[20]\tvalidation_0-auc:0.776225\n",
      "[21]\tvalidation_0-auc:0.775099\n",
      "[22]\tvalidation_0-auc:0.774572\n",
      "[23]\tvalidation_0-auc:0.776785\n",
      "[24]\tvalidation_0-auc:0.774186\n",
      "[25]\tvalidation_0-auc:0.775403\n",
      "Stopping. Best iteration:\n",
      "[15]\tvalidation_0-auc:0.783832\n",
      "\n",
      "1700\n",
      "[0]\tvalidation_0-auc:0.698877\n",
      "Will train until validation_0-auc hasn't improved in 10 rounds.\n",
      "[1]\tvalidation_0-auc:0.747327\n",
      "[2]\tvalidation_0-auc:0.750736\n",
      "[3]\tvalidation_0-auc:0.753766\n",
      "[4]\tvalidation_0-auc:0.75882\n",
      "[5]\tvalidation_0-auc:0.758289\n",
      "[6]\tvalidation_0-auc:0.766846\n",
      "[7]\tvalidation_0-auc:0.769313\n",
      "[8]\tvalidation_0-auc:0.765436\n",
      "[9]\tvalidation_0-auc:0.769507\n",
      "[10]\tvalidation_0-auc:0.764301\n",
      "[11]\tvalidation_0-auc:0.764605\n",
      "[12]\tvalidation_0-auc:0.758577\n",
      "[13]\tvalidation_0-auc:0.756698\n",
      "[14]\tvalidation_0-auc:0.759445\n",
      "[15]\tvalidation_0-auc:0.758018\n",
      "[16]\tvalidation_0-auc:0.756941\n",
      "[17]\tvalidation_0-auc:0.758808\n",
      "[18]\tvalidation_0-auc:0.759926\n",
      "[19]\tvalidation_0-auc:0.760683\n",
      "Stopping. Best iteration:\n",
      "[9]\tvalidation_0-auc:0.769507\n",
      "\n",
      "1800\n",
      "[0]\tvalidation_0-auc:0.697274\n",
      "Will train until validation_0-auc hasn't improved in 10 rounds.\n",
      "[1]\tvalidation_0-auc:0.731447\n",
      "[2]\tvalidation_0-auc:0.745502\n",
      "[3]\tvalidation_0-auc:0.76294\n",
      "[4]\tvalidation_0-auc:0.760033\n",
      "[5]\tvalidation_0-auc:0.7553\n",
      "[6]\tvalidation_0-auc:0.764992\n",
      "[7]\tvalidation_0-auc:0.769465\n",
      "[8]\tvalidation_0-auc:0.765107\n",
      "[9]\tvalidation_0-auc:0.765436\n",
      "[10]\tvalidation_0-auc:0.767015\n",
      "[11]\tvalidation_0-auc:0.76822\n",
      "[12]\tvalidation_0-auc:0.774498\n",
      "[13]\tvalidation_0-auc:0.779457\n",
      "[14]\tvalidation_0-auc:0.777681\n",
      "[15]\tvalidation_0-auc:0.777188\n",
      "[16]\tvalidation_0-auc:0.774646\n",
      "[17]\tvalidation_0-auc:0.771809\n",
      "[18]\tvalidation_0-auc:0.77338\n",
      "[19]\tvalidation_0-auc:0.777722\n",
      "[20]\tvalidation_0-auc:0.777739\n",
      "[21]\tvalidation_0-auc:0.779449\n",
      "[22]\tvalidation_0-auc:0.779416\n",
      "[23]\tvalidation_0-auc:0.776316\n",
      "Stopping. Best iteration:\n",
      "[13]\tvalidation_0-auc:0.779457\n",
      "\n",
      "1900\n",
      "[0]\tvalidation_0-auc:0.679387\n",
      "Will train until validation_0-auc hasn't improved in 10 rounds.\n",
      "[1]\tvalidation_0-auc:0.662907\n",
      "[2]\tvalidation_0-auc:0.706086\n",
      "[3]\tvalidation_0-auc:0.72125\n",
      "[4]\tvalidation_0-auc:0.72986\n",
      "[5]\tvalidation_0-auc:0.7444\n",
      "[6]\tvalidation_0-auc:0.748602\n",
      "[7]\tvalidation_0-auc:0.753668\n",
      "[8]\tvalidation_0-auc:0.755234\n",
      "[9]\tvalidation_0-auc:0.757697\n",
      "[10]\tvalidation_0-auc:0.760958\n",
      "[11]\tvalidation_0-auc:0.757114\n",
      "[12]\tvalidation_0-auc:0.761616\n",
      "[13]\tvalidation_0-auc:0.757479\n",
      "[14]\tvalidation_0-auc:0.758688\n",
      "[15]\tvalidation_0-auc:0.757163\n",
      "[16]\tvalidation_0-auc:0.758643\n",
      "[17]\tvalidation_0-auc:0.757229\n",
      "[18]\tvalidation_0-auc:0.756645\n",
      "[19]\tvalidation_0-auc:0.758026\n",
      "[20]\tvalidation_0-auc:0.757599\n",
      "[21]\tvalidation_0-auc:0.759877\n",
      "[22]\tvalidation_0-auc:0.759128\n",
      "Stopping. Best iteration:\n",
      "[12]\tvalidation_0-auc:0.761616\n",
      "\n",
      "2000\n",
      "[0]\tvalidation_0-auc:0.684959\n",
      "Will train until validation_0-auc hasn't improved in 10 rounds.\n",
      "[1]\tvalidation_0-auc:0.729659\n",
      "[2]\tvalidation_0-auc:0.742541\n",
      "[3]\tvalidation_0-auc:0.751896\n",
      "[4]\tvalidation_0-auc:0.753816\n",
      "[5]\tvalidation_0-auc:0.762081\n",
      "[6]\tvalidation_0-auc:0.764712\n",
      "[7]\tvalidation_0-auc:0.766332\n",
      "[8]\tvalidation_0-auc:0.759219\n",
      "[9]\tvalidation_0-auc:0.758721\n",
      "[10]\tvalidation_0-auc:0.760781\n",
      "[11]\tvalidation_0-auc:0.758725\n",
      "[12]\tvalidation_0-auc:0.758869\n",
      "[13]\tvalidation_0-auc:0.758244\n",
      "[14]\tvalidation_0-auc:0.760859\n",
      "[15]\tvalidation_0-auc:0.76125\n",
      "[16]\tvalidation_0-auc:0.767015\n"
     ]
    },
    {
     "name": "stdout",
     "output_type": "stream",
     "text": [
      "[17]\tvalidation_0-auc:0.764671\n",
      "[18]\tvalidation_0-auc:0.765197\n",
      "[19]\tvalidation_0-auc:0.768561\n",
      "[20]\tvalidation_0-auc:0.769984\n",
      "[21]\tvalidation_0-auc:0.769276\n",
      "[22]\tvalidation_0-auc:0.771053\n",
      "[23]\tvalidation_0-auc:0.769391\n",
      "[24]\tvalidation_0-auc:0.767418\n",
      "[25]\tvalidation_0-auc:0.76634\n",
      "[26]\tvalidation_0-auc:0.766875\n",
      "[27]\tvalidation_0-auc:0.768413\n",
      "[28]\tvalidation_0-auc:0.766612\n",
      "[29]\tvalidation_0-auc:0.766867\n",
      "[30]\tvalidation_0-auc:0.765584\n",
      "[31]\tvalidation_0-auc:0.766102\n",
      "[32]\tvalidation_0-auc:0.767426\n",
      "Stopping. Best iteration:\n",
      "[22]\tvalidation_0-auc:0.771053\n",
      "\n",
      "2100\n",
      "[0]\tvalidation_0-auc:0.66824\n",
      "Will train until validation_0-auc hasn't improved in 10 rounds.\n",
      "[1]\tvalidation_0-auc:0.746065\n",
      "[2]\tvalidation_0-auc:0.738302\n",
      "[3]\tvalidation_0-auc:0.718244\n",
      "[4]\tvalidation_0-auc:0.73787\n",
      "[5]\tvalidation_0-auc:0.731904\n",
      "[6]\tvalidation_0-auc:0.744531\n",
      "[7]\tvalidation_0-auc:0.754498\n",
      "[8]\tvalidation_0-auc:0.758059\n",
      "[9]\tvalidation_0-auc:0.759396\n",
      "[10]\tvalidation_0-auc:0.761908\n",
      "[11]\tvalidation_0-auc:0.760798\n",
      "[12]\tvalidation_0-auc:0.756748\n",
      "[13]\tvalidation_0-auc:0.758795\n",
      "[14]\tvalidation_0-auc:0.762266\n",
      "[15]\tvalidation_0-auc:0.763668\n",
      "[16]\tvalidation_0-auc:0.76641\n",
      "[17]\tvalidation_0-auc:0.765341\n",
      "[18]\tvalidation_0-auc:0.767076\n",
      "[19]\tvalidation_0-auc:0.765432\n",
      "[20]\tvalidation_0-auc:0.765111\n",
      "[21]\tvalidation_0-auc:0.767632\n",
      "[22]\tvalidation_0-auc:0.76889\n",
      "[23]\tvalidation_0-auc:0.769293\n",
      "[24]\tvalidation_0-auc:0.770058\n",
      "[25]\tvalidation_0-auc:0.770378\n",
      "[26]\tvalidation_0-auc:0.771332\n",
      "[27]\tvalidation_0-auc:0.773438\n",
      "[28]\tvalidation_0-auc:0.772155\n",
      "[29]\tvalidation_0-auc:0.771061\n",
      "[30]\tvalidation_0-auc:0.77028\n",
      "[31]\tvalidation_0-auc:0.769638\n",
      "[32]\tvalidation_0-auc:0.768429\n",
      "[33]\tvalidation_0-auc:0.768166\n",
      "[34]\tvalidation_0-auc:0.768133\n",
      "[35]\tvalidation_0-auc:0.767558\n",
      "[36]\tvalidation_0-auc:0.765551\n",
      "[37]\tvalidation_0-auc:0.765543\n",
      "Stopping. Best iteration:\n",
      "[27]\tvalidation_0-auc:0.773438\n",
      "\n",
      "2200\n",
      "[0]\tvalidation_0-auc:0.577718\n",
      "Will train until validation_0-auc hasn't improved in 10 rounds.\n",
      "[1]\tvalidation_0-auc:0.602422\n",
      "[2]\tvalidation_0-auc:0.67229\n",
      "[3]\tvalidation_0-auc:0.690428\n",
      "[4]\tvalidation_0-auc:0.696579\n",
      "[5]\tvalidation_0-auc:0.691526\n",
      "[6]\tvalidation_0-auc:0.713158\n",
      "[7]\tvalidation_0-auc:0.718252\n",
      "[8]\tvalidation_0-auc:0.710489\n",
      "[9]\tvalidation_0-auc:0.710037\n",
      "[10]\tvalidation_0-auc:0.707623\n",
      "[11]\tvalidation_0-auc:0.707529\n",
      "[12]\tvalidation_0-auc:0.708762\n",
      "[13]\tvalidation_0-auc:0.721484\n",
      "[14]\tvalidation_0-auc:0.723935\n",
      "[15]\tvalidation_0-auc:0.73345\n",
      "[16]\tvalidation_0-auc:0.728762\n",
      "[17]\tvalidation_0-auc:0.733261\n",
      "[18]\tvalidation_0-auc:0.733738\n",
      "[19]\tvalidation_0-auc:0.740354\n",
      "[20]\tvalidation_0-auc:0.747278\n",
      "[21]\tvalidation_0-auc:0.751464\n",
      "[22]\tvalidation_0-auc:0.752747\n",
      "[23]\tvalidation_0-auc:0.75616\n",
      "[24]\tvalidation_0-auc:0.756464\n",
      "[25]\tvalidation_0-auc:0.756414\n",
      "[26]\tvalidation_0-auc:0.755559\n",
      "[27]\tvalidation_0-auc:0.757089\n",
      "[28]\tvalidation_0-auc:0.759572\n",
      "[29]\tvalidation_0-auc:0.758775\n",
      "[30]\tvalidation_0-auc:0.759293\n",
      "[31]\tvalidation_0-auc:0.75963\n",
      "[32]\tvalidation_0-auc:0.759441\n",
      "[33]\tvalidation_0-auc:0.759441\n",
      "[34]\tvalidation_0-auc:0.758988\n",
      "[35]\tvalidation_0-auc:0.760008\n",
      "[36]\tvalidation_0-auc:0.762204\n",
      "[37]\tvalidation_0-auc:0.761636\n",
      "[38]\tvalidation_0-auc:0.762204\n",
      "[39]\tvalidation_0-auc:0.763125\n",
      "[40]\tvalidation_0-auc:0.762755\n",
      "[41]\tvalidation_0-auc:0.762738\n",
      "[42]\tvalidation_0-auc:0.761686\n",
      "[43]\tvalidation_0-auc:0.763758\n",
      "[44]\tvalidation_0-auc:0.765222\n",
      "[45]\tvalidation_0-auc:0.765502\n",
      "[46]\tvalidation_0-auc:0.762845\n",
      "[47]\tvalidation_0-auc:0.762105\n",
      "[48]\tvalidation_0-auc:0.763265\n",
      "[49]\tvalidation_0-auc:0.762895\n",
      "[50]\tvalidation_0-auc:0.764605\n",
      "[51]\tvalidation_0-auc:0.765049\n",
      "[52]\tvalidation_0-auc:0.764696\n",
      "[53]\tvalidation_0-auc:0.765238\n",
      "[54]\tvalidation_0-auc:0.76338\n",
      "[55]\tvalidation_0-auc:0.764186\n",
      "Stopping. Best iteration:\n",
      "[45]\tvalidation_0-auc:0.765502\n",
      "\n",
      "2300\n",
      "[0]\tvalidation_0-auc:0.575522\n",
      "Will train until validation_0-auc hasn't improved in 10 rounds.\n",
      "[1]\tvalidation_0-auc:0.690888\n",
      "[2]\tvalidation_0-auc:0.676645\n",
      "[3]\tvalidation_0-auc:0.723372\n",
      "[4]\tvalidation_0-auc:0.750539\n",
      "[5]\tvalidation_0-auc:0.755062\n",
      "[6]\tvalidation_0-auc:0.753047\n",
      "[7]\tvalidation_0-auc:0.747422\n",
      "[8]\tvalidation_0-auc:0.759774\n",
      "[9]\tvalidation_0-auc:0.763503\n",
      "[10]\tvalidation_0-auc:0.766924\n",
      "[11]\tvalidation_0-auc:0.768709\n",
      "[12]\tvalidation_0-auc:0.76639\n",
      "[13]\tvalidation_0-auc:0.768914\n",
      "[14]\tvalidation_0-auc:0.770896\n",
      "[15]\tvalidation_0-auc:0.771044\n",
      "[16]\tvalidation_0-auc:0.77523\n",
      "[17]\tvalidation_0-auc:0.777393\n",
      "[18]\tvalidation_0-auc:0.779268\n",
      "[19]\tvalidation_0-auc:0.778602\n",
      "[20]\tvalidation_0-auc:0.778602\n",
      "[21]\tvalidation_0-auc:0.77889\n",
      "[22]\tvalidation_0-auc:0.781061\n",
      "[23]\tvalidation_0-auc:0.781604\n",
      "[24]\tvalidation_0-auc:0.780321\n",
      "[25]\tvalidation_0-auc:0.779679\n",
      "[26]\tvalidation_0-auc:0.778174\n",
      "[27]\tvalidation_0-auc:0.779161\n",
      "[28]\tvalidation_0-auc:0.778627\n",
      "[29]\tvalidation_0-auc:0.776982\n",
      "[30]\tvalidation_0-auc:0.776817\n",
      "[31]\tvalidation_0-auc:0.77722\n",
      "[32]\tvalidation_0-auc:0.775822\n",
      "[33]\tvalidation_0-auc:0.775\n",
      "Stopping. Best iteration:\n",
      "[23]\tvalidation_0-auc:0.781604\n",
      "\n",
      "2400\n",
      "[0]\tvalidation_0-auc:0.664905\n",
      "Will train until validation_0-auc hasn't improved in 10 rounds.\n",
      "[1]\tvalidation_0-auc:0.708532\n",
      "[2]\tvalidation_0-auc:0.732776\n",
      "[3]\tvalidation_0-auc:0.730621\n",
      "[4]\tvalidation_0-auc:0.741155\n",
      "[5]\tvalidation_0-auc:0.734992\n",
      "[6]\tvalidation_0-auc:0.731303\n",
      "[7]\tvalidation_0-auc:0.743191\n",
      "[8]\tvalidation_0-auc:0.749301\n",
      "[9]\tvalidation_0-auc:0.749716\n",
      "[10]\tvalidation_0-auc:0.752948\n",
      "[11]\tvalidation_0-auc:0.754157\n",
      "[12]\tvalidation_0-auc:0.756155\n",
      "[13]\tvalidation_0-auc:0.755037\n",
      "[14]\tvalidation_0-auc:0.756698\n",
      "[15]\tvalidation_0-auc:0.755909\n",
      "[16]\tvalidation_0-auc:0.759363\n",
      "[17]\tvalidation_0-auc:0.763557\n",
      "[18]\tvalidation_0-auc:0.765744\n",
      "[19]\tvalidation_0-auc:0.763803\n",
      "[20]\tvalidation_0-auc:0.765033\n",
      "[21]\tvalidation_0-auc:0.764967\n",
      "[22]\tvalidation_0-auc:0.763191\n",
      "[23]\tvalidation_0-auc:0.763388\n",
      "[24]\tvalidation_0-auc:0.764622\n",
      "[25]\tvalidation_0-auc:0.765329\n",
      "[26]\tvalidation_0-auc:0.763339\n",
      "[27]\tvalidation_0-auc:0.764013\n",
      "[28]\tvalidation_0-auc:0.765535\n",
      "Stopping. Best iteration:\n",
      "[18]\tvalidation_0-auc:0.765744\n",
      "\n",
      "2500\n",
      "[0]\tvalidation_0-auc:0.6584\n",
      "Will train until validation_0-auc hasn't improved in 10 rounds.\n",
      "[1]\tvalidation_0-auc:0.709079\n",
      "[2]\tvalidation_0-auc:0.727784\n",
      "[3]\tvalidation_0-auc:0.742911\n",
      "[4]\tvalidation_0-auc:0.754441\n",
      "[5]\tvalidation_0-auc:0.753137\n",
      "[6]\tvalidation_0-auc:0.759778\n",
      "[7]\tvalidation_0-auc:0.75706\n",
      "[8]\tvalidation_0-auc:0.762122\n",
      "[9]\tvalidation_0-auc:0.761624\n",
      "[10]\tvalidation_0-auc:0.762294\n",
      "[11]\tvalidation_0-auc:0.762529\n",
      "[12]\tvalidation_0-auc:0.766345\n",
      "[13]\tvalidation_0-auc:0.767216\n",
      "[14]\tvalidation_0-auc:0.766542\n",
      "[15]\tvalidation_0-auc:0.769095\n",
      "[16]\tvalidation_0-auc:0.766867\n",
      "[17]\tvalidation_0-auc:0.770419\n",
      "[18]\tvalidation_0-auc:0.766645\n",
      "[19]\tvalidation_0-auc:0.766612\n",
      "[20]\tvalidation_0-auc:0.766875\n",
      "[21]\tvalidation_0-auc:0.768438\n",
      "[22]\tvalidation_0-auc:0.765329\n",
      "[23]\tvalidation_0-auc:0.766077\n",
      "[24]\tvalidation_0-auc:0.766464\n",
      "[25]\tvalidation_0-auc:0.767451\n",
      "[26]\tvalidation_0-auc:0.765074\n",
      "[27]\tvalidation_0-auc:0.765724\n",
      "Stopping. Best iteration:\n",
      "[17]\tvalidation_0-auc:0.770419\n",
      "\n",
      "2600\n",
      "[0]\tvalidation_0-auc:0.549396\n",
      "Will train until validation_0-auc hasn't improved in 10 rounds.\n",
      "[1]\tvalidation_0-auc:0.690806\n",
      "[2]\tvalidation_0-auc:0.731357\n",
      "[3]\tvalidation_0-auc:0.736394\n",
      "[4]\tvalidation_0-auc:0.73544\n",
      "[5]\tvalidation_0-auc:0.735411\n",
      "[6]\tvalidation_0-auc:0.756155\n",
      "[7]\tvalidation_0-auc:0.764971\n",
      "[8]\tvalidation_0-auc:0.77354\n",
      "[9]\tvalidation_0-auc:0.775222\n",
      "[10]\tvalidation_0-auc:0.776805\n",
      "[11]\tvalidation_0-auc:0.779753\n",
      "[12]\tvalidation_0-auc:0.774852\n",
      "[13]\tvalidation_0-auc:0.775905\n",
      "[14]\tvalidation_0-auc:0.78111\n",
      "[15]\tvalidation_0-auc:0.782977\n",
      "[16]\tvalidation_0-auc:0.781151\n",
      "[17]\tvalidation_0-auc:0.780403\n",
      "[18]\tvalidation_0-auc:0.78097\n",
      "[19]\tvalidation_0-auc:0.785148\n",
      "[20]\tvalidation_0-auc:0.784375\n",
      "[21]\tvalidation_0-auc:0.781332\n",
      "[22]\tvalidation_0-auc:0.781719\n",
      "[23]\tvalidation_0-auc:0.779951\n",
      "[24]\tvalidation_0-auc:0.779712\n",
      "[25]\tvalidation_0-auc:0.777113\n",
      "[26]\tvalidation_0-auc:0.776464\n",
      "[27]\tvalidation_0-auc:0.776028\n",
      "[28]\tvalidation_0-auc:0.774597\n",
      "[29]\tvalidation_0-auc:0.773281\n",
      "Stopping. Best iteration:\n",
      "[19]\tvalidation_0-auc:0.785148\n",
      "\n",
      "2700\n",
      "[0]\tvalidation_0-auc:0.679276\n",
      "Will train until validation_0-auc hasn't improved in 10 rounds.\n",
      "[1]\tvalidation_0-auc:0.708684\n",
      "[2]\tvalidation_0-auc:0.700058\n",
      "[3]\tvalidation_0-auc:0.730296\n",
      "[4]\tvalidation_0-auc:0.733532\n",
      "[5]\tvalidation_0-auc:0.748203\n",
      "[6]\tvalidation_0-auc:0.74278\n",
      "[7]\tvalidation_0-auc:0.743631\n"
     ]
    },
    {
     "name": "stdout",
     "output_type": "stream",
     "text": [
      "[8]\tvalidation_0-auc:0.73741\n",
      "[9]\tvalidation_0-auc:0.736303\n",
      "[10]\tvalidation_0-auc:0.74426\n",
      "[11]\tvalidation_0-auc:0.746262\n",
      "[12]\tvalidation_0-auc:0.751472\n",
      "[13]\tvalidation_0-auc:0.750802\n",
      "[14]\tvalidation_0-auc:0.753816\n",
      "[15]\tvalidation_0-auc:0.751756\n",
      "[16]\tvalidation_0-auc:0.752516\n",
      "[17]\tvalidation_0-auc:0.75331\n",
      "[18]\tvalidation_0-auc:0.753446\n",
      "[19]\tvalidation_0-auc:0.75528\n",
      "[20]\tvalidation_0-auc:0.758479\n",
      "[21]\tvalidation_0-auc:0.757442\n",
      "[22]\tvalidation_0-auc:0.759013\n",
      "[23]\tvalidation_0-auc:0.760806\n",
      "[24]\tvalidation_0-auc:0.76065\n",
      "[25]\tvalidation_0-auc:0.760551\n",
      "[26]\tvalidation_0-auc:0.759539\n",
      "[27]\tvalidation_0-auc:0.759539\n",
      "[28]\tvalidation_0-auc:0.759836\n",
      "[29]\tvalidation_0-auc:0.761003\n",
      "[30]\tvalidation_0-auc:0.759457\n",
      "[31]\tvalidation_0-auc:0.76338\n",
      "[32]\tvalidation_0-auc:0.764803\n",
      "[33]\tvalidation_0-auc:0.766604\n",
      "[34]\tvalidation_0-auc:0.764556\n",
      "[35]\tvalidation_0-auc:0.76403\n",
      "[36]\tvalidation_0-auc:0.763824\n",
      "[37]\tvalidation_0-auc:0.764605\n",
      "[38]\tvalidation_0-auc:0.763586\n",
      "[39]\tvalidation_0-auc:0.763528\n",
      "[40]\tvalidation_0-auc:0.763684\n",
      "[41]\tvalidation_0-auc:0.763799\n",
      "[42]\tvalidation_0-auc:0.763791\n",
      "[43]\tvalidation_0-auc:0.762352\n",
      "Stopping. Best iteration:\n",
      "[33]\tvalidation_0-auc:0.766604\n",
      "\n",
      "2800\n",
      "[0]\tvalidation_0-auc:0.706007\n",
      "Will train until validation_0-auc hasn't improved in 10 rounds.\n",
      "[1]\tvalidation_0-auc:0.739149\n",
      "[2]\tvalidation_0-auc:0.737586\n",
      "[3]\tvalidation_0-auc:0.755218\n",
      "[4]\tvalidation_0-auc:0.760037\n",
      "[5]\tvalidation_0-auc:0.76521\n",
      "[6]\tvalidation_0-auc:0.767541\n",
      "[7]\tvalidation_0-auc:0.774297\n",
      "[8]\tvalidation_0-auc:0.778294\n",
      "[9]\tvalidation_0-auc:0.777899\n",
      "[10]\tvalidation_0-auc:0.779749\n",
      "[11]\tvalidation_0-auc:0.783873\n",
      "[12]\tvalidation_0-auc:0.784169\n",
      "[13]\tvalidation_0-auc:0.787706\n",
      "[14]\tvalidation_0-auc:0.786896\n",
      "[15]\tvalidation_0-auc:0.783092\n",
      "[16]\tvalidation_0-auc:0.784704\n",
      "[17]\tvalidation_0-auc:0.786168\n",
      "[18]\tvalidation_0-auc:0.787566\n",
      "[19]\tvalidation_0-auc:0.785008\n",
      "[20]\tvalidation_0-auc:0.786883\n",
      "[21]\tvalidation_0-auc:0.785469\n",
      "[22]\tvalidation_0-auc:0.78676\n",
      "[23]\tvalidation_0-auc:0.787155\n",
      "Stopping. Best iteration:\n",
      "[13]\tvalidation_0-auc:0.787706\n",
      "\n",
      "2900\n",
      "[0]\tvalidation_0-auc:0.741044\n",
      "Will train until validation_0-auc hasn't improved in 10 rounds.\n",
      "[1]\tvalidation_0-auc:0.756443\n",
      "[2]\tvalidation_0-auc:0.763565\n",
      "[3]\tvalidation_0-auc:0.740144\n",
      "[4]\tvalidation_0-auc:0.732529\n",
      "[5]\tvalidation_0-auc:0.744642\n",
      "[6]\tvalidation_0-auc:0.757373\n",
      "[7]\tvalidation_0-auc:0.762566\n",
      "[8]\tvalidation_0-auc:0.772114\n",
      "[9]\tvalidation_0-auc:0.771386\n",
      "[10]\tvalidation_0-auc:0.778261\n",
      "[11]\tvalidation_0-auc:0.771735\n",
      "[12]\tvalidation_0-auc:0.775485\n",
      "[13]\tvalidation_0-auc:0.774219\n",
      "[14]\tvalidation_0-auc:0.776242\n",
      "[15]\tvalidation_0-auc:0.776854\n",
      "[16]\tvalidation_0-auc:0.777743\n",
      "[17]\tvalidation_0-auc:0.777224\n",
      "[18]\tvalidation_0-auc:0.777981\n",
      "[19]\tvalidation_0-auc:0.777529\n",
      "[20]\tvalidation_0-auc:0.776505\n",
      "Stopping. Best iteration:\n",
      "[10]\tvalidation_0-auc:0.778261\n",
      "\n",
      "3000\n",
      "[0]\tvalidation_0-auc:0.712303\n",
      "Will train until validation_0-auc hasn't improved in 10 rounds.\n",
      "[1]\tvalidation_0-auc:0.704959\n",
      "[2]\tvalidation_0-auc:0.739914\n",
      "[3]\tvalidation_0-auc:0.750905\n",
      "[4]\tvalidation_0-auc:0.749786\n",
      "[5]\tvalidation_0-auc:0.756752\n",
      "[6]\tvalidation_0-auc:0.759206\n",
      "[7]\tvalidation_0-auc:0.760029\n",
      "[8]\tvalidation_0-auc:0.765025\n",
      "[9]\tvalidation_0-auc:0.765592\n",
      "[10]\tvalidation_0-auc:0.774186\n",
      "[11]\tvalidation_0-auc:0.773244\n",
      "[12]\tvalidation_0-auc:0.77287\n",
      "[13]\tvalidation_0-auc:0.775962\n",
      "[14]\tvalidation_0-auc:0.778713\n",
      "[15]\tvalidation_0-auc:0.776776\n",
      "[16]\tvalidation_0-auc:0.77486\n",
      "[17]\tvalidation_0-auc:0.77824\n",
      "[18]\tvalidation_0-auc:0.780197\n",
      "[19]\tvalidation_0-auc:0.782533\n",
      "[20]\tvalidation_0-auc:0.782048\n",
      "[21]\tvalidation_0-auc:0.783857\n",
      "[22]\tvalidation_0-auc:0.783084\n",
      "[23]\tvalidation_0-auc:0.783824\n",
      "[24]\tvalidation_0-auc:0.782607\n",
      "[25]\tvalidation_0-auc:0.780535\n",
      "[26]\tvalidation_0-auc:0.780206\n",
      "[27]\tvalidation_0-auc:0.77764\n",
      "[28]\tvalidation_0-auc:0.779383\n",
      "[29]\tvalidation_0-auc:0.777854\n",
      "[30]\tvalidation_0-auc:0.779087\n",
      "[31]\tvalidation_0-auc:0.779178\n",
      "Stopping. Best iteration:\n",
      "[21]\tvalidation_0-auc:0.783857\n",
      "\n",
      "3100\n",
      "[0]\tvalidation_0-auc:0.699605\n",
      "Will train until validation_0-auc hasn't improved in 10 rounds.\n",
      "[1]\tvalidation_0-auc:0.706879\n",
      "[2]\tvalidation_0-auc:0.735942\n",
      "[3]\tvalidation_0-auc:0.7478\n",
      "[4]\tvalidation_0-auc:0.742076\n",
      "[5]\tvalidation_0-auc:0.756135\n",
      "[6]\tvalidation_0-auc:0.750654\n",
      "[7]\tvalidation_0-auc:0.765008\n",
      "[8]\tvalidation_0-auc:0.770859\n",
      "[9]\tvalidation_0-auc:0.769334\n",
      "[10]\tvalidation_0-auc:0.770169\n",
      "[11]\tvalidation_0-auc:0.770506\n",
      "[12]\tvalidation_0-auc:0.772525\n",
      "[13]\tvalidation_0-auc:0.767944\n",
      "[14]\tvalidation_0-auc:0.77329\n",
      "[15]\tvalidation_0-auc:0.773692\n",
      "[16]\tvalidation_0-auc:0.774359\n",
      "[17]\tvalidation_0-auc:0.774774\n",
      "[18]\tvalidation_0-auc:0.776624\n",
      "[19]\tvalidation_0-auc:0.781575\n",
      "[20]\tvalidation_0-auc:0.7822\n",
      "[21]\tvalidation_0-auc:0.783483\n",
      "[22]\tvalidation_0-auc:0.783178\n",
      "[23]\tvalidation_0-auc:0.783577\n",
      "[24]\tvalidation_0-auc:0.784465\n",
      "[25]\tvalidation_0-auc:0.784984\n",
      "[26]\tvalidation_0-auc:0.785691\n",
      "[27]\tvalidation_0-auc:0.785757\n",
      "[28]\tvalidation_0-auc:0.785\n",
      "[29]\tvalidation_0-auc:0.78403\n",
      "[30]\tvalidation_0-auc:0.784465\n",
      "[31]\tvalidation_0-auc:0.785041\n",
      "[32]\tvalidation_0-auc:0.785469\n",
      "[33]\tvalidation_0-auc:0.783043\n",
      "[34]\tvalidation_0-auc:0.784827\n",
      "[35]\tvalidation_0-auc:0.784153\n",
      "[36]\tvalidation_0-auc:0.786275\n",
      "[37]\tvalidation_0-auc:0.786711\n",
      "[38]\tvalidation_0-auc:0.785814\n",
      "[39]\tvalidation_0-auc:0.785419\n",
      "[40]\tvalidation_0-auc:0.786488\n",
      "[41]\tvalidation_0-auc:0.787632\n",
      "[42]\tvalidation_0-auc:0.78741\n",
      "[43]\tvalidation_0-auc:0.787821\n",
      "[44]\tvalidation_0-auc:0.787673\n",
      "[45]\tvalidation_0-auc:0.787697\n",
      "[46]\tvalidation_0-auc:0.786044\n",
      "[47]\tvalidation_0-auc:0.786628\n",
      "[48]\tvalidation_0-auc:0.785913\n",
      "[49]\tvalidation_0-auc:0.785822\n",
      "[50]\tvalidation_0-auc:0.785304\n",
      "[51]\tvalidation_0-auc:0.784984\n",
      "[52]\tvalidation_0-auc:0.782919\n",
      "[53]\tvalidation_0-auc:0.782344\n",
      "Stopping. Best iteration:\n",
      "[43]\tvalidation_0-auc:0.787821\n",
      "\n",
      "3200\n",
      "[0]\tvalidation_0-auc:0.68794\n",
      "Will train until validation_0-auc hasn't improved in 10 rounds.\n",
      "[1]\tvalidation_0-auc:0.740711\n",
      "[2]\tvalidation_0-auc:0.741538\n",
      "[3]\tvalidation_0-auc:0.742097\n",
      "[4]\tvalidation_0-auc:0.750099\n",
      "[5]\tvalidation_0-auc:0.752578\n",
      "[6]\tvalidation_0-auc:0.746242\n",
      "[7]\tvalidation_0-auc:0.749589\n",
      "[8]\tvalidation_0-auc:0.754215\n",
      "[9]\tvalidation_0-auc:0.758849\n",
      "[10]\tvalidation_0-auc:0.757911\n",
      "[11]\tvalidation_0-auc:0.761365\n",
      "[12]\tvalidation_0-auc:0.761114\n",
      "[13]\tvalidation_0-auc:0.76058\n",
      "[14]\tvalidation_0-auc:0.760744\n",
      "[15]\tvalidation_0-auc:0.762965\n",
      "[16]\tvalidation_0-auc:0.763372\n",
      "[17]\tvalidation_0-auc:0.764252\n",
      "[18]\tvalidation_0-auc:0.767504\n",
      "[19]\tvalidation_0-auc:0.767504\n",
      "[20]\tvalidation_0-auc:0.764404\n",
      "[21]\tvalidation_0-auc:0.767447\n",
      "[22]\tvalidation_0-auc:0.766789\n",
      "[23]\tvalidation_0-auc:0.766731\n",
      "[24]\tvalidation_0-auc:0.768594\n",
      "[25]\tvalidation_0-auc:0.767615\n",
      "[26]\tvalidation_0-auc:0.766299\n",
      "[27]\tvalidation_0-auc:0.764642\n",
      "[28]\tvalidation_0-auc:0.76611\n",
      "[29]\tvalidation_0-auc:0.767475\n",
      "[30]\tvalidation_0-auc:0.765666\n",
      "[31]\tvalidation_0-auc:0.765715\n",
      "[32]\tvalidation_0-auc:0.766217\n",
      "[33]\tvalidation_0-auc:0.766645\n",
      "[34]\tvalidation_0-auc:0.767812\n",
      "Stopping. Best iteration:\n",
      "[24]\tvalidation_0-auc:0.768594\n",
      "\n"
     ]
    }
   ],
   "source": [
    "#iterate models over increasing training size\n",
    "xgbooster = xgb.XGBClassifier(missing=np.nan\n",
    "                    , max_depth=6\n",
    "                    , eta= .02\n",
    "                    , silent= 1\n",
    "                    , verbose = 0 #silent iteration\n",
    "                    , objective= 'binary:logistic'\n",
    "                    , scale_pos_weight= 3.06\n",
    "                    , max_delta_step=1\n",
    "                    , subsample=.9\n",
    "                    , n_estimators=128\n",
    "                    , colsample_bytree=.7\n",
    "                     ,seed=42)\n",
    "\n",
    "scorestrain=[]\n",
    "scorescv=[]\n",
    "iterations=[]\n",
    "\n",
    "for i in range(400,len(train_labels),100) :                \n",
    "    print(i)\n",
    "    xgbooster.fit(train_combined.tocsc()[:i], train_labels[:i], early_stopping_rounds=10, eval_metric=\"auc\",\n",
    "    eval_set=[(dev_combined, dev_labels)])\n",
    "    scorestrain.append(roc_auc_score(train_labels[:i], xgbooster.predict_proba(train_combined.tocsc()[:i], ntree_limit=xgbooster.best_iteration)[:,1]))\n",
    "    scorescv.append(roc_auc_score(dev_labels,xgbooster.predict_proba(dev_combined,ntree_limit=xgbooster.best_iteration)[:,1]))\n",
    "    iterations.append(i)\n"
   ]
  },
  {
   "cell_type": "code",
   "execution_count": 43,
   "metadata": {},
   "outputs": [
    {
     "data": {
      "text/plain": [
       "<matplotlib.legend.Legend at 0x1a1fa52b38>"
      ]
     },
     "execution_count": 43,
     "metadata": {},
     "output_type": "execute_result"
    },
    {
     "data": {
      "image/png": "[encoded data removed]",
      "text/plain": [
       "<matplotlib.figure.Figure at 0x1a199add68>"
      ]
     },
     "metadata": {},
     "output_type": "display_data"
    }
   ],
   "source": [
    "#plot training curve\n",
    "plt.figure(figsize=(10,7))\n",
    "plt.plot(iterations,scorestrain,'r')\n",
    "plt.plot(iterations,scorescv, 'b')\n",
    "plt.ylim(0,1.1)\n",
    "plt.xlim(0,3500)\n",
    "plt.xlabel('# training examples')\n",
    "plt.ylabel('AUC')\n",
    "plt.legend(['Training Set','Dev set'],loc='lower right')"
   ]
  },
  {
   "cell_type": "markdown",
   "metadata": {},
   "source": [
    "From the learning curve plotted above, we see that the model we chose might have had some overfitting and the AUC performance on the dev set doesn't seem to benefit from increasing number of training samples. Moreover, the learning curves for the training set and the dev set are still far from converging. We'd expect a higher AUC if we are able to tune our model to overfit less and gather a larger training size."
   ]
  },
  {
   "cell_type": "markdown",
   "metadata": {},
   "source": [
    "### 5.5 Missing features for test text"
   ]
  },
  {
   "cell_type": "code",
   "execution_count": 44,
   "metadata": {},
   "outputs": [
    {
     "name": "stdout",
     "output_type": "stream",
     "text": [
      "7.37 percent of the test set vocabulary is missing from the training set\n"
     ]
    }
   ],
   "source": [
    "TV = TfidfVectorizer(min_df=5,ngram_range=(1,2), preprocessor=pre_process,stop_words='english',norm='l2',sublinear_tf=True)\n",
    "test_set = set(TV.fit(test_data['post_and_title']).vocabulary_.keys())\n",
    "train_set = set(TV.fit(train_data['post_and_title']).vocabulary_.keys())\n",
    "\n",
    "print (round((len(test_set - train_set) / len(test_set) * 100), 2), 'percent of the test set vocabulary is missing from the training set') "
   ]
  },
  {
   "cell_type": "markdown",
   "metadata": {},
   "source": [
    "### 5.6 Understanding misclassified requests"
   ]
  },
  {
   "cell_type": "code",
   "execution_count": 45,
   "metadata": {},
   "outputs": [
    {
     "data": {
      "text/html": [
       "<div>\n",
       "<style>\n",
       "    .dataframe thead tr:only-child th {\n",
       "        text-align: right;\n",
       "    }\n",
       "\n",
       "    .dataframe thead th {\n",
       "        text-align: left;\n",
       "    }\n",
       "\n",
       "    .dataframe tbody tr th {\n",
       "        vertical-align: top;\n",
       "    }\n",
       "</style>\n",
       "<table border=\"1\" class=\"dataframe\">\n",
       "  <thead>\n",
       "    <tr style=\"text-align: right;\">\n",
       "      <th></th>\n",
       "      <th>giver_username_if_known</th>\n",
       "      <th>request_id</th>\n",
       "      <th>request_text_edit_aware</th>\n",
       "      <th>request_title</th>\n",
       "      <th>requester_account_age_in_days_at_request</th>\n",
       "      <th>requester_days_since_first_post_on_raop_at_request</th>\n",
       "      <th>requester_number_of_comments_at_request</th>\n",
       "      <th>requester_number_of_comments_in_raop_at_request</th>\n",
       "      <th>requester_number_of_posts_at_request</th>\n",
       "      <th>requester_number_of_posts_on_raop_at_request</th>\n",
       "      <th>requester_number_of_subreddits_at_request</th>\n",
       "      <th>requester_subreddits_at_request</th>\n",
       "      <th>requester_upvotes_minus_downvotes_at_request</th>\n",
       "      <th>requester_upvotes_plus_downvotes_at_request</th>\n",
       "      <th>requester_username</th>\n",
       "      <th>unix_timestamp_of_request</th>\n",
       "      <th>unix_timestamp_of_request_utc</th>\n",
       "      <th>post_and_title</th>\n",
       "      <th>dev_label</th>\n",
       "      <th>pred_label</th>\n",
       "    </tr>\n",
       "  </thead>\n",
       "  <tbody>\n",
       "    <tr>\n",
       "      <th>885</th>\n",
       "      <td>ch31415</td>\n",
       "      <td>t3_1n4znx</td>\n",
       "      <td>I am having crazy pizza pangs right now. Howev...</td>\n",
       "      <td>[Request] Aurora, CO 80017 - Really craving a ...</td>\n",
       "      <td>430.028530</td>\n",
       "      <td>0.0</td>\n",
       "      <td>907</td>\n",
       "      <td>0</td>\n",
       "      <td>32</td>\n",
       "      <td>0</td>\n",
       "      <td>64</td>\n",
       "      <td>[AdviceAnimals, AlienBlue, Android, AskReddit,...</td>\n",
       "      <td>2863</td>\n",
       "      <td>4801</td>\n",
       "      <td>chriscosta77</td>\n",
       "      <td>1.380179e+09</td>\n",
       "      <td>1.380150e+09</td>\n",
       "      <td>I am having crazy pizza pangs right now. Howev...</td>\n",
       "      <td>1</td>\n",
       "      <td>1</td>\n",
       "    </tr>\n",
       "    <tr>\n",
       "      <th>203</th>\n",
       "      <td>N/A</td>\n",
       "      <td>t3_14swrv</td>\n",
       "      <td>Totally broke and would really enjoy a warm pi...</td>\n",
       "      <td>[request] CA USA Broke between jobs Would love...</td>\n",
       "      <td>834.964317</td>\n",
       "      <td>0.0</td>\n",
       "      <td>805</td>\n",
       "      <td>0</td>\n",
       "      <td>34</td>\n",
       "      <td>0</td>\n",
       "      <td>34</td>\n",
       "      <td>[AskReddit, DayZBanana, DoesAnybodyElse, IAmA,...</td>\n",
       "      <td>1974</td>\n",
       "      <td>3250</td>\n",
       "      <td>exdigga</td>\n",
       "      <td>1.355430e+09</td>\n",
       "      <td>1.355430e+09</td>\n",
       "      <td>Totally broke and would really enjoy a warm pi...</td>\n",
       "      <td>0</td>\n",
       "      <td>0</td>\n",
       "    </tr>\n",
       "    <tr>\n",
       "      <th>551</th>\n",
       "      <td>N/A</td>\n",
       "      <td>t3_waksn</td>\n",
       "      <td>My sister and I have been living off Publix co...</td>\n",
       "      <td>[Request] Hungry for pizza</td>\n",
       "      <td>101.480116</td>\n",
       "      <td>0.0</td>\n",
       "      <td>16</td>\n",
       "      <td>0</td>\n",
       "      <td>8</td>\n",
       "      <td>0</td>\n",
       "      <td>7</td>\n",
       "      <td>[AdviceAnimals, AskReddit, askscience, gaming,...</td>\n",
       "      <td>43</td>\n",
       "      <td>179</td>\n",
       "      <td>Nigerio</td>\n",
       "      <td>1.341875e+09</td>\n",
       "      <td>1.341871e+09</td>\n",
       "      <td>My sister and I have been living off Publix co...</td>\n",
       "      <td>0</td>\n",
       "      <td>0</td>\n",
       "    </tr>\n",
       "    <tr>\n",
       "      <th>2236</th>\n",
       "      <td>N/A</td>\n",
       "      <td>t3_1dviqi</td>\n",
       "      <td>I'm off work and uni with glandular fever whic...</td>\n",
       "      <td>[request] Scotland, UK. Skint student with no ...</td>\n",
       "      <td>33.887014</td>\n",
       "      <td>0.0</td>\n",
       "      <td>27</td>\n",
       "      <td>0</td>\n",
       "      <td>5</td>\n",
       "      <td>0</td>\n",
       "      <td>2</td>\n",
       "      <td>[Random_Acts_Of_Amazon, pics]</td>\n",
       "      <td>156</td>\n",
       "      <td>200</td>\n",
       "      <td>alicelnwonderland</td>\n",
       "      <td>1.367953e+09</td>\n",
       "      <td>1.367950e+09</td>\n",
       "      <td>I'm off work and uni with glandular fever whic...</td>\n",
       "      <td>0</td>\n",
       "      <td>0</td>\n",
       "    </tr>\n",
       "    <tr>\n",
       "      <th>2445</th>\n",
       "      <td>N/A</td>\n",
       "      <td>t3_127cdj</td>\n",
       "      <td>I am really down in the dumps and a hot, steam...</td>\n",
       "      <td>[Request] Depressed and very lonely... complet...</td>\n",
       "      <td>0.000000</td>\n",
       "      <td>0.0</td>\n",
       "      <td>0</td>\n",
       "      <td>0</td>\n",
       "      <td>0</td>\n",
       "      <td>0</td>\n",
       "      <td>0</td>\n",
       "      <td>[]</td>\n",
       "      <td>0</td>\n",
       "      <td>0</td>\n",
       "      <td>nguyengiaan</td>\n",
       "      <td>1.351398e+09</td>\n",
       "      <td>1.351394e+09</td>\n",
       "      <td>I am really down in the dumps and a hot, steam...</td>\n",
       "      <td>0</td>\n",
       "      <td>0</td>\n",
       "    </tr>\n",
       "  </tbody>\n",
       "</table>\n",
       "</div>"
      ],
      "text/plain": [
       "     giver_username_if_known request_id  \\\n",
       "885                  ch31415  t3_1n4znx   \n",
       "203                      N/A  t3_14swrv   \n",
       "551                      N/A   t3_waksn   \n",
       "2236                     N/A  t3_1dviqi   \n",
       "2445                     N/A  t3_127cdj   \n",
       "\n",
       "                                request_text_edit_aware  \\\n",
       "885   I am having crazy pizza pangs right now. Howev...   \n",
       "203   Totally broke and would really enjoy a warm pi...   \n",
       "551   My sister and I have been living off Publix co...   \n",
       "2236  I'm off work and uni with glandular fever whic...   \n",
       "2445  I am really down in the dumps and a hot, steam...   \n",
       "\n",
       "                                          request_title  \\\n",
       "885   [Request] Aurora, CO 80017 - Really craving a ...   \n",
       "203   [request] CA USA Broke between jobs Would love...   \n",
       "551                          [Request] Hungry for pizza   \n",
       "2236  [request] Scotland, UK. Skint student with no ...   \n",
       "2445  [Request] Depressed and very lonely... complet...   \n",
       "\n",
       "      requester_account_age_in_days_at_request  \\\n",
       "885                                 430.028530   \n",
       "203                                 834.964317   \n",
       "551                                 101.480116   \n",
       "2236                                 33.887014   \n",
       "2445                                  0.000000   \n",
       "\n",
       "      requester_days_since_first_post_on_raop_at_request  \\\n",
       "885                                                 0.0    \n",
       "203                                                 0.0    \n",
       "551                                                 0.0    \n",
       "2236                                                0.0    \n",
       "2445                                                0.0    \n",
       "\n",
       "      requester_number_of_comments_at_request  \\\n",
       "885                                       907   \n",
       "203                                       805   \n",
       "551                                        16   \n",
       "2236                                       27   \n",
       "2445                                        0   \n",
       "\n",
       "      requester_number_of_comments_in_raop_at_request  \\\n",
       "885                                                 0   \n",
       "203                                                 0   \n",
       "551                                                 0   \n",
       "2236                                                0   \n",
       "2445                                                0   \n",
       "\n",
       "      requester_number_of_posts_at_request  \\\n",
       "885                                     32   \n",
       "203                                     34   \n",
       "551                                      8   \n",
       "2236                                     5   \n",
       "2445                                     0   \n",
       "\n",
       "      requester_number_of_posts_on_raop_at_request  \\\n",
       "885                                              0   \n",
       "203                                              0   \n",
       "551                                              0   \n",
       "2236                                             0   \n",
       "2445                                             0   \n",
       "\n",
       "      requester_number_of_subreddits_at_request  \\\n",
       "885                                          64   \n",
       "203                                          34   \n",
       "551                                           7   \n",
       "2236                                          2   \n",
       "2445                                          0   \n",
       "\n",
       "                        requester_subreddits_at_request  \\\n",
       "885   [AdviceAnimals, AlienBlue, Android, AskReddit,...   \n",
       "203   [AskReddit, DayZBanana, DoesAnybodyElse, IAmA,...   \n",
       "551   [AdviceAnimals, AskReddit, askscience, gaming,...   \n",
       "2236                      [Random_Acts_Of_Amazon, pics]   \n",
       "2445                                                 []   \n",
       "\n",
       "      requester_upvotes_minus_downvotes_at_request  \\\n",
       "885                                           2863   \n",
       "203                                           1974   \n",
       "551                                             43   \n",
       "2236                                           156   \n",
       "2445                                             0   \n",
       "\n",
       "      requester_upvotes_plus_downvotes_at_request requester_username  \\\n",
       "885                                          4801       chriscosta77   \n",
       "203                                          3250            exdigga   \n",
       "551                                           179            Nigerio   \n",
       "2236                                          200  alicelnwonderland   \n",
       "2445                                            0        nguyengiaan   \n",
       "\n",
       "      unix_timestamp_of_request  unix_timestamp_of_request_utc  \\\n",
       "885                1.380179e+09                   1.380150e+09   \n",
       "203                1.355430e+09                   1.355430e+09   \n",
       "551                1.341875e+09                   1.341871e+09   \n",
       "2236               1.367953e+09                   1.367950e+09   \n",
       "2445               1.351398e+09                   1.351394e+09   \n",
       "\n",
       "                                         post_and_title  dev_label  pred_label  \n",
       "885   I am having crazy pizza pangs right now. Howev...          1           1  \n",
       "203   Totally broke and would really enjoy a warm pi...          0           0  \n",
       "551   My sister and I have been living off Publix co...          0           0  \n",
       "2236  I'm off work and uni with glandular fever whic...          0           0  \n",
       "2445  I am really down in the dumps and a hot, steam...          0           0  "
      ]
     },
     "execution_count": 45,
     "metadata": {},
     "output_type": "execute_result"
    }
   ],
   "source": [
    "pred = bst.predict(ddev, ntree_limit=bst.best_iteration)\n",
    "dev_data_w_pred = dev_data.copy()\n",
    "dev_data_w_pred['dev_label'] = dev_labels\n",
    "dev_data_w_pred['pred_label'] = (pred > 0.5).astype(int)\n",
    "dev_data_w_pred.head(5)"
   ]
  },
  {
   "cell_type": "code",
   "execution_count": 46,
   "metadata": {},
   "outputs": [
    {
     "data": {
      "text/plain": [
       "dev_label  pred_label\n",
       "0          0             521\n",
       "           1              87\n",
       "1          0              94\n",
       "           1             106\n",
       "Name: request_id, dtype: int64"
      ]
     },
     "execution_count": 46,
     "metadata": {},
     "output_type": "execute_result"
    }
   ],
   "source": [
    "dev_data_w_pred.groupby(['dev_label', 'pred_label']).request_id.count()"
   ]
  },
  {
   "cell_type": "markdown",
   "metadata": {},
   "source": [
    "In the dev dataset, we see 87 false positive and 106 false negative. "
   ]
  },
  {
   "cell_type": "code",
   "execution_count": 47,
   "metadata": {
    "collapsed": true
   },
   "outputs": [],
   "source": [
    "#identify false negatives and false positives\n",
    "fp_text_list = list(dev_data_w_pred[(dev_data_w_pred.dev_label == 1) & (dev_data_w_pred.pred_label == 0)].post_and_title)\n",
    "fn_text_list = list(dev_data_w_pred[(dev_data_w_pred.dev_label == 0) & (dev_data_w_pred.pred_label == 1)].post_and_title)"
   ]
  },
  {
   "cell_type": "code",
   "execution_count": 48,
   "metadata": {},
   "outputs": [
    {
     "data": {
      "text/plain": [
       "[\"So it's that time of the term again when everyone's student loan has run out...except...unlike most students, I can't go home either because I have an 8000 word dissertation to write :’(. Please pitty me and feed me, pleeeaassee?\\n [REQUEST] Swansea, UK - I'm writing my dissertation and I'm out of monies :(\",\n",
       " \"I was invited to Reddit after playing checkers on Yahoo. I told the person that I was playing that I was craving a pizza, but didn't have any money to buy one. They suggested that I try my luck here. I've been eating rice and beans for about a week and while I shouldn't complain, it is getting old. A nice Hawaiian pizza would be more than enough for the wife and I. Something different to lift our spirits. Happy New Years from North Carolina! {Request} Bringing in the new year without a good meal\",\n",
       " \"I lost my debit card last night and don't currently have a vehicle to go get a new one... so I have no money until tomorrow at least. Anyone want to help me out with a pizza?  [Request] I'm just really hungry in Dallas, TX.\",\n",
       " \"First world problems here, nothing major.\\n\\nShort story, I am working on two competing projects within one company (doesn't make sense to me either) and I have tight deadlines on both.  So that means I get to work this weekend in order to even come close to meeting the deadline.  Who wants to cheer me up?  If nobody, that's cool too. [Request]Work deadlines + weekend = Fail\",\n",
       " \"Orange County, CA. This is *random* acts of pizza not *charitable* acts of pizza, so I suppose it's worth a shot. A pizza tonight would make me insanely happy. I'm drooling over thoughts of gooey cheese... mmmm :) [Request] I've never felt like anything terrible enough is happening in my life to feel like I deserve a pizza over some of the other people that request here.\"]"
      ]
     },
     "execution_count": 48,
     "metadata": {},
     "output_type": "execute_result"
    }
   ],
   "source": [
    "#false positives\n",
    "fp_text_list[:5]"
   ]
  },
  {
   "cell_type": "markdown",
   "metadata": {},
   "source": [
    "We see that some requests are from countries outsides of US, which although might be predicted to be a positive based on the other features, have a much lower probability of actually getting a pizza. A potential improvement is to add a feature indicating the location of the request."
   ]
  },
  {
   "cell_type": "code",
   "execution_count": 49,
   "metadata": {},
   "outputs": [
    {
     "data": {
      "text/plain": [
       "[\"I'm a student, and my fridge is empty. I would normally bike to the store and buy groceries for the week, but somehow I misplaced my debit card, and I don't have enough cash to feed myself.\\n\\nI would really appreciate a pizza until I can get to the bank tomorrow. I get my paycheck early next week, so I can pay it forward then. : ) [REQUEST] Lost my debit card, no cash, and the bank's closed.\",\n",
       " \"Feels really strange to ask.. but, long story short, I went to visit friends this weekend up at SDSU in Brookings, SD, and after checking my bank account, I saw a nice 900 dollar deduction... from a payment made in February.\\nI return back to Lincoln, NE in a couple days, and I can make it gas wise.. but if someone can spare a 5 dollar pizza hut calzone or something, i'd love it. Love. Probably couldn't eat it, because I'd marry it.. but it'd just be an elaborate ploy to get to the rest of it's family.\\nIf you can't give, words of encouragement are nice too. I can try to eat those. [Request] Stuck in South Dakota - school just processed a payment I made months ago. I have less than a hundred dollars, 300 miles to go, and a sad belly.\",\n",
       " 'i also started a new job, so after my first paycheck, i can pay it forward, or pizza you back up! thanks for the help guys [Request] Currently house/animal sitting for a friend, but she left no food besides half an onion... Can anyone help me out? (Boston, MA)',\n",
       " 'At the start of the month my car broke down. I came back two days later and it was stolen. Cant afford a new one but saving my butt off. Work doesnt pay nearly enough and i have only a couple of pennies to my name till friday but im happy i have a job. Just got off work and only ate a pb j sandwich for lunch and im starving, but sick of living off ramen and pb j for a week. Any offer would be greatly appreciated. [request] Its been one hell of a month',\n",
       " \"I'm not really sure how this works. What I need to tell you and such. I went out of the country last year, spent all my money, moved back into my old house with my roommate. But ever since I've had the hardest time getting back on top of my money. I had 2 jobs, but I decided recently to quit one and just move back in with my parents. I've got about 2 weeks left in this house, me and my friend who also doesn't have anywhere to stay live in this room. So now all my money goes towards paying off past due bills and people I owe money too, all Ive got in the kitchen its canned soup and fruit. Which is food, but its almost worse than eating ramen everyday, like a awful liquid diet. \\nBut whatever, I'm not gonna complain. I thought I'd see if theres anyone who'd like to share a pizza with me and my roommate sometime? Where located in Memphis. I suppose you PM me for the rest of the details. [REQUEST] Just another broke college student\"]"
      ]
     },
     "execution_count": 49,
     "metadata": {},
     "output_type": "execute_result"
    }
   ],
   "source": [
    "#false negatives\n",
    "fn_text_list[:5]"
   ]
  },
  {
   "cell_type": "markdown",
   "metadata": {},
   "source": [
    "We notice that there might be some requests mentioning reciprocity that our model couldn't correctly detect since we used a small word pool for that feature. If we can expand the word pool or even look at the metadata to see whether the requester has given before, we might have a more accurate detection of reciprocity and predict fewer false negatives.\n"
   ]
  },
  {
   "cell_type": "markdown",
   "metadata": {},
   "source": [
    "## 6. Conclusion"
   ]
  },
  {
   "cell_type": "markdown",
   "metadata": {},
   "source": [
    "Our final model uses XGABoost on total 133 features with:\n",
    "\n",
    "- 96 bag of words features \n",
    "- 26 features extracted from meta-data \n",
    "- 11 topic related features (5 meaningful topic features and 3 LDA topic features and 3 NMF topic features)\n"
   ]
  },
  {
   "cell_type": "code",
   "execution_count": 50,
   "metadata": {
    "collapsed": true
   },
   "outputs": [],
   "source": [
    "# reconstruct the features used in training data\n",
    "features = []\n",
    "for i in range(train_pruned_bow.shape[1]):\n",
    "    features.append('bag_of_words_' + str(i+1))\n",
    "\n",
    "\n",
    "for column in train_mat.columns:\n",
    "    if column != 'requester_received_pizza':\n",
    "        features.append(column)\n",
    "    \n",
    "j = 0\n",
    "for i in range(train_topics.shape[1]):\n",
    "    features.append('lda_topic_' + str(j+1))\n",
    "    j = j+1\n",
    "    \n",
    "for column in train_narrative_features.columns:\n",
    "    features.append(column)\n",
    "    \n",
    "j = 0\n",
    "for i in range(nmf_train.shape[1]):\n",
    "    features.append('nmf_topic_' + str(j+1))\n",
    "    j = j+1"
   ]
  },
  {
   "cell_type": "markdown",
   "metadata": {
    "collapsed": true
   },
   "source": [
    "### 6.1 Top 20 Features"
   ]
  },
  {
   "cell_type": "code",
   "execution_count": 51,
   "metadata": {},
   "outputs": [
    {
     "data": {
      "text/plain": [
       "<matplotlib.axes._subplots.AxesSubplot at 0x1a18f89048>"
      ]
     },
     "execution_count": 51,
     "metadata": {},
     "output_type": "execute_result"
    },
    {
     "data": {
      "image/png": "[encoded data removed]",
      "text/plain": [
       "<matplotlib.figure.Figure at 0x1a18f90898>"
      ]
     },
     "metadata": {},
     "output_type": "display_data"
    }
   ],
   "source": [
    "xgb.plot_importance(bst, max_num_features=20)"
   ]
  },
  {
   "cell_type": "code",
   "execution_count": 52,
   "metadata": {},
   "outputs": [
    {
     "name": "stdout",
     "output_type": "stream",
     "text": [
      "Top 20 features for our model:\n",
      "   community_age\n",
      "   lda_topic_1\n",
      "   money\n",
      "   lda_topic_2\n",
      "   nmf_topic_1\n",
      "   spell_err_post\n",
      "   vote_ratio\n",
      "   bag_of_words_60\n",
      "   upvotes_minus_downvotes\n",
      "   bag_of_words_67\n",
      "   bag_of_words_44\n",
      "   giver\n",
      "   lda_topic_3\n",
      "   nmf_topic_2\n",
      "   num_pizza_comments\n",
      "   req_age\n",
      "   len_request\n",
      "   first_post\n",
      "   bag_of_words_35\n",
      "   upvotes_plus_downvotes_at_request\n"
     ]
    }
   ],
   "source": [
    "top_20_feature_idx = [112, 122, 125, 123, 130, 121, 106, 59, 103, 66, 43, 114, 124, 131, 111, 107, 115, 102, 34, 104]\n",
    "\n",
    "print(\"Top 20 features for our model:\")\n",
    "for i in top_20_feature_idx:\n",
    "    print('   ' + features[i])"
   ]
  },
  {
   "cell_type": "markdown",
   "metadata": {},
   "source": [
    "\n",
    "** 1. Temporal Features**\n",
    "\n",
    "***community age*** - the month of the request since the beginning of the community is the #1 feature to predict for successful request. That makes sense because the longer the campaign goes on the lesser people are interested in participating unless there are marketing push at some point. \n",
    "\n",
    "\n",
    "** 2. Topic Related Features**\n",
    "\n",
    "The topic related features account for 4 of the top 5 features for successful request.  \n",
    "\n",
    "We follow the Stanford paper to create 5 meaningful topics ('money', 'work', 'college', 'family', 'friend') and only the topic 'money' get on the top 20 features list. \n",
    "\n",
    "However, when we create only 3 lda topics and 3 nmf topics from the training data and transform the training data with these topics, 5 of the 6 topics get on the top 20 feature list.   \n",
    "\n",
    "That's probably because the occurance of these meaningful topics in a request is less frequent.  However, every request would have some ratio of the 3 lda topics and 3 nmf topics.  Also, the reason to pick 3 topics is that  binary classification generally needs less features to differentiate between the 2 classes. \n",
    "\n",
    "** 3. Text Related Features **\n",
    "\n",
    "***% of spelling error in the request post*** - We find that ratio of spelling errors is #6 feature for whether a request is successful  \n",
    "\n",
    "***bag_of_words*** - 4 of the top 20 feature list are the ocurrance of specific words in the request\n",
    "\n",
    "***request length*** - we find that the length of the request is #17 feature to predict \n",
    "\n",
    "\n",
    "** 4. Social Features **\n",
    "\n",
    "***% of upvotes among sum of upvotes and downvotes *** - #7 feature\n",
    "\n",
    "***Difference of total upvotes and total downvotes of requester at time of request*** - #9 feature\n",
    "\n",
    "***Total number of comments in RAOP by requester at time of request***  - #15 feature \n",
    "\n",
    "***Sum of total upvotes and total downvotes of requester at time of request*** - #20 feature\n",
    "\n",
    "\n",
    "** 5. Requester Features**\n",
    "\n",
    "*** Whether the requester is a giver before *** - #12 feature\n",
    "\n",
    "*** Account age of requester in days at time of request*** - #16 feature\n",
    "\n",
    "*** Number of days between requesters first post on RAOP and this request *** #18 feature\n",
    "\n"
   ]
  },
  {
   "cell_type": "markdown",
   "metadata": {
    "collapsed": true
   },
   "source": [
    "### 6.2 Algorithm"
   ]
  },
  {
   "cell_type": "markdown",
   "metadata": {},
   "source": [
    "We used Naive Bayse, Logistic Regression and XGA Boost algorithms during model selection.  "
   ]
  },
  {
   "cell_type": "code",
   "execution_count": 53,
   "metadata": {},
   "outputs": [
    {
     "data": {
      "image/png": "[encoded data removed]",
      "text/plain": [
       "<matplotlib.figure.Figure at 0x1a1ba1ba90>"
      ]
     },
     "metadata": {},
     "output_type": "display_data"
    }
   ],
   "source": [
    "def plot_roc(y_test, label, y_score, label2, y_score2):\n",
    "    \n",
    "    # Compute ROC curve and ROC area for each class\n",
    "    fpr = dict()\n",
    "    tpr = dict()\n",
    "    roc_auc = dict()\n",
    "    fpr[0], tpr[0], _ = roc_curve(y_test, y_score)\n",
    "    roc_auc[0] = auc(fpr[0], tpr[0])\n",
    "\n",
    "    fpr[1], tpr[1], _ = roc_curve(y_test, y_score2)\n",
    "    roc_auc[1] = auc(fpr[1], tpr[1])\n",
    "    \n",
    "    plt.figure()\n",
    "    lw = 2\n",
    "    \n",
    "    plt.plot(fpr[0], tpr[0], color='darkorange',\n",
    "             lw=lw, label=label + ' (area = %0.2f)' % roc_auc[0])\n",
    "    \n",
    "    plt.plot(fpr[1], tpr[1], color='red',\n",
    "             lw=lw, label= label2 + ' (area = %0.2f)' % roc_auc[1])\n",
    "        \n",
    "    \n",
    "    plt.plot([0, 1], [0, 1], color='navy', lw=lw, linestyle='--')\n",
    "    \n",
    "    plt.xlim([0.0, 1.0])\n",
    "    plt.ylim([0.0, 1.05])\n",
    "    plt.title(\"ROC curve\")\n",
    "    plt.xlabel('False Positive Rate')\n",
    "    plt.ylabel('True Positive Rate')\n",
    "    plt.legend(loc=\"lower right\")\n",
    "    plt.show()\n",
    "\n",
    "plot_roc(dev_labels, \"Logistic Regression\", pred_dev_prob, \"XGA Boost\", pred_probas)"
   ]
  },
  {
   "cell_type": "code",
   "execution_count": 54,
   "metadata": {},
   "outputs": [
    {
     "name": "stdout",
     "output_type": "stream",
     "text": [
      "confusion matrix for Logistic Regression:\n",
      "[[603   5]\n",
      " [135  65]]\n",
      "confusion matrix for XGA Boost:\n",
      "[[463 145]\n",
      " [ 70 130]]\n"
     ]
    }
   ],
   "source": [
    "print(\"confusion matrix for Logistic Regression:\")\n",
    "print(confusion_matrix(dev_labels, pred_dev_prob > 0.5))\n",
    "\n",
    "print(\"confusion matrix for XGA Boost:\")\n",
    "print(confusion_matrix(dev_labels, pred_probas > 0.45))\n"
   ]
  },
  {
   "cell_type": "markdown",
   "metadata": {},
   "source": [
    "Requests that receive pizza is roughly 24% of the total requests in the training data\n",
    "\n",
    "From the confusion matrix, even though both logistic regression and XGA Boost have the same AUC, logistic regression fails to predict as many requests that receive pizza as XGA Boost.\n",
    "\n",
    "\n",
    "\n",
    "We submit the test prediction for logistic regression and XGABoost to Kaggle, the result from logistic regression is **0.65562** while the one from XGABoost is **0.71512**.  That means XGABoost is much better in generalizing to predict unseen data because of the boosting and pruning that reduce overfitting from the training data.\n"
   ]
  },
  {
   "cell_type": "markdown",
   "metadata": {},
   "source": [
    "## 7. Appendix"
   ]
  },
  {
   "cell_type": "markdown",
   "metadata": {},
   "source": [
    "There are a few other approaches that we try but they don't work as well as our final model "
   ]
  },
  {
   "cell_type": "markdown",
   "metadata": {},
   "source": [
    "### 7.1 Replicate the Stanford paper\n",
    "\n",
    "\n",
    "We try to replicate the Stanford paper from Tim Althoff, Cristian Danescu-Niculescu-Mizil, Dan Jurafsky. How to Ask for a Favor: A Case Study on the Success of Altruistic Requests, Proceedings of ICWSM, 2014. (http://cs.stanford.edu/~althoff/raop-dataset/altruistic_requests_icwsm.pdf)\n",
    "\n"
   ]
  },
  {
   "cell_type": "code",
   "execution_count": 55,
   "metadata": {
    "collapsed": true
   },
   "outputs": [],
   "source": [
    "from nltk.stem import SnowballStemmer\n",
    "s_stemmer = SnowballStemmer('english')\n",
    "\n",
    "\n",
    "def construct_features(data):\n",
    "    features=pd.DataFrame()\n",
    "    \n",
    "    features['community_age'] = (pd.to_datetime(data['unix_timestamp_of_request_utc'],utc = True, unit = 's') - \\\n",
    "                                pd.to_datetime('2010-12-8', format='%Y-%m-%d')).astype('timedelta64[D]')\n",
    "    \n",
    "    features['community_age'] = (features['community_age'] * 10./features.community_age.max()).astype(int)\n",
    "\n",
    "    features['first_half_of_month']=(pd.to_datetime(data['unix_timestamp_of_request_utc'],unit = 's').dt.day <= 15).astype(int) \n",
    "\n",
    "    features['gratitude'] = data['request_text_edit_aware'].apply( \\\n",
    "                                    lambda x: 1 if re.search(\"thank|appreciate|advance|consider\", x) else 0)\n",
    "    features['include_image'] = data['request_text_edit_aware'].apply(lambda x: 1 if re.search(\"imgur.com|.jpg|.png|.jpeg\", x) else 0)\n",
    "\n",
    "    features['reciprocity'] = data['request_text_edit_aware'].apply(\\\n",
    "                                    lambda x:1 if re.search(\"repay|pay.+back|pay.+forward|return.+favor|reciprocate\", x) else 0)\n",
    "    features['len_request']= (data['request_text_edit_aware'].apply(len) > 100).astype(int)\n",
    "\n",
    "    features['karma']=(data.requester_upvotes_minus_downvotes_at_request - data.requester_upvotes_minus_downvotes_at_request.mean()) \\\n",
    "                                /data.requester_upvotes_minus_downvotes_at_request.std()\n",
    "    features['karma'] = ((features.karma - features.karma.min()) * 3).astype(int)\n",
    "\n",
    "    features['posted_in_raop_before']= (data['requester_number_of_posts_on_raop_at_request'] > 0).astype(int)\n",
    "    \n",
    "    features['posted_before']= (data['requester_number_of_posts_at_request'] > 0).astype(int)\n",
    "    \n",
    "    return features\n",
    "\n",
    "\n",
    "def find_narr_count(narr,s):\n",
    "    ct=0\n",
    "    for word in narr:\n",
    "        ct+=s.split().count(s_stemmer.stem(word))\n",
    "        #print(s.split())\n",
    "    #return ct/len(s.split())\n",
    "    return ct\n",
    "\n",
    "def preprocessor(s):\n",
    "    \n",
    "    if len(s) > 0:\n",
    "        \n",
    "        s=s.lower()\n",
    "        \n",
    "        # replace all non-word character to ' ' \n",
    "        s = re.sub(r'\\W+', ' ', s)\n",
    "        \n",
    "        # replace all numeric sequence to '####'\n",
    "        s = re.sub(r'\\d+', '####', s)\n",
    "        \n",
    "        #p_stemmer = PorterStemmer()\n",
    "        #s = ' '.join([p_stemmer.stem(i) for i in s.split()])\n",
    "        \n",
    "        s_stemmer = SnowballStemmer('english')\n",
    "        s = ' '.join([s_stemmer.stem(s_stemmer.stem(i)) for i in s.split()])        \n",
    "    return s\n",
    "\n",
    "def construct_topic_features(data): \n",
    "    \n",
    "    data['full_text'] = data['request_text_edit_aware'] + ' ' + data['request_title']\n",
    "    clean_text = data['full_text'].apply(lambda s:preprocessor(s))\n",
    "\n",
    "    features = pd.DataFrame()\n",
    "\n",
    "    for n in narratives:\n",
    "        features[n[0]] = clean_text.apply(lambda s: find_narr_count(n,s))\n",
    "    return features"
   ]
  },
  {
   "cell_type": "code",
   "execution_count": 56,
   "metadata": {
    "collapsed": true
   },
   "outputs": [],
   "source": [
    "train_topic_features = construct_topic_features(train_data)\n",
    "dev_topic_features = construct_topic_features(dev_data)\n",
    "\n",
    "train_other_features = construct_features(train_data)\n",
    "dev_other_features = construct_features(dev_data)\n",
    "\n",
    "vectorizer = TfidfVectorizer(min_df=5,ngram_range=(1,2), preprocessor=preprocessor,stop_words='english',norm='l2',sublinear_tf=True) \n",
    "train_bag_of_words = vectorizer.fit_transform(train_data['full_text'])\n",
    "dev_bag_of_words = vectorizer.transform(dev_data['full_text'])\n",
    "\n",
    "train_features = hstack([train_other_features, train_topic_features, train_bag_of_words])\n",
    "dev_features = hstack([dev_other_features, dev_topic_features, dev_bag_of_words])"
   ]
  },
  {
   "cell_type": "code",
   "execution_count": 57,
   "metadata": {},
   "outputs": [
    {
     "name": "stdout",
     "output_type": "stream",
     "text": [
      "{'C': 1.0757575757575757}\n"
     ]
    },
    {
     "data": {
      "text/plain": [
       "0.6300657894736843"
      ]
     },
     "execution_count": 57,
     "metadata": {},
     "output_type": "execute_result"
    }
   ],
   "source": [
    "lr = LogisticRegression(tol=0.01)\n",
    "#parameters = {'C':[0.01, 0.1, 1, 10, 100]}\n",
    "parameters = {'C':np.linspace(0.5, 10, 100)}\n",
    "clf = GridSearchCV(lr, parameters)\n",
    "clf.fit(train_features, train_labels)\n",
    "pred_dev_prob = clf.predict_proba(dev_features)[:,1]\n",
    "pred_dev_labels = clf.predict(dev_features)\n",
    "\n",
    "print(clf.best_params_)\n",
    "roc_auc_score(dev_labels, pred_dev_prob, average='micro')"
   ]
  },
  {
   "cell_type": "markdown",
   "metadata": {},
   "source": [
    "According to the Stanford paper, the result is 0.672 and we see the AUC result from our replication is 0.63.  That could be because of different pre-processing, different count vectorizer or randomness of the training data.   \n",
    "\n",
    "The Stanford paper uses mainly binary features or decile features.  However, we find that our final model gives better result partly because it uses continuous features.  One possible reason is that when we binarize features, some information maybe lost.  \n",
    "\n",
    "Also, another main difference between the Stanford paper and our final model is that Stanford paper is trying to find inference from the model while we try to find the best prediction from our model.  Therefore, the Stanford paper   try to find features that can be interpreted easily. "
   ]
  },
  {
   "cell_type": "markdown",
   "metadata": {},
   "source": [
    "### 7.2 Augment the training data to balance between the 2 classes"
   ]
  },
  {
   "cell_type": "markdown",
   "metadata": {},
   "source": [
    "Since requests that receive pizza is roughly 24% of the total requests in the training data, we try to augment the training data using statistics from our training data so that the number of samples between the 2 classes are more balanced."
   ]
  },
  {
   "cell_type": "code",
   "execution_count": 58,
   "metadata": {
    "collapsed": true
   },
   "outputs": [],
   "source": [
    "# find the mean and std for each non-text feature that receives pizza \n",
    "other_features_mean = train_other_features[train_labels == 1].mean()\n",
    "other_features_std = train_other_features[train_labels == 1].std()\n",
    "\n",
    "mean_text_len = train_data[train_labels == 1]['full_text'].apply(lambda x: len(x.split())).mean()\n",
    "std_text_len = train_data[train_labels == 1]['full_text'].apply(lambda x: len(x.split())).std()\n",
    "\n",
    "mean_utc_time = train_data[train_labels == 1]['unix_timestamp_of_request_utc'].mean()\n",
    "std_utc_time = train_data[train_labels == 1]['unix_timestamp_of_request_utc'].std()\n",
    "\n",
    "mean_posted_in_raop_before = train_data[train_labels == 1]['requester_number_of_posts_on_raop_at_request'].mean()\n",
    "std_posted_in_raop_before = train_data[train_labels == 1]['requester_number_of_posts_on_raop_at_request'].std()\n",
    "\n",
    "mean_posted_before = train_data[train_labels == 1]['requester_number_of_posts_at_request'].mean()\n",
    "std_posted_before = train_data[train_labels == 1]['requester_number_of_posts_at_request'].std()\n"
   ]
  },
  {
   "cell_type": "code",
   "execution_count": 59,
   "metadata": {
    "collapsed": true
   },
   "outputs": [],
   "source": [
    "from datetime import datetime\n",
    "\n",
    "augment_sample_size = 1000\n",
    "\n",
    "# probability for bag of words\n",
    "nb = MultinomialNB()\n",
    "nb.fit(train_bag_of_words, train_labels)\n",
    "\n",
    "prob = np.zeros(nb.feature_log_prob_.shape)\n",
    "\n",
    "for i in range(nb.feature_log_prob_.shape[0]): \n",
    "    for j in range(nb.feature_log_prob_.shape[1]):\n",
    "        prob[i,j] = np.exp(nb.feature_log_prob_[i][j])\n",
    "\n",
    "\n",
    "# generate new samples\n",
    "new_train_other = pd.DataFrame(columns = ['community_age', 'first_half_of_month', 'gratitude', 'include_image',\\\n",
    "                                           'reciprocity', 'len_request', 'karma', 'posted_in_raop_before',\\\n",
    "                                           'posted_before', \\\n",
    "                                           'money', 'work', 'college', 'family', 'friend'])\n",
    "new_train_text = pd.DataFrame(columns = ['request_text_edit_aware'])\n",
    "\n",
    "\n",
    "for i in range(augment_sample_size):\n",
    "    \n",
    "    # generate non-text features\n",
    "    community_age = int(other_features_std.community_age * np.random.rand() + other_features_mean.community_age)\n",
    "    first_half_of_month = np.random.choice(2, 1, p = [1-other_features_mean.first_half_of_month, other_features_mean.first_half_of_month])[0]\n",
    "\n",
    "    include_image = np.random.choice(2, 1, p = [1-other_features_mean.include_image, other_features_mean.include_image])[0]\n",
    "    \n",
    "    length = int(std_text_len * np.random.rand() + mean_text_len)\n",
    "    len_request = int(length > 100)\n",
    "    karma = int(other_features_std.karma * np.random.rand() + other_features_mean.karma)\n",
    "    \n",
    "    requester_number_of_posts_on_raop_at_request = int(std_posted_in_raop_before * np.random.rand() + mean_posted_in_raop_before)\n",
    "    posted_in_raop_before = int(requester_number_of_posts_on_raop_at_request > 0)\n",
    "    \n",
    "    requester_number_of_posts_at_request = int(std_posted_before * np.random.rand() + mean_posted_before)\n",
    "\n",
    "    posted_before = int(requester_number_of_posts_at_request > 0)\n",
    "    \n",
    "    # generate text\n",
    "    new_text_array = []\n",
    "    for j in np.random.choice(len(vectorizer.vocabulary_), size=length, p=prob[1,:]):\n",
    "        new_text_array.append(list(vectorizer.vocabulary_.keys())[list(vectorizer.vocabulary_.values()).index(j)])\n",
    "    \n",
    "    new_text = \" \".join(new_text_array)\n",
    "    new_train_text.loc[i] = new_text\n",
    "    \n",
    "    \n",
    "    # fill other-text features \n",
    "    gratitude = 1 if re.search(\"thank|appreciate|advance|consider\", new_text) else 0\n",
    "    reciprocity = 1 if re.search(\"repay|pay.+back|pay.+forward|return.+favor|reciprocate\", new_text) else 0    \n",
    "    \n",
    " \n",
    "    money_topic = find_narr(money, new_text)\n",
    "    work_topic = find_narr(job, new_text)\n",
    "    college_topic = find_narr(student, new_text)\n",
    "    family_topic = find_narr(family, new_text)\n",
    "    friend_topic = find_narr(craving, new_text)\n",
    "    \n",
    "\n",
    "    new_train_other.loc[i] = [community_age, first_half_of_month, gratitude, include_image, \\\n",
    "                                reciprocity, len_request, karma, posted_in_raop_before, \\\n",
    "                                posted_before, \\\n",
    "                                money_topic, work_topic, college_topic, family_topic, friend_topic]\n",
    "    \n",
    "    \n",
    "new_train_other = new_train_other.astype(int)"
   ]
  },
  {
   "cell_type": "code",
   "execution_count": 60,
   "metadata": {},
   "outputs": [
    {
     "name": "stdout",
     "output_type": "stream",
     "text": [
      "(4232, 14)\n",
      "(4232,)\n"
     ]
    }
   ],
   "source": [
    "train_features = train_other_features.join(train_topic_features)\n",
    "train_features = train_features.append(new_train_other)\n",
    "print(train_features.shape)\n",
    "\n",
    "dev_features = dev_other_features.join(dev_topic_features)\n",
    "\n",
    "new_train_labels = np.append(train_labels, [1] * augment_sample_size)\n",
    "print(new_train_labels.shape)"
   ]
  },
  {
   "cell_type": "code",
   "execution_count": 61,
   "metadata": {
    "collapsed": true
   },
   "outputs": [],
   "source": [
    "vectorizer = TfidfVectorizer(min_df=5,ngram_range=(1,2), preprocessor=preprocessor,stop_words='english',norm='l2',sublinear_tf=True)\n",
    "train_bag_of_words = vectorizer.fit_transform(train_data['full_text'].append(new_train_text.request_text_edit_aware))\n",
    "dev_bag_of_words = vectorizer.transform(dev_data['full_text'])"
   ]
  },
  {
   "cell_type": "code",
   "execution_count": 64,
   "metadata": {
    "collapsed": true
   },
   "outputs": [],
   "source": [
    "train_features = hstack([train_features, train_bag_of_words])\n",
    "dev_features = hstack([dev_features, dev_bag_of_words])"
   ]
  },
  {
   "cell_type": "code",
   "execution_count": 66,
   "metadata": {},
   "outputs": [
    {
     "name": "stdout",
     "output_type": "stream",
     "text": [
      "{'C': 0.5}\n"
     ]
    },
    {
     "data": {
      "text/plain": [
       "0.63160361842105273"
      ]
     },
     "execution_count": 66,
     "metadata": {},
     "output_type": "execute_result"
    }
   ],
   "source": [
    "lr = LogisticRegression(tol=0.01)\n",
    "#parameters = {'C':[0.01, 0.1, 1, 10, 100]}\n",
    "parameters = {'C':np.linspace(0.5, 10, 100)}\n",
    "clf = GridSearchCV(lr, parameters)\n",
    "clf.fit(train_features, new_train_labels)\n",
    "pred_dev_prob = clf.predict_proba(dev_features)[:,1]\n",
    "pred_dev_labels = clf.predict(dev_features)\n",
    "\n",
    "print(clf.best_params_)\n",
    "roc_auc_score(dev_labels, pred_dev_prob, average='micro')"
   ]
  },
  {
   "cell_type": "markdown",
   "metadata": {},
   "source": [
    "Try augmenting the training data by generating more data using the statistics of the training data does not work.  That is because when generating new data using the pattern of the training data, the underlying pattern does not improve with the new data.  Therefore, there is nothing new to learn.\n"
   ]
  },
  {
   "cell_type": "code",
   "execution_count": null,
   "metadata": {
    "collapsed": true
   },
   "outputs": [],
   "source": []
  },
  {
   "cell_type": "code",
   "execution_count": null,
   "metadata": {
    "collapsed": true
   },
   "outputs": [],
   "source": []
  },
  {
   "cell_type": "code",
   "execution_count": null,
   "metadata": {
    "collapsed": true
   },
   "outputs": [],
   "source": []
  }
 ],
 "metadata": {
  "kernelspec": {
   "display_name": "Python [default]",
   "language": "python",
   "name": "python3"
  },
  "language_info": {
   "codemirror_mode": {
    "name": "ipython",
    "version": 3
   },
   "file_extension": ".py",
   "mimetype": "text/x-python",
   "name": "python",
   "nbconvert_exporter": "python",
   "pygments_lexer": "ipython3",
   "version": "3.6.4"
  }
 },
 "nbformat": 4,
 "nbformat_minor": 2
}
